{
 "cells": [
  {
   "cell_type": "markdown",
   "metadata": {},
   "source": [
    "# Tweets Analysis for Baseball Game Audience"
   ]
  },
  {
   "cell_type": "markdown",
   "metadata": {},
   "source": [
    "## Part 1 - Setup\n",
    "\n",
    "Setting up Spark and fetching the project data.  \n",
    "\n",
    "\n",
    "### About the data\n",
    "\n",
    "We will use JSON data from Twitter.\n",
    "\n",
    "This data was gathered using GWU Libraries' [Social Feed Manager](http://sfm.library.gwu.edu/) application during a recent game of the MLB World Series featuring the Los Angeles Dodgers and Houston Astros. "
   ]
  },
  {
   "cell_type": "markdown",
   "metadata": {},
   "source": [
    "The most important pieces in that metadata are:\n",
    "\n",
    " * It tracked tweets that mentioned \"dodgers\" or \"astros\".  Every item in this set should refer to one or the other, or both.\n",
    " * This data was not deduplicated; we may see individual items more than once.\n",
    " * Data was collected between October 29 and October 30.  Game 5 of the Series was played during this time.\n",
    " "
   ]
  },
  {
   "cell_type": "markdown",
   "metadata": {},
   "source": [
    "### Fetch the data\n",
    "\n",
    "The following files are available at:\n",
    "\n",
    " * https://s3.amazonaws.com/2017-dmfa/project-3/9670f3399f774789b7c3e18975d25611_003.json\n",
    " * https://s3.amazonaws.com/2017-dmfa/project-3/9670f3399f774789b7c3e18975d25611_004.json\n",
    " * https://s3.amazonaws.com/2017-dmfa/project-3/9670f3399f774789b7c3e18975d25611_005.json\n",
    " * https://s3.amazonaws.com/2017-dmfa/project-3/9670f3399f774789b7c3e18975d25611_006.json\n",
    " "
   ]
  },
  {
   "cell_type": "code",
   "execution_count": 5,
   "metadata": {},
   "outputs": [
    {
     "name": "stdout",
     "output_type": "stream",
     "text": [
      "--2017-11-03 11:55:58--  https://s3.amazonaws.com/2017-dmfa/project-3/9670f3399f774789b7c3e18975d25611_003.json\n",
      "Resolving s3.amazonaws.com (s3.amazonaws.com)... 52.216.20.149\n",
      "Connecting to s3.amazonaws.com (s3.amazonaws.com)|52.216.20.149|:443... connected.\n",
      "HTTP request sent, awaiting response... 200 OK\n",
      "Length: 595711407 (568M) [application/json]\n",
      "Saving to: ‘9670f3399f774789b7c3e18975d25611_003.json’\n",
      "\n",
      "9670f3399f774789b7c 100%[===================>] 568.11M  96.0MB/s    in 6.1s    \n",
      "\n",
      "2017-11-03 11:56:05 (93.2 MB/s) - ‘9670f3399f774789b7c3e18975d25611_003.json’ saved [595711407/595711407]\n",
      "\n"
     ]
    }
   ],
   "source": [
    "!wget https://s3.amazonaws.com/2017-dmfa/project-3/9670f3399f774789b7c3e18975d25611_003.json"
   ]
  },
  {
   "cell_type": "code",
   "execution_count": 6,
   "metadata": {},
   "outputs": [
    {
     "name": "stdout",
     "output_type": "stream",
     "text": [
      "--2017-11-03 11:56:06--  https://s3.amazonaws.com/2017-dmfa/project-3/9670f3399f774789b7c3e18975d25611_004.json\n",
      "Resolving s3.amazonaws.com (s3.amazonaws.com)... 52.216.0.171\n",
      "Connecting to s3.amazonaws.com (s3.amazonaws.com)|52.216.0.171|:443... connected.\n",
      "HTTP request sent, awaiting response... 200 OK\n",
      "Length: 549995846 (525M) [application/json]\n",
      "Saving to: ‘9670f3399f774789b7c3e18975d25611_004.json’\n",
      "\n",
      "9670f3399f774789b7c 100%[===================>] 524.52M  81.1MB/s    in 6.1s    \n",
      "\n",
      "2017-11-03 11:56:12 (85.4 MB/s) - ‘9670f3399f774789b7c3e18975d25611_004.json’ saved [549995846/549995846]\n",
      "\n"
     ]
    }
   ],
   "source": [
    "!wget https://s3.amazonaws.com/2017-dmfa/project-3/9670f3399f774789b7c3e18975d25611_004.json"
   ]
  },
  {
   "cell_type": "code",
   "execution_count": 7,
   "metadata": {},
   "outputs": [
    {
     "name": "stdout",
     "output_type": "stream",
     "text": [
      "--2017-11-03 11:56:19--  https://s3.amazonaws.com/2017-dmfa/project-3/9670f3399f774789b7c3e18975d25611_005.json\n",
      "Resolving s3.amazonaws.com (s3.amazonaws.com)... 54.231.32.106\n",
      "Connecting to s3.amazonaws.com (s3.amazonaws.com)|54.231.32.106|:443... connected.\n",
      "HTTP request sent, awaiting response... 200 OK\n",
      "Length: 530698683 (506M) [application/json]\n",
      "Saving to: ‘9670f3399f774789b7c3e18975d25611_005.json’\n",
      "\n",
      "9670f3399f774789b7c 100%[===================>] 506.11M  92.0MB/s    in 5.4s    \n",
      "\n",
      "2017-11-03 11:56:25 (93.2 MB/s) - ‘9670f3399f774789b7c3e18975d25611_005.json’ saved [530698683/530698683]\n",
      "\n"
     ]
    }
   ],
   "source": [
    "!wget https://s3.amazonaws.com/2017-dmfa/project-3/9670f3399f774789b7c3e18975d25611_005.json"
   ]
  },
  {
   "cell_type": "code",
   "execution_count": 8,
   "metadata": {},
   "outputs": [
    {
     "name": "stdout",
     "output_type": "stream",
     "text": [
      "--2017-11-03 11:56:34--  https://s3.amazonaws.com/2017-dmfa/project-3/9670f3399f774789b7c3e18975d25611_006.json\n",
      "Resolving s3.amazonaws.com (s3.amazonaws.com)... 52.216.162.5\n",
      "Connecting to s3.amazonaws.com (s3.amazonaws.com)|52.216.162.5|:443... connected.\n",
      "HTTP request sent, awaiting response... 200 OK\n",
      "Length: 545081593 (520M) [application/json]\n",
      "Saving to: ‘9670f3399f774789b7c3e18975d25611_006.json’\n",
      "\n",
      "9670f3399f774789b7c 100%[===================>] 519.83M  93.9MB/s    in 5.5s    \n",
      "\n",
      "2017-11-03 11:56:39 (95.2 MB/s) - ‘9670f3399f774789b7c3e18975d25611_006.json’ saved [545081593/545081593]\n",
      "\n"
     ]
    }
   ],
   "source": [
    "!wget https://s3.amazonaws.com/2017-dmfa/project-3/9670f3399f774789b7c3e18975d25611_006.json"
   ]
  },
  {
   "cell_type": "code",
   "execution_count": 9,
   "metadata": {},
   "outputs": [
    {
     "name": "stdout",
     "output_type": "stream",
     "text": [
      "    100000 9670f3399f774789b7c3e18975d25611_003.json\n",
      "    100000 9670f3399f774789b7c3e18975d25611_004.json\n",
      "    100000 9670f3399f774789b7c3e18975d25611_005.json\n",
      "    100000 9670f3399f774789b7c3e18975d25611_006.json\n",
      "    400000 total\n"
     ]
    }
   ],
   "source": [
    "!wc -l *.json"
   ]
  },
  {
   "cell_type": "markdown",
   "metadata": {},
   "source": [
    "Randomly select one from these files to take a look at the data structures. "
   ]
  },
  {
   "cell_type": "code",
   "execution_count": 85,
   "metadata": {
    "collapsed": true
   },
   "outputs": [],
   "source": [
    "!cat *.json | shuf -n 1 > example-tweet.json"
   ]
  },
  {
   "cell_type": "code",
   "execution_count": 86,
   "metadata": {
    "scrolled": true
   },
   "outputs": [
    {
     "name": "stdout",
     "output_type": "stream",
     "text": [
      "{\n",
      "  \"lang\": \"en\",\n",
      "  \"retweeted\": false,\n",
      "  \"contributors\": null,\n",
      "  \"text\": \"RT @astros: BREGMAN WALKS IT OFF! #ASTROSWIN 13-12! LET'S GOOOOOOOOOO https://t.co/wE5jsWV8ym\",\n",
      "  \"truncated\": false,\n",
      "  \"place\": null,\n",
      "  \"in_reply_to_status_id\": null,\n",
      "  \"retweet_count\": 0,\n",
      "  \"id_str\": \"924899969785614336\",\n",
      "  \"favorite_count\": 0,\n",
      "  \"created_at\": \"Mon Oct 30 07:25:11 +0000 2017\",\n",
      "  \"retweeted_status\": {\n",
      "    \"lang\": \"en\",\n",
      "    \"retweeted\": false,\n",
      "    \"text\": \"BREGMAN WALKS IT OFF! #ASTROSWIN 13-12! LET'S GOOOOOOOOOO https://t.co/wE5jsWV8ym\",\n",
      "    \"truncated\": false,\n",
      "    \"place\": null,\n",
      "    \"in_reply_to_status_id\": null,\n",
      "    \"retweet_count\": 11405,\n",
      "    \"id_str\": \"924873346252263424\",\n",
      "    \"favorite_count\": 12823,\n",
      "    \"created_at\": \"Mon Oct 30 05:39:23 +0000 2017\",\n",
      "    \"display_text_range\": [\n",
      "      0,\n",
      "      57\n",
      "    ],\n",
      "    \"in_reply_to_user_id_str\": null,\n",
      "    \"coordinates\": null,\n",
      "    \"id\": 924873346252263424,\n",
      "    \"filter_level\": \"low\",\n",
      "    \"favorited\": false,\n",
      "    \"reply_count\": 303,\n",
      "    \"in_reply_to_screen_name\": null,\n",
      "    \"is_quote_status\": false,\n",
      "    \"quote_count\": 666,\n",
      "    \"contributors\": null,\n",
      "    \"in_reply_to_user_id\": null,\n",
      "    \"in_reply_to_status_id_str\": null,\n",
      "    \"user\": {\n",
      "      \"lang\": \"en\",\n",
      "      \"default_profile\": false,\n",
      "      \"follow_request_sent\": null,\n",
      "      \"default_profile_image\": false,\n",
      "      \"description\": \"Official Twitter account of the Houston Astros. Customer service questions: @astrosassist. FB: Astros. IG: astrosbaseball. \\ud83d\\udc7b astros\",\n",
      "      \"favourites_count\": 12305,\n",
      "      \"profile_use_background_image\": true,\n",
      "      \"profile_background_tile\": false,\n",
      "      \"id\": 52803520,\n",
      "      \"listed_count\": 4149,\n",
      "      \"protected\": false,\n",
      "      \"profile_banner_url\": \"https://pbs.twimg.com/profile_banners/52803520/1508859384\",\n",
      "      \"contributors_enabled\": false,\n",
      "      \"screen_name\": \"astros\",\n",
      "      \"profile_link_color\": \"FF7700\",\n",
      "      \"created_at\": \"Wed Jul 01 18:16:16 +0000 2009\",\n",
      "      \"following\": null,\n",
      "      \"profile_image_url_https\": \"https://pbs.twimg.com/profile_images/922849208570281986/4uh4yust_normal.jpg\",\n",
      "      \"verified\": true,\n",
      "      \"translator_type\": \"none\",\n",
      "      \"profile_background_image_url_https\": \"https://pbs.twimg.com/profile_background_images/559481385501462529/ic-DODTn.jpeg\",\n",
      "      \"followers_count\": 1086090,\n",
      "      \"profile_text_color\": \"000000\",\n",
      "      \"profile_sidebar_fill_color\": \"EBD4AC\",\n",
      "      \"profile_image_url\": \"http://pbs.twimg.com/profile_images/922849208570281986/4uh4yust_normal.jpg\",\n",
      "      \"profile_sidebar_border_color\": \"FFFFFF\",\n",
      "      \"is_translator\": false,\n",
      "      \"id_str\": \"52803520\",\n",
      "      \"url\": \"http://Astros.com\",\n",
      "      \"location\": \"Minute Maid Park\",\n",
      "      \"friends_count\": 665,\n",
      "      \"geo_enabled\": true,\n",
      "      \"utc_offset\": -18000,\n",
      "      \"notifications\": null,\n",
      "      \"statuses_count\": 64980,\n",
      "      \"profile_background_color\": \"002D62\",\n",
      "      \"name\": \"Houston Astros\",\n",
      "      \"time_zone\": \"Central Time (US & Canada)\",\n",
      "      \"profile_background_image_url\": \"http://pbs.twimg.com/profile_background_images/559481385501462529/ic-DODTn.jpeg\"\n",
      "    },\n",
      "    \"possibly_sensitive\": false,\n",
      "    \"source\": \"<a href=\\\"http://twitter.com\\\" rel=\\\"nofollow\\\">Twitter Web Client</a>\",\n",
      "    \"entities\": {\n",
      "      \"media\": [\n",
      "        {\n",
      "          \"media_url_https\": \"https://pbs.twimg.com/tweet_video_thumb/DNXPTX-VAAAvRXk.jpg\",\n",
      "          \"id\": 924873230254407680,\n",
      "          \"type\": \"photo\",\n",
      "          \"expanded_url\": \"https://twitter.com/astros/status/924873346252263424/photo/1\",\n",
      "          \"sizes\": {\n",
      "            \"medium\": {\n",
      "              \"resize\": \"fit\",\n",
      "              \"w\": 480,\n",
      "              \"h\": 270\n",
      "            },\n",
      "            \"thumb\": {\n",
      "              \"resize\": \"crop\",\n",
      "              \"w\": 150,\n",
      "              \"h\": 150\n",
      "            },\n",
      "            \"large\": {\n",
      "              \"resize\": \"fit\",\n",
      "              \"w\": 480,\n",
      "              \"h\": 270\n",
      "            },\n",
      "            \"small\": {\n",
      "              \"resize\": \"fit\",\n",
      "              \"w\": 480,\n",
      "              \"h\": 270\n",
      "            }\n",
      "          },\n",
      "          \"media_url\": \"http://pbs.twimg.com/tweet_video_thumb/DNXPTX-VAAAvRXk.jpg\",\n",
      "          \"display_url\": \"pic.twitter.com/wE5jsWV8ym\",\n",
      "          \"url\": \"https://t.co/wE5jsWV8ym\",\n",
      "          \"id_str\": \"924873230254407680\",\n",
      "          \"indices\": [\n",
      "            58,\n",
      "            81\n",
      "          ]\n",
      "        }\n",
      "      ],\n",
      "      \"urls\": [],\n",
      "      \"user_mentions\": [],\n",
      "      \"symbols\": [],\n",
      "      \"hashtags\": [\n",
      "        {\n",
      "          \"text\": \"ASTROSWIN\",\n",
      "          \"indices\": [\n",
      "            22,\n",
      "            32\n",
      "          ]\n",
      "        }\n",
      "      ]\n",
      "    },\n",
      "    \"extended_entities\": {\n",
      "      \"media\": [\n",
      "        {\n",
      "          \"media_url_https\": \"https://pbs.twimg.com/tweet_video_thumb/DNXPTX-VAAAvRXk.jpg\",\n",
      "          \"id\": 924873230254407680,\n",
      "          \"type\": \"animated_gif\",\n",
      "          \"video_info\": {\n",
      "            \"aspect_ratio\": [\n",
      "              16,\n",
      "              9\n",
      "            ],\n",
      "            \"variants\": [\n",
      "              {\n",
      "                \"bitrate\": 0,\n",
      "                \"url\": \"https://video.twimg.com/tweet_video/DNXPTX-VAAAvRXk.mp4\",\n",
      "                \"content_type\": \"video/mp4\"\n",
      "              }\n",
      "            ]\n",
      "          },\n",
      "          \"id_str\": \"924873230254407680\",\n",
      "          \"sizes\": {\n",
      "            \"medium\": {\n",
      "              \"resize\": \"fit\",\n",
      "              \"w\": 480,\n",
      "              \"h\": 270\n",
      "            },\n",
      "            \"thumb\": {\n",
      "              \"resize\": \"crop\",\n",
      "              \"w\": 150,\n",
      "              \"h\": 150\n",
      "            },\n",
      "            \"large\": {\n",
      "              \"resize\": \"fit\",\n",
      "              \"w\": 480,\n",
      "              \"h\": 270\n",
      "            },\n",
      "            \"small\": {\n",
      "              \"resize\": \"fit\",\n",
      "              \"w\": 480,\n",
      "              \"h\": 270\n",
      "            }\n",
      "          },\n",
      "          \"media_url\": \"http://pbs.twimg.com/tweet_video_thumb/DNXPTX-VAAAvRXk.jpg\",\n",
      "          \"display_url\": \"pic.twitter.com/wE5jsWV8ym\",\n",
      "          \"url\": \"https://t.co/wE5jsWV8ym\",\n",
      "          \"expanded_url\": \"https://twitter.com/astros/status/924873346252263424/photo/1\",\n",
      "          \"indices\": [\n",
      "            58,\n",
      "            81\n",
      "          ]\n",
      "        }\n",
      "      ]\n",
      "    },\n",
      "    \"geo\": null\n",
      "  },\n",
      "  \"in_reply_to_user_id_str\": null,\n",
      "  \"coordinates\": null,\n",
      "  \"id\": 924899969785614336,\n",
      "  \"filter_level\": \"low\",\n",
      "  \"favorited\": false,\n",
      "  \"reply_count\": 0,\n",
      "  \"in_reply_to_screen_name\": null,\n",
      "  \"is_quote_status\": false,\n",
      "  \"quote_count\": 0,\n",
      "  \"timestamp_ms\": \"1509348311264\",\n",
      "  \"in_reply_to_user_id\": null,\n",
      "  \"in_reply_to_status_id_str\": null,\n",
      "  \"user\": {\n",
      "    \"lang\": \"en\",\n",
      "    \"default_profile\": false,\n",
      "    \"follow_request_sent\": null,\n",
      "    \"default_profile_image\": false,\n",
      "    \"description\": \"Always stay humble and kind\\u2728 ~insta:shannnonnnn ~ SHSU '19\",\n",
      "    \"favourites_count\": 6610,\n",
      "    \"profile_use_background_image\": true,\n",
      "    \"profile_background_tile\": false,\n",
      "    \"id\": 136410091,\n",
      "    \"listed_count\": 2,\n",
      "    \"protected\": false,\n",
      "    \"profile_banner_url\": \"https://pbs.twimg.com/profile_banners/136410091/1494448502\",\n",
      "    \"contributors_enabled\": false,\n",
      "    \"screen_name\": \"ShannonRenee_4\",\n",
      "    \"profile_link_color\": \"D02B55\",\n",
      "    \"created_at\": \"Fri Apr 23 21:51:00 +0000 2010\",\n",
      "    \"following\": null,\n",
      "    \"profile_image_url_https\": \"https://pbs.twimg.com/profile_images/909607233692094464/_o_h9ZGX_normal.jpg\",\n",
      "    \"verified\": false,\n",
      "    \"translator_type\": \"none\",\n",
      "    \"profile_background_image_url_https\": \"https://abs.twimg.com/images/themes/theme5/bg.gif\",\n",
      "    \"followers_count\": 715,\n",
      "    \"profile_text_color\": \"3E4415\",\n",
      "    \"profile_sidebar_fill_color\": \"99CC33\",\n",
      "    \"profile_image_url\": \"http://pbs.twimg.com/profile_images/909607233692094464/_o_h9ZGX_normal.jpg\",\n",
      "    \"profile_sidebar_border_color\": \"829D5E\",\n",
      "    \"is_translator\": false,\n",
      "    \"id_str\": \"136410091\",\n",
      "    \"url\": null,\n",
      "    \"location\": null,\n",
      "    \"friends_count\": 503,\n",
      "    \"geo_enabled\": false,\n",
      "    \"utc_offset\": -18000,\n",
      "    \"notifications\": null,\n",
      "    \"statuses_count\": 9075,\n",
      "    \"profile_background_color\": \"352726\",\n",
      "    \"name\": \"Shan\\u2728\",\n",
      "    \"time_zone\": \"Central Time (US & Canada)\",\n",
      "    \"profile_background_image_url\": \"http://abs.twimg.com/images/themes/theme5/bg.gif\"\n",
      "  },\n",
      "  \"possibly_sensitive\": false,\n",
      "  \"source\": \"<a href=\\\"http://twitter.com/download/iphone\\\" rel=\\\"nofollow\\\">Twitter for iPhone</a>\",\n",
      "  \"geo\": null,\n",
      "  \"extended_entities\": {\n",
      "    \"media\": [\n",
      "      {\n",
      "        \"source_status_id_str\": \"924873346252263424\",\n",
      "        \"source_user_id_str\": \"52803520\",\n",
      "        \"sizes\": {\n",
      "          \"medium\": {\n",
      "            \"resize\": \"fit\",\n",
      "            \"w\": 480,\n",
      "            \"h\": 270\n",
      "          },\n",
      "          \"thumb\": {\n",
      "            \"resize\": \"crop\",\n",
      "            \"w\": 150,\n",
      "            \"h\": 150\n",
      "          },\n",
      "          \"large\": {\n",
      "            \"resize\": \"fit\",\n",
      "            \"w\": 480,\n",
      "            \"h\": 270\n",
      "          },\n",
      "          \"small\": {\n",
      "            \"resize\": \"fit\",\n",
      "            \"w\": 480,\n",
      "            \"h\": 270\n",
      "          }\n",
      "        },\n",
      "        \"source_status_id\": 924873346252263424,\n",
      "        \"id\": 924873230254407680,\n",
      "        \"type\": \"animated_gif\",\n",
      "        \"id_str\": \"924873230254407680\",\n",
      "        \"media_url_https\": \"https://pbs.twimg.com/tweet_video_thumb/DNXPTX-VAAAvRXk.jpg\",\n",
      "        \"source_user_id\": 52803520,\n",
      "        \"video_info\": {\n",
      "          \"aspect_ratio\": [\n",
      "            16,\n",
      "            9\n",
      "          ],\n",
      "          \"variants\": [\n",
      "            {\n",
      "              \"bitrate\": 0,\n",
      "              \"url\": \"https://video.twimg.com/tweet_video/DNXPTX-VAAAvRXk.mp4\",\n",
      "              \"content_type\": \"video/mp4\"\n",
      "            }\n",
      "          ]\n",
      "        },\n",
      "        \"indices\": [\n",
      "          70,\n",
      "          93\n",
      "        ],\n",
      "        \"media_url\": \"http://pbs.twimg.com/tweet_video_thumb/DNXPTX-VAAAvRXk.jpg\",\n",
      "        \"display_url\": \"pic.twitter.com/wE5jsWV8ym\",\n",
      "        \"url\": \"https://t.co/wE5jsWV8ym\",\n",
      "        \"expanded_url\": \"https://twitter.com/astros/status/924873346252263424/photo/1\"\n",
      "      }\n",
      "    ]\n",
      "  },\n",
      "  \"entities\": {\n",
      "    \"media\": [\n",
      "      {\n",
      "        \"source_status_id_str\": \"924873346252263424\",\n",
      "        \"source_user_id_str\": \"52803520\",\n",
      "        \"source_status_id\": 924873346252263424,\n",
      "        \"sizes\": {\n",
      "          \"medium\": {\n",
      "            \"resize\": \"fit\",\n",
      "            \"w\": 480,\n",
      "            \"h\": 270\n",
      "          },\n",
      "          \"thumb\": {\n",
      "            \"resize\": \"crop\",\n",
      "            \"w\": 150,\n",
      "            \"h\": 150\n",
      "          },\n",
      "          \"large\": {\n",
      "            \"resize\": \"fit\",\n",
      "            \"w\": 480,\n",
      "            \"h\": 270\n",
      "          },\n",
      "          \"small\": {\n",
      "            \"resize\": \"fit\",\n",
      "            \"w\": 480,\n",
      "            \"h\": 270\n",
      "          }\n",
      "        },\n",
      "        \"id\": 924873230254407680,\n",
      "        \"type\": \"photo\",\n",
      "        \"id_str\": \"924873230254407680\",\n",
      "        \"media_url_https\": \"https://pbs.twimg.com/tweet_video_thumb/DNXPTX-VAAAvRXk.jpg\",\n",
      "        \"source_user_id\": 52803520,\n",
      "        \"indices\": [\n",
      "          70,\n",
      "          93\n",
      "        ],\n",
      "        \"media_url\": \"http://pbs.twimg.com/tweet_video_thumb/DNXPTX-VAAAvRXk.jpg\",\n",
      "        \"display_url\": \"pic.twitter.com/wE5jsWV8ym\",\n",
      "        \"url\": \"https://t.co/wE5jsWV8ym\",\n",
      "        \"expanded_url\": \"https://twitter.com/astros/status/924873346252263424/photo/1\"\n",
      "      }\n",
      "    ],\n",
      "    \"urls\": [],\n",
      "    \"user_mentions\": [\n",
      "      {\n",
      "        \"id\": 52803520,\n",
      "        \"screen_name\": \"astros\",\n",
      "        \"name\": \"Houston Astros\",\n",
      "        \"indices\": [\n",
      "          3,\n",
      "          10\n",
      "        ],\n",
      "        \"id_str\": \"52803520\"\n",
      "      }\n",
      "    ],\n",
      "    \"symbols\": [],\n",
      "    \"hashtags\": [\n",
      "      {\n",
      "        \"text\": \"ASTROSWIN\",\n",
      "        \"indices\": [\n",
      "          34,\n",
      "          44\n",
      "        ]\n",
      "      }\n",
      "    ]\n",
      "  }\n",
      "}\n"
     ]
    }
   ],
   "source": [
    "import json\n",
    "print(json.dumps(json.load(open(\"example-tweet.json\")), indent=2))"
   ]
  },
  {
   "cell_type": "markdown",
   "metadata": {},
   "source": [
    "We can find several key elements in this example; the text, time, and language of the tweet, whether it was a reply to another user, the user's screen name along with their primary language and other account information like creation date, follower/friend/tweet counts, and perhaps their location. If there are hashtags, user mentions, or urls present in their tweet, they will be present in the `entities` section, but these are not present in every tweet. "
   ]
  },
  {
   "cell_type": "markdown",
   "metadata": {},
   "source": [
    "### Start up Spark"
   ]
  },
  {
   "cell_type": "code",
   "execution_count": 2,
   "metadata": {
    "collapsed": true
   },
   "outputs": [],
   "source": [
    "import os"
   ]
  },
  {
   "cell_type": "code",
   "execution_count": 3,
   "metadata": {
    "collapsed": true
   },
   "outputs": [],
   "source": [
    "os.environ['SPARK_HOME'] = '/usr/local/lib/spark'"
   ]
  },
  {
   "cell_type": "code",
   "execution_count": 4,
   "metadata": {
    "collapsed": true
   },
   "outputs": [],
   "source": [
    "import findspark"
   ]
  },
  {
   "cell_type": "code",
   "execution_count": 5,
   "metadata": {
    "collapsed": true
   },
   "outputs": [],
   "source": [
    "findspark.init()"
   ]
  },
  {
   "cell_type": "code",
   "execution_count": 6,
   "metadata": {
    "collapsed": true
   },
   "outputs": [],
   "source": [
    "from pyspark import SparkContext"
   ]
  },
  {
   "cell_type": "code",
   "execution_count": 7,
   "metadata": {
    "collapsed": true
   },
   "outputs": [],
   "source": [
    "spark = SparkContext(appName='project-03')"
   ]
  },
  {
   "cell_type": "code",
   "execution_count": 8,
   "metadata": {},
   "outputs": [
    {
     "data": {
      "text/html": [
       "\n",
       "        <div>\n",
       "            <p><b>SparkContext</b></p>\n",
       "\n",
       "            <p><a href=\"http://172.30.2.206:4040\">Spark UI</a></p>\n",
       "\n",
       "            <dl>\n",
       "              <dt>Version</dt>\n",
       "                <dd><code>v2.2.0</code></dd>\n",
       "              <dt>Master</dt>\n",
       "                <dd><code>local[*]</code></dd>\n",
       "              <dt>AppName</dt>\n",
       "                <dd><code>project-03</code></dd>\n",
       "            </dl>\n",
       "        </div>\n",
       "        "
      ],
      "text/plain": [
       "<SparkContext master=local[*] appName=project-03>"
      ]
     },
     "execution_count": 8,
     "metadata": {},
     "output_type": "execute_result"
    }
   ],
   "source": [
    "spark"
   ]
  },
  {
   "cell_type": "code",
   "execution_count": 9,
   "metadata": {
    "collapsed": true
   },
   "outputs": [],
   "source": [
    "from pyspark import SQLContext"
   ]
  },
  {
   "cell_type": "code",
   "execution_count": 10,
   "metadata": {
    "collapsed": true
   },
   "outputs": [],
   "source": [
    "sqlc = SQLContext(spark)"
   ]
  },
  {
   "cell_type": "code",
   "execution_count": 11,
   "metadata": {},
   "outputs": [
    {
     "data": {
      "text/plain": [
       "<pyspark.sql.context.SQLContext at 0x7f5fe8ff3588>"
      ]
     },
     "execution_count": 11,
     "metadata": {},
     "output_type": "execute_result"
    }
   ],
   "source": [
    "sqlc"
   ]
  },
  {
   "cell_type": "code",
   "execution_count": 12,
   "metadata": {
    "collapsed": true
   },
   "outputs": [],
   "source": [
    "tweets = sqlc.read.json(\"9670f3399f774789b7c3e18975d25611_*.json\")"
   ]
  },
  {
   "cell_type": "code",
   "execution_count": 13,
   "metadata": {},
   "outputs": [
    {
     "data": {
      "text/plain": [
       "400000"
      ]
     },
     "execution_count": 13,
     "metadata": {},
     "output_type": "execute_result"
    }
   ],
   "source": [
    "tweets.count()"
   ]
  },
  {
   "cell_type": "markdown",
   "metadata": {},
   "source": [
    "We see exactly the same number of tweets in Spark that we saw on the command line; this looks correct."
   ]
  },
  {
   "cell_type": "markdown",
   "metadata": {},
   "source": [
    "## Part 2 - User Profile and Tweets Analysis(using both DataFrames and Spark SQL)"
   ]
  },
  {
   "cell_type": "code",
   "execution_count": 14,
   "metadata": {},
   "outputs": [
    {
     "data": {
      "text/plain": [
       "DataFrame[contributors: string, coordinates: struct<coordinates:array<double>,type:string>, created_at: string, display_text_range: array<bigint>, entities: struct<hashtags:array<struct<indices:array<bigint>,text:string>>,media:array<struct<display_url:string,expanded_url:string,id:bigint,id_str:string,indices:array<bigint>,media_url:string,media_url_https:string,sizes:struct<large:struct<h:bigint,resize:string,w:bigint>,medium:struct<h:bigint,resize:string,w:bigint>,small:struct<h:bigint,resize:string,w:bigint>,thumb:struct<h:bigint,resize:string,w:bigint>>,source_status_id:bigint,source_status_id_str:string,source_user_id:bigint,source_user_id_str:string,type:string,url:string>>,symbols:array<struct<indices:array<bigint>,text:string>>,urls:array<struct<display_url:string,expanded_url:string,indices:array<bigint>,url:string>>,user_mentions:array<struct<id:bigint,id_str:string,indices:array<bigint>,name:string,screen_name:string>>>, extended_entities: struct<media:array<struct<display_url:string,expanded_url:string,id:bigint,id_str:string,indices:array<bigint>,media_url:string,media_url_https:string,sizes:struct<large:struct<h:bigint,resize:string,w:bigint>,medium:struct<h:bigint,resize:string,w:bigint>,small:struct<h:bigint,resize:string,w:bigint>,thumb:struct<h:bigint,resize:string,w:bigint>>,source_status_id:bigint,source_status_id_str:string,source_user_id:bigint,source_user_id_str:string,type:string,url:string,video_info:struct<aspect_ratio:array<bigint>,duration_millis:bigint,variants:array<struct<bitrate:bigint,content_type:string,url:string>>>>>>, extended_tweet: struct<display_text_range:array<bigint>,entities:struct<hashtags:array<struct<indices:array<bigint>,text:string>>,media:array<struct<display_url:string,expanded_url:string,id:bigint,id_str:string,indices:array<bigint>,media_url:string,media_url_https:string,sizes:struct<large:struct<h:bigint,resize:string,w:bigint>,medium:struct<h:bigint,resize:string,w:bigint>,small:struct<h:bigint,resize:string,w:bigint>,thumb:struct<h:bigint,resize:string,w:bigint>>,source_status_id:bigint,source_status_id_str:string,source_user_id:bigint,source_user_id_str:string,type:string,url:string,video_info:struct<aspect_ratio:array<bigint>,duration_millis:bigint,variants:array<struct<bitrate:bigint,content_type:string,url:string>>>>>,symbols:array<string>,urls:array<struct<display_url:string,expanded_url:string,indices:array<bigint>,url:string>>,user_mentions:array<struct<id:bigint,id_str:string,indices:array<bigint>,name:string,screen_name:string>>>,extended_entities:struct<media:array<struct<display_url:string,expanded_url:string,id:bigint,id_str:string,indices:array<bigint>,media_url:string,media_url_https:string,sizes:struct<large:struct<h:bigint,resize:string,w:bigint>,medium:struct<h:bigint,resize:string,w:bigint>,small:struct<h:bigint,resize:string,w:bigint>,thumb:struct<h:bigint,resize:string,w:bigint>>,source_status_id:bigint,source_status_id_str:string,source_user_id:bigint,source_user_id_str:string,type:string,url:string,video_info:struct<aspect_ratio:array<bigint>,duration_millis:bigint,variants:array<struct<bitrate:bigint,content_type:string,url:string>>>>>>,full_text:string>, favorite_count: bigint, favorited: boolean, filter_level: string, geo: struct<coordinates:array<double>,type:string>, id: bigint, id_str: string, in_reply_to_screen_name: string, in_reply_to_status_id: bigint, in_reply_to_status_id_str: string, in_reply_to_user_id: bigint, in_reply_to_user_id_str: string, is_quote_status: boolean, lang: string, place: struct<bounding_box:struct<coordinates:array<array<array<double>>>,type:string>,country:string,country_code:string,full_name:string,id:string,name:string,place_type:string,url:string>, possibly_sensitive: boolean, quote_count: bigint, quoted_status: struct<contributors:string,coordinates:struct<coordinates:array<double>,type:string>,created_at:string,display_text_range:array<bigint>,entities:struct<hashtags:array<struct<indices:array<bigint>,text:string>>,media:array<struct<description:string,display_url:string,expanded_url:string,id:bigint,id_str:string,indices:array<bigint>,media_url:string,media_url_https:string,sizes:struct<large:struct<h:bigint,resize:string,w:bigint>,medium:struct<h:bigint,resize:string,w:bigint>,small:struct<h:bigint,resize:string,w:bigint>,thumb:struct<h:bigint,resize:string,w:bigint>>,source_status_id:bigint,source_status_id_str:string,source_user_id:bigint,source_user_id_str:string,type:string,url:string>>,symbols:array<string>,urls:array<struct<display_url:string,expanded_url:string,indices:array<bigint>,url:string>>,user_mentions:array<struct<id:bigint,id_str:string,indices:array<bigint>,name:string,screen_name:string>>>,extended_entities:struct<media:array<struct<description:string,display_url:string,expanded_url:string,id:bigint,id_str:string,indices:array<bigint>,media_url:string,media_url_https:string,sizes:struct<large:struct<h:bigint,resize:string,w:bigint>,medium:struct<h:bigint,resize:string,w:bigint>,small:struct<h:bigint,resize:string,w:bigint>,thumb:struct<h:bigint,resize:string,w:bigint>>,source_status_id:bigint,source_status_id_str:string,source_user_id:bigint,source_user_id_str:string,type:string,url:string,video_info:struct<aspect_ratio:array<bigint>,duration_millis:bigint,variants:array<struct<bitrate:bigint,content_type:string,url:string>>>>>>,extended_tweet:struct<display_text_range:array<bigint>,entities:struct<hashtags:array<struct<indices:array<bigint>,text:string>>,media:array<struct<display_url:string,expanded_url:string,id:bigint,id_str:string,indices:array<bigint>,media_url:string,media_url_https:string,sizes:struct<large:struct<h:bigint,resize:string,w:bigint>,medium:struct<h:bigint,resize:string,w:bigint>,small:struct<h:bigint,resize:string,w:bigint>,thumb:struct<h:bigint,resize:string,w:bigint>>,source_status_id:bigint,source_status_id_str:string,source_user_id:bigint,source_user_id_str:string,type:string,url:string,video_info:struct<aspect_ratio:array<bigint>,duration_millis:bigint,variants:array<struct<bitrate:bigint,content_type:string,url:string>>>>>,symbols:array<string>,urls:array<struct<display_url:string,expanded_url:string,indices:array<bigint>,url:string>>,user_mentions:array<struct<id:bigint,id_str:string,indices:array<bigint>,name:string,screen_name:string>>>,extended_entities:struct<media:array<struct<display_url:string,expanded_url:string,id:bigint,id_str:string,indices:array<bigint>,media_url:string,media_url_https:string,sizes:struct<large:struct<h:bigint,resize:string,w:bigint>,medium:struct<h:bigint,resize:string,w:bigint>,small:struct<h:bigint,resize:string,w:bigint>,thumb:struct<h:bigint,resize:string,w:bigint>>,source_status_id:bigint,source_status_id_str:string,source_user_id:bigint,source_user_id_str:string,type:string,url:string,video_info:struct<aspect_ratio:array<bigint>,duration_millis:bigint,variants:array<struct<bitrate:bigint,content_type:string,url:string>>>>>>,full_text:string>,favorite_count:bigint,favorited:boolean,filter_level:string,geo:struct<coordinates:array<double>,type:string>,id:bigint,id_str:string,in_reply_to_screen_name:string,in_reply_to_status_id:bigint,in_reply_to_status_id_str:string,in_reply_to_user_id:bigint,in_reply_to_user_id_str:string,is_quote_status:boolean,lang:string,place:struct<bounding_box:struct<coordinates:array<array<array<double>>>,type:string>,country:string,country_code:string,full_name:string,id:string,name:string,place_type:string,url:string>,possibly_sensitive:boolean,quote_count:bigint,quoted_status_id:bigint,quoted_status_id_str:string,reply_count:bigint,retweet_count:bigint,retweeted:boolean,scopes:struct<followers:boolean>,source:string,text:string,truncated:boolean,user:struct<contributors_enabled:boolean,created_at:string,default_profile:boolean,default_profile_image:boolean,description:string,favourites_count:bigint,follow_request_sent:string,followers_count:bigint,following:string,friends_count:bigint,geo_enabled:boolean,id:bigint,id_str:string,is_translator:boolean,lang:string,listed_count:bigint,location:string,name:string,notifications:string,profile_background_color:string,profile_background_image_url:string,profile_background_image_url_https:string,profile_background_tile:boolean,profile_banner_url:string,profile_image_url:string,profile_image_url_https:string,profile_link_color:string,profile_sidebar_border_color:string,profile_sidebar_fill_color:string,profile_text_color:string,profile_use_background_image:boolean,protected:boolean,screen_name:string,statuses_count:bigint,time_zone:string,translator_type:string,url:string,utc_offset:bigint,verified:boolean>>, quoted_status_id: bigint, quoted_status_id_str: string, reply_count: bigint, retweet_count: bigint, retweeted: boolean, retweeted_status: struct<contributors:string,coordinates:struct<coordinates:array<double>,type:string>,created_at:string,display_text_range:array<bigint>,entities:struct<hashtags:array<struct<indices:array<bigint>,text:string>>,media:array<struct<display_url:string,expanded_url:string,id:bigint,id_str:string,indices:array<bigint>,media_url:string,media_url_https:string,sizes:struct<large:struct<h:bigint,resize:string,w:bigint>,medium:struct<h:bigint,resize:string,w:bigint>,small:struct<h:bigint,resize:string,w:bigint>,thumb:struct<h:bigint,resize:string,w:bigint>>,source_status_id:bigint,source_status_id_str:string,source_user_id:bigint,source_user_id_str:string,type:string,url:string>>,symbols:array<struct<indices:array<bigint>,text:string>>,urls:array<struct<display_url:string,expanded_url:string,indices:array<bigint>,url:string>>,user_mentions:array<struct<id:bigint,id_str:string,indices:array<bigint>,name:string,screen_name:string>>>,extended_entities:struct<media:array<struct<display_url:string,expanded_url:string,id:bigint,id_str:string,indices:array<bigint>,media_url:string,media_url_https:string,sizes:struct<large:struct<h:bigint,resize:string,w:bigint>,medium:struct<h:bigint,resize:string,w:bigint>,small:struct<h:bigint,resize:string,w:bigint>,thumb:struct<h:bigint,resize:string,w:bigint>>,source_status_id:bigint,source_status_id_str:string,source_user_id:bigint,source_user_id_str:string,type:string,url:string,video_info:struct<aspect_ratio:array<bigint>,duration_millis:bigint,variants:array<struct<bitrate:bigint,content_type:string,url:string>>>>>>,extended_tweet:struct<display_text_range:array<bigint>,entities:struct<hashtags:array<struct<indices:array<bigint>,text:string>>,media:array<struct<description:string,display_url:string,expanded_url:string,id:bigint,id_str:string,indices:array<bigint>,media_url:string,media_url_https:string,sizes:struct<large:struct<h:bigint,resize:string,w:bigint>,medium:struct<h:bigint,resize:string,w:bigint>,small:struct<h:bigint,resize:string,w:bigint>,thumb:struct<h:bigint,resize:string,w:bigint>>,source_status_id:bigint,source_status_id_str:string,source_user_id:bigint,source_user_id_str:string,type:string,url:string,video_info:struct<aspect_ratio:array<bigint>,duration_millis:bigint,variants:array<struct<bitrate:bigint,content_type:string,url:string>>>>>,symbols:array<string>,urls:array<struct<display_url:string,expanded_url:string,indices:array<bigint>,url:string>>,user_mentions:array<struct<id:bigint,id_str:string,indices:array<bigint>,name:string,screen_name:string>>>,extended_entities:struct<media:array<struct<description:string,display_url:string,expanded_url:string,id:bigint,id_str:string,indices:array<bigint>,media_url:string,media_url_https:string,sizes:struct<large:struct<h:bigint,resize:string,w:bigint>,medium:struct<h:bigint,resize:string,w:bigint>,small:struct<h:bigint,resize:string,w:bigint>,thumb:struct<h:bigint,resize:string,w:bigint>>,source_status_id:bigint,source_status_id_str:string,source_user_id:bigint,source_user_id_str:string,type:string,url:string,video_info:struct<aspect_ratio:array<bigint>,duration_millis:bigint,variants:array<struct<bitrate:bigint,content_type:string,url:string>>>>>>,full_text:string>,favorite_count:bigint,favorited:boolean,filter_level:string,geo:struct<coordinates:array<double>,type:string>,id:bigint,id_str:string,in_reply_to_screen_name:string,in_reply_to_status_id:bigint,in_reply_to_status_id_str:string,in_reply_to_user_id:bigint,in_reply_to_user_id_str:string,is_quote_status:boolean,lang:string,place:struct<bounding_box:struct<coordinates:array<array<array<double>>>,type:string>,country:string,country_code:string,full_name:string,id:string,name:string,place_type:string,url:string>,possibly_sensitive:boolean,quote_count:bigint,quoted_status:struct<contributors:string,coordinates:struct<coordinates:array<double>,type:string>,created_at:string,display_text_range:array<bigint>,entities:struct<hashtags:array<struct<indices:array<bigint>,text:string>>,media:array<struct<display_url:string,expanded_url:string,id:bigint,id_str:string,indices:array<bigint>,media_url:string,media_url_https:string,sizes:struct<large:struct<h:bigint,resize:string,w:bigint>,medium:struct<h:bigint,resize:string,w:bigint>,small:struct<h:bigint,resize:string,w:bigint>,thumb:struct<h:bigint,resize:string,w:bigint>>,source_status_id:bigint,source_status_id_str:string,source_user_id:bigint,source_user_id_str:string,type:string,url:string>>,symbols:array<string>,urls:array<struct<display_url:string,expanded_url:string,indices:array<bigint>,url:string>>,user_mentions:array<struct<id:bigint,id_str:string,indices:array<bigint>,name:string,screen_name:string>>>,extended_entities:struct<media:array<struct<display_url:string,expanded_url:string,id:bigint,id_str:string,indices:array<bigint>,media_url:string,media_url_https:string,sizes:struct<large:struct<h:bigint,resize:string,w:bigint>,medium:struct<h:bigint,resize:string,w:bigint>,small:struct<h:bigint,resize:string,w:bigint>,thumb:struct<h:bigint,resize:string,w:bigint>>,source_status_id:bigint,source_status_id_str:string,source_user_id:bigint,source_user_id_str:string,type:string,url:string,video_info:struct<aspect_ratio:array<bigint>,duration_millis:bigint,variants:array<struct<bitrate:bigint,content_type:string,url:string>>>>>>,extended_tweet:struct<display_text_range:array<bigint>,entities:struct<hashtags:array<struct<indices:array<bigint>,text:string>>,media:array<struct<display_url:string,expanded_url:string,id:bigint,id_str:string,indices:array<bigint>,media_url:string,media_url_https:string,sizes:struct<large:struct<h:bigint,resize:string,w:bigint>,medium:struct<h:bigint,resize:string,w:bigint>,small:struct<h:bigint,resize:string,w:bigint>,thumb:struct<h:bigint,resize:string,w:bigint>>,type:string,url:string,video_info:struct<aspect_ratio:array<bigint>,duration_millis:bigint,variants:array<struct<bitrate:bigint,content_type:string,url:string>>>>>,symbols:array<string>,urls:array<struct<display_url:string,expanded_url:string,indices:array<bigint>,url:string>>,user_mentions:array<struct<id:bigint,id_str:string,indices:array<bigint>,name:string,screen_name:string>>>,extended_entities:struct<media:array<struct<display_url:string,expanded_url:string,id:bigint,id_str:string,indices:array<bigint>,media_url:string,media_url_https:string,sizes:struct<large:struct<h:bigint,resize:string,w:bigint>,medium:struct<h:bigint,resize:string,w:bigint>,small:struct<h:bigint,resize:string,w:bigint>,thumb:struct<h:bigint,resize:string,w:bigint>>,type:string,url:string,video_info:struct<aspect_ratio:array<bigint>,duration_millis:bigint,variants:array<struct<bitrate:bigint,content_type:string,url:string>>>>>>,full_text:string>,favorite_count:bigint,favorited:boolean,filter_level:string,geo:struct<coordinates:array<double>,type:string>,id:bigint,id_str:string,in_reply_to_screen_name:string,in_reply_to_status_id:bigint,in_reply_to_status_id_str:string,in_reply_to_user_id:bigint,in_reply_to_user_id_str:string,is_quote_status:boolean,lang:string,place:struct<bounding_box:struct<coordinates:array<array<array<double>>>,type:string>,country:string,country_code:string,full_name:string,id:string,name:string,place_type:string,url:string>,possibly_sensitive:boolean,quote_count:bigint,quoted_status_id:bigint,quoted_status_id_str:string,reply_count:bigint,retweet_count:bigint,retweeted:boolean,scopes:struct<followers:boolean>,source:string,text:string,truncated:boolean,user:struct<contributors_enabled:boolean,created_at:string,default_profile:boolean,default_profile_image:boolean,description:string,favourites_count:bigint,follow_request_sent:string,followers_count:bigint,following:string,friends_count:bigint,geo_enabled:boolean,id:bigint,id_str:string,is_translator:boolean,lang:string,listed_count:bigint,location:string,name:string,notifications:string,profile_background_color:string,profile_background_image_url:string,profile_background_image_url_https:string,profile_background_tile:boolean,profile_banner_url:string,profile_image_url:string,profile_image_url_https:string,profile_link_color:string,profile_sidebar_border_color:string,profile_sidebar_fill_color:string,profile_text_color:string,profile_use_background_image:boolean,protected:boolean,screen_name:string,statuses_count:bigint,time_zone:string,translator_type:string,url:string,utc_offset:bigint,verified:boolean>>,quoted_status_id:bigint,quoted_status_id_str:string,reply_count:bigint,retweet_count:bigint,retweeted:boolean,source:string,text:string,truncated:boolean,user:struct<contributors_enabled:boolean,created_at:string,default_profile:boolean,default_profile_image:boolean,description:string,favourites_count:bigint,follow_request_sent:string,followers_count:bigint,following:string,friends_count:bigint,geo_enabled:boolean,id:bigint,id_str:string,is_translator:boolean,lang:string,listed_count:bigint,location:string,name:string,notifications:string,profile_background_color:string,profile_background_image_url:string,profile_background_image_url_https:string,profile_background_tile:boolean,profile_banner_url:string,profile_image_url:string,profile_image_url_https:string,profile_link_color:string,profile_sidebar_border_color:string,profile_sidebar_fill_color:string,profile_text_color:string,profile_use_background_image:boolean,protected:boolean,screen_name:string,statuses_count:bigint,time_zone:string,translator_type:string,url:string,utc_offset:bigint,verified:boolean>>, source: string, text: string, timestamp_ms: string, truncated: boolean, user: struct<contributors_enabled:boolean,created_at:string,default_profile:boolean,default_profile_image:boolean,description:string,favourites_count:bigint,follow_request_sent:string,followers_count:bigint,following:string,friends_count:bigint,geo_enabled:boolean,id:bigint,id_str:string,is_translator:boolean,lang:string,listed_count:bigint,location:string,name:string,notifications:string,profile_background_color:string,profile_background_image_url:string,profile_background_image_url_https:string,profile_background_tile:boolean,profile_banner_url:string,profile_image_url:string,profile_image_url_https:string,profile_link_color:string,profile_sidebar_border_color:string,profile_sidebar_fill_color:string,profile_text_color:string,profile_use_background_image:boolean,protected:boolean,screen_name:string,statuses_count:bigint,time_zone:string,translator_type:string,url:string,utc_offset:bigint,verified:boolean>]"
      ]
     },
     "execution_count": 14,
     "metadata": {},
     "output_type": "execute_result"
    }
   ],
   "source": [
    "tweets"
   ]
  },
  {
   "cell_type": "markdown",
   "metadata": {},
   "source": [
    "To issue SQL queries, we need to register a table based on `tweets`:"
   ]
  },
  {
   "cell_type": "code",
   "execution_count": 15,
   "metadata": {
    "collapsed": true
   },
   "outputs": [],
   "source": [
    "tweets.createOrReplaceTempView(\"tweets\")"
   ]
  },
  {
   "cell_type": "markdown",
   "metadata": {},
   "source": [
    "### Top 10 languages are most commonly used among twitter users"
   ]
  },
  {
   "cell_type": "code",
   "execution_count": 16,
   "metadata": {},
   "outputs": [
    {
     "name": "stdout",
     "output_type": "stream",
     "text": [
      "+----+------+\n",
      "|lang| count|\n",
      "+----+------+\n",
      "|  en|346302|\n",
      "|  es| 31869|\n",
      "| und| 14659|\n",
      "|  in|  2355|\n",
      "|  fr|   997|\n",
      "|  pt|   914|\n",
      "|  tl|   485|\n",
      "|  ht|   377|\n",
      "|  nl|   347|\n",
      "|  it|   285|\n",
      "+----+------+\n",
      "only showing top 10 rows\n",
      "\n"
     ]
    }
   ],
   "source": [
    "tweets.groupBy('lang').count().orderBy('count', ascending=False).show(10)"
   ]
  },
  {
   "cell_type": "code",
   "execution_count": 17,
   "metadata": {},
   "outputs": [
    {
     "name": "stdout",
     "output_type": "stream",
     "text": [
      "+----+--------+\n",
      "|lang|count(1)|\n",
      "+----+--------+\n",
      "|  en|  346302|\n",
      "|  es|   31869|\n",
      "| und|   14659|\n",
      "|  in|    2355|\n",
      "|  fr|     997|\n",
      "|  pt|     914|\n",
      "|  tl|     485|\n",
      "|  ht|     377|\n",
      "|  nl|     347|\n",
      "|  it|     285|\n",
      "+----+--------+\n",
      "only showing top 10 rows\n",
      "\n"
     ]
    }
   ],
   "source": [
    "sqlc.sql(\"\"\"\n",
    "    SELECT lang, COUNT(*)\n",
    "    FROM tweets\n",
    "    GROUP BY lang\n",
    "    ORDER BY COUNT(*) DESC\n",
    "\"\"\").show(10)"
   ]
  },
  {
   "cell_type": "markdown",
   "metadata": {},
   "source": [
    "It appears that English and Spanish are the most common languages for tweets, and perhaps `und` means \"undetermined\"."
   ]
  },
  {
   "cell_type": "markdown",
   "metadata": {},
   "source": [
    "### Top 10 time zones are most common among twitter users"
   ]
  },
  {
   "cell_type": "code",
   "execution_count": 18,
   "metadata": {},
   "outputs": [
    {
     "name": "stdout",
     "output_type": "stream",
     "text": [
      "+--------------------+------+\n",
      "|           time_zone| count|\n",
      "+--------------------+------+\n",
      "|                null|166386|\n",
      "|Pacific Time (US ...| 72214|\n",
      "|Central Time (US ...| 63664|\n",
      "|Eastern Time (US ...| 35889|\n",
      "|             Arizona| 10748|\n",
      "|Mountain Time (US...| 10057|\n",
      "|Atlantic Time (Ca...|  4805|\n",
      "|               Quito|  4397|\n",
      "|             Caracas|  4218|\n",
      "|         Mexico City|  3935|\n",
      "+--------------------+------+\n",
      "only showing top 10 rows\n",
      "\n"
     ]
    }
   ],
   "source": [
    "tweets.groupBy('user.time_zone').count().orderBy('count', ascending=False).show(10)"
   ]
  },
  {
   "cell_type": "code",
   "execution_count": 19,
   "metadata": {},
   "outputs": [
    {
     "name": "stdout",
     "output_type": "stream",
     "text": [
      "+--------------------+--------+\n",
      "|           time_zone|count(1)|\n",
      "+--------------------+--------+\n",
      "|                null|  166386|\n",
      "|Pacific Time (US ...|   72214|\n",
      "|Central Time (US ...|   63664|\n",
      "|Eastern Time (US ...|   35889|\n",
      "|             Arizona|   10748|\n",
      "|Mountain Time (US...|   10057|\n",
      "|Atlantic Time (Ca...|    4805|\n",
      "|               Quito|    4397|\n",
      "|             Caracas|    4218|\n",
      "|         Mexico City|    3935|\n",
      "+--------------------+--------+\n",
      "only showing top 10 rows\n",
      "\n"
     ]
    }
   ],
   "source": [
    "sqlc.sql(\"\"\"\n",
    "    SELECT user.time_zone, COUNT(*)\n",
    "    FROM tweets\n",
    "    GROUP BY user.time_zone\n",
    "    ORDER BY COUNT(*) DESC\n",
    "\"\"\").show(10)"
   ]
  },
  {
   "cell_type": "markdown",
   "metadata": {},
   "source": [
    "We see the same result in both queries; the most common value is `null`, but among present values, US time zones dominate, led by western time zones.  This makes sense as the two teams playing are based in western time zones.  Outside of the US, Central and South American zones appear, which makes sense given the number of MLB players from these regions."
   ]
  },
  {
   "cell_type": "markdown",
   "metadata": {},
   "source": [
    "### Number of tweets mention the Dodgers, the Astros and both"
   ]
  },
  {
   "cell_type": "code",
   "execution_count": 20,
   "metadata": {},
   "outputs": [
    {
     "name": "stdout",
     "output_type": "stream",
     "text": [
      "+--------+\n",
      "|count(1)|\n",
      "+--------+\n",
      "|  246465|\n",
      "+--------+\n",
      "\n"
     ]
    }
   ],
   "source": [
    "sqlc.sql(\"\"\"\n",
    "    SELECT COUNT(*)\n",
    "    FROM tweets\n",
    "    WHERE LOWER(text) LIKE '%astros%'\n",
    "\"\"\").show()"
   ]
  },
  {
   "cell_type": "code",
   "execution_count": 21,
   "metadata": {},
   "outputs": [
    {
     "name": "stdout",
     "output_type": "stream",
     "text": [
      "+--------+\n",
      "|count(1)|\n",
      "+--------+\n",
      "|  168218|\n",
      "+--------+\n",
      "\n"
     ]
    }
   ],
   "source": [
    "sqlc.sql(\"\"\"\n",
    "    SELECT COUNT(*)\n",
    "    FROM tweets\n",
    "    WHERE LOWER(text) LIKE '%dodgers%'\n",
    "\"\"\").show()"
   ]
  },
  {
   "cell_type": "code",
   "execution_count": 22,
   "metadata": {},
   "outputs": [
    {
     "name": "stdout",
     "output_type": "stream",
     "text": [
      "+--------+\n",
      "|count(1)|\n",
      "+--------+\n",
      "|   49545|\n",
      "+--------+\n",
      "\n"
     ]
    }
   ],
   "source": [
    "sqlc.sql(\"\"\"\n",
    "    SELECT COUNT(*)\n",
    "    FROM tweets\n",
    "    WHERE LOWER(text) LIKE '%dodgers%'\n",
    "      AND LOWER(text) LIKE '%astros%'\n",
    "\"\"\").show()"
   ]
  },
  {
   "cell_type": "markdown",
   "metadata": {},
   "source": [
    "From our results above, it appears that nearly 50% more tweets mention the Astros than mention the Dodgers.  At 49,545, more than 10% of the total 400,000 tweets mention both teams.\n",
    "\n",
    "We used the `LOWER()` function to ensure case-independent matching and catch all cases."
   ]
  },
  {
   "cell_type": "markdown",
   "metadata": {},
   "source": [
    "### Team mentions by location"
   ]
  },
  {
   "cell_type": "code",
   "execution_count": 76,
   "metadata": {},
   "outputs": [
    {
     "name": "stdout",
     "output_type": "stream",
     "text": [
      "+--------------------+--------+\n",
      "|                  tz|count(1)|\n",
      "+--------------------+--------+\n",
      "|Pacific Time (US ...|   41072|\n",
      "|Central Time (US ...|   15294|\n",
      "|Eastern Time (US ...|   13086|\n",
      "|             Arizona|    6477|\n",
      "|Mountain Time (US...|    3396|\n",
      "|         Mexico City|    2512|\n",
      "|             Caracas|    2123|\n",
      "|              Alaska|    2064|\n",
      "|               Quito|    1888|\n",
      "|Atlantic Time (Ca...|    1830|\n",
      "+--------------------+--------+\n",
      "only showing top 10 rows\n",
      "\n"
     ]
    }
   ],
   "source": [
    "sqlc.sql(\"\"\"\n",
    "    SELECT user.time_zone AS tz, COUNT(*)\n",
    "    FROM tweets\n",
    "    WHERE LOWER(text) LIKE '%dodgers%'\n",
    "      AND user.time_zone IS NOT NULL\n",
    "    GROUP BY user.time_zone\n",
    "    ORDER BY COUNT(*) DESC\n",
    "\"\"\").show(10)"
   ]
  },
  {
   "cell_type": "code",
   "execution_count": 79,
   "metadata": {},
   "outputs": [
    {
     "name": "stdout",
     "output_type": "stream",
     "text": [
      "+--------------------+--------+\n",
      "|                  tz|count(1)|\n",
      "+--------------------+--------+\n",
      "|Central Time (US ...|   49291|\n",
      "|Pacific Time (US ...|   33347|\n",
      "|Eastern Time (US ...|   24345|\n",
      "|Mountain Time (US...|    6970|\n",
      "|             Arizona|    4520|\n",
      "|Atlantic Time (Ca...|    3269|\n",
      "|               Quito|    2745|\n",
      "|             Caracas|    2730|\n",
      "|         Mexico City|    2251|\n",
      "|              Hawaii|    2168|\n",
      "+--------------------+--------+\n",
      "only showing top 10 rows\n",
      "\n"
     ]
    }
   ],
   "source": [
    "sqlc.sql(\"\"\"\n",
    "    SELECT user.time_zone AS tz, COUNT(*)\n",
    "    FROM tweets\n",
    "    WHERE LOWER(text) LIKE '%astros%'\n",
    "      AND user.time_zone IS NOT NULL\n",
    "    GROUP BY user.time_zone\n",
    "    ORDER BY COUNT(*) DESC\n",
    "\"\"\").show(10)"
   ]
  },
  {
   "cell_type": "code",
   "execution_count": 80,
   "metadata": {},
   "outputs": [
    {
     "name": "stdout",
     "output_type": "stream",
     "text": [
      "+---------------+--------+\n",
      "|       location|count(1)|\n",
      "+---------------+--------+\n",
      "|Los Angeles, CA|    6361|\n",
      "|California, USA|    2701|\n",
      "|    Houston, TX|    2362|\n",
      "|    Los Angeles|    1967|\n",
      "|  United States|    1578|\n",
      "|     California|     866|\n",
      "|     Texas, USA|     832|\n",
      "|         México|     698|\n",
      "|  Las Vegas, NV|     610|\n",
      "|      Venezuela|     607|\n",
      "+---------------+--------+\n",
      "only showing top 10 rows\n",
      "\n"
     ]
    }
   ],
   "source": [
    "sqlc.sql(\"\"\"\n",
    "    SELECT user.location AS location, COUNT(*)\n",
    "    FROM tweets\n",
    "    WHERE LOWER(text) LIKE '%dodgers%'\n",
    "      AND user.location IS NOT NULL\n",
    "    GROUP BY user.location\n",
    "    ORDER BY COUNT(*) DESC\n",
    "\"\"\").show(10)"
   ]
  },
  {
   "cell_type": "code",
   "execution_count": 81,
   "metadata": {},
   "outputs": [
    {
     "name": "stdout",
     "output_type": "stream",
     "text": [
      "+---------------+--------+\n",
      "|       location|count(1)|\n",
      "+---------------+--------+\n",
      "|    Houston, TX|   17639|\n",
      "|     Texas, USA|    4159|\n",
      "|          Texas|    2647|\n",
      "|Los Angeles, CA|    2448|\n",
      "|        Houston|    2133|\n",
      "|  United States|    1855|\n",
      "| Houston, Texas|    1852|\n",
      "|     Austin, TX|    1503|\n",
      "|California, USA|    1294|\n",
      "|San Antonio, TX|    1269|\n",
      "+---------------+--------+\n",
      "only showing top 10 rows\n",
      "\n"
     ]
    }
   ],
   "source": [
    "sqlc.sql(\"\"\"\n",
    "    SELECT user.location AS location, COUNT(*)\n",
    "    FROM tweets\n",
    "    WHERE LOWER(text) LIKE '%astros%'\n",
    "      AND user.location IS NOT NULL\n",
    "    GROUP BY user.location\n",
    "    ORDER BY COUNT(*) DESC\n",
    "\"\"\").show(10)"
   ]
  },
  {
   "cell_type": "markdown",
   "metadata": {},
   "source": [
    "As we might expect, we see that users mentioning the Dodgers are most frequently in the Pacific time zone, which contains California, home to the Dodgers, and that users mentioning the Astros are most frequently in the Central time zone, containing Texas, home to the Astros.  Similarly, when looking at user-report locations, Los Angeles and California are most common for Dodgers mentions, and Houston and Texas are most common for the Astros.\n",
    "\n",
    "It is interesting to note that these terms vary quite a bit; we see both \"Los Angeles, CA\" and \"Los Angeles\", for example, as well as both \"Houston, TX\" and \"Houston\".  This is probably due to this location field being user self-reported.\n",
    "\n",
    "We eliminate NULL values in both cases to get a clearer picture of the data present."
   ]
  },
  {
   "cell_type": "markdown",
   "metadata": {},
   "source": [
    "### Twitter users that are being replied to the most?"
   ]
  },
  {
   "cell_type": "code",
   "execution_count": 84,
   "metadata": {},
   "outputs": [
    {
     "name": "stdout",
     "output_type": "stream",
     "text": [
      "+-----------------------+--------+\n",
      "|in_reply_to_screen_name|count(1)|\n",
      "+-----------------------+--------+\n",
      "|                   null|  360299|\n",
      "|                 astros|    4034|\n",
      "|                Dodgers|    3297|\n",
      "|                    MLB|     705|\n",
      "|          stephenasmith|     332|\n",
      "|               MLBONFOX|     217|\n",
      "|              adevaldes|     180|\n",
      "|          DodgersNation|     165|\n",
      "|          rolandsmartin|     141|\n",
      "|        JustinVerlander|     118|\n",
      "+-----------------------+--------+\n",
      "only showing top 10 rows\n",
      "\n"
     ]
    }
   ],
   "source": [
    "sqlc.sql(\"\"\"\n",
    "    SELECT in_reply_to_screen_name, COUNT(*)\n",
    "    FROM tweets\n",
    "    GROUP BY in_reply_to_screen_name\n",
    "    ORDER BY COUNT(*) DESC\n",
    "\"\"\").show(10)"
   ]
  },
  {
   "cell_type": "markdown",
   "metadata": {},
   "source": [
    "Nearly 90% of these tweets do not reply to any particular user, as evidenced by the NULL value at the top of this list.  Among those mentioned, it appears that the two teams themselves, as well as the league `@MLB`, are the most mentioned.  The ESPN commentator `@stephenasmith` appears frequently, as does `@JustinVerlander`, the Astros' pitcher in this game."
   ]
  },
  {
   "cell_type": "markdown",
   "metadata": {},
   "source": [
    "### Top 10 verified users that have the most followers and top 10 unverified users that have the most followers"
   ]
  },
  {
   "cell_type": "code",
   "execution_count": 97,
   "metadata": {},
   "outputs": [
    {
     "name": "stdout",
     "output_type": "stream",
     "text": [
      "+--------------+---------+\n",
      "|   screen_name|max_count|\n",
      "+--------------+---------+\n",
      "|        cnnbrk| 53191119|\n",
      "|       nytimes| 39959480|\n",
      "|           CNN| 38209973|\n",
      "|       Reuters| 18937529|\n",
      "|       FoxNews| 16272836|\n",
      "|           ABC| 12551437|\n",
      "|washingtonpost| 11417638|\n",
      "|   lopezdoriga|  7859821|\n",
      "|           MLB|  7841255|\n",
      "|           NPR|  7289619|\n",
      "+--------------+---------+\n",
      "only showing top 10 rows\n",
      "\n"
     ]
    }
   ],
   "source": [
    "sqlc.sql(\"\"\"\n",
    "    SELECT user.screen_name, MAX(user.followers_count) AS max_count\n",
    "    FROM tweets\n",
    "    WHERE user.verified == 't'\n",
    "    GROUP BY user.screen_name\n",
    "    ORDER BY max_count DESC\n",
    "\"\"\").show(10)"
   ]
  },
  {
   "cell_type": "code",
   "execution_count": 99,
   "metadata": {},
   "outputs": [
    {
     "name": "stdout",
     "output_type": "stream",
     "text": [
      "+---------------+---------+\n",
      "|    screen_name|max_count|\n",
      "+---------------+---------+\n",
      "|Daminous_Purity|   998742|\n",
      "|        chochos|   833669|\n",
      "|     TexasHumor|   816301|\n",
      "|  el_carabobeno|   725952|\n",
      "|       PAMsLOvE|   712254|\n",
      "| mlbtraderumors|   659851|\n",
      "|        jilevin|   568341|\n",
      "|    sun_das_ill|   559669|\n",
      "|   DiegoArcos14|   544926|\n",
      "|    TVCDeportes|   543095|\n",
      "+---------------+---------+\n",
      "only showing top 10 rows\n",
      "\n"
     ]
    }
   ],
   "source": [
    "sqlc.sql(\"\"\"\n",
    "    SELECT user.screen_name, MAX(user.followers_count) AS max_count\n",
    "    FROM tweets\n",
    "    WHERE user.verified == 'f'\n",
    "    GROUP BY user.screen_name\n",
    "    ORDER BY max_count DESC\n",
    "\"\"\").show(10)"
   ]
  },
  {
   "cell_type": "markdown",
   "metadata": {},
   "source": [
    "The above shows that verified user `@cnnbrk` has the most followers, and user `@Daminous_Purity` has the most followers among unverified users.  We use the `MAX()` and `GROUP BY` to find the distinct entries for users with the most followers; we need these both because otherwise we might see multiple entries for a given user with separate follower counts.  This can arise as more people follow an account during the interval between one of their tweets and the next.\n",
    "\n",
    "It is interesting to note that most of the popular accounts listed above appear to be media outlets."
   ]
  },
  {
   "cell_type": "markdown",
   "metadata": {},
   "source": [
    "### The most popular sets of hashtags among users with many followers and users with few followers"
   ]
  },
  {
   "cell_type": "code",
   "execution_count": 123,
   "metadata": {},
   "outputs": [
    {
     "name": "stdout",
     "output_type": "stream",
     "text": [
      "+--------------------+--------+\n",
      "|            hashtags|count(1)|\n",
      "+--------------------+--------+\n",
      "|         earnhistory|   32142|\n",
      "|         worldseries|   31107|\n",
      "|              astros|    9895|\n",
      "|            thisteam|    8413|\n",
      "|             dodgers|    6461|\n",
      "|               hr4hr|    4608|\n",
      "|           astroswin|    4601|\n",
      "|thisteam,worldseries|    4181|\n",
      "|  astros,worldseries|    3753|\n",
      "|thisteam,thisteam...|    3532|\n",
      "+--------------------+--------+\n",
      "only showing top 10 rows\n",
      "\n"
     ]
    }
   ],
   "source": [
    "sqlc.sql(\"\"\"\n",
    "    SELECT LOWER(CONCAT_WS(',', SORT_ARRAY(entities.hashtags.text))) AS hashtags, COUNT(*)\n",
    "    FROM tweets\n",
    "    WHERE CONCAT_WS(',', entities.hashtags.text) != ''\n",
    "    GROUP BY hashtags\n",
    "    ORDER BY COUNT(*) DESC\n",
    "\"\"\").show(10)"
   ]
  },
  {
   "cell_type": "markdown",
   "metadata": {},
   "source": [
    "This is our baseline query.  It took a few tries to get that array handling right!  This might stump a few groups.\n",
    "\n",
    "We can use this baseline to separate users with many followers.  "
   ]
  },
  {
   "cell_type": "code",
   "execution_count": 25,
   "metadata": {},
   "outputs": [
    {
     "name": "stdout",
     "output_type": "stream",
     "text": [
      "+-------------------+\n",
      "|avg_followers_count|\n",
      "+-------------------+\n",
      "|       4943.6837025|\n",
      "+-------------------+\n",
      "\n"
     ]
    }
   ],
   "source": [
    "sqlc.sql(\"\"\"\n",
    "    SELECT AVG(user.followers_count) AS avg_followers_count\n",
    "    FROM tweets\n",
    "\"\"\").show()"
   ]
  },
  {
   "cell_type": "markdown",
   "metadata": {},
   "source": [
    "From this query, we can see that the average number of followers is just under 5,000.  We've already seen that some accounts have millions of followers, so this is perhaps skewed by those outliers.  For simplicity, let's assume that 5,000 users are \"many\"; it is a nice round number and very few people I know actually know that many people! "
   ]
  },
  {
   "cell_type": "code",
   "execution_count": 124,
   "metadata": {},
   "outputs": [
    {
     "name": "stdout",
     "output_type": "stream",
     "text": [
      "+--------------------+--------+\n",
      "|            hashtags|count(1)|\n",
      "+--------------------+--------+\n",
      "|         worldseries|    1368|\n",
      "|         earnhistory|     675|\n",
      "|              astros|     627|\n",
      "|             dodgers|     518|\n",
      "|  astros,worldseries|     244|\n",
      "|            thisteam|     220|\n",
      "|astros,dodgers,wo...|     219|\n",
      "|        seriemundial|     190|\n",
      "|      astros,dodgers|     172|\n",
      "| dodgers,worldseries|     148|\n",
      "+--------------------+--------+\n",
      "only showing top 10 rows\n",
      "\n"
     ]
    }
   ],
   "source": [
    "sqlc.sql(\"\"\"\n",
    "    SELECT LOWER(CONCAT_WS(',', SORT_ARRAY(entities.hashtags.text))) AS hashtags, COUNT(*)\n",
    "    FROM tweets\n",
    "    WHERE CONCAT_WS(',', entities.hashtags.text) != ''\n",
    "    AND user.followers_count >= 5000\n",
    "    GROUP BY hashtags\n",
    "    ORDER BY COUNT(*) DESC\n",
    "\"\"\").show(10)"
   ]
  },
  {
   "cell_type": "code",
   "execution_count": 125,
   "metadata": {},
   "outputs": [
    {
     "name": "stdout",
     "output_type": "stream",
     "text": [
      "+--------------------+--------+\n",
      "|            hashtags|count(1)|\n",
      "+--------------------+--------+\n",
      "|         earnhistory|   31467|\n",
      "|         worldseries|   29739|\n",
      "|              astros|    9268|\n",
      "|            thisteam|    8193|\n",
      "|             dodgers|    5943|\n",
      "|           astroswin|    4514|\n",
      "|               hr4hr|    4491|\n",
      "|thisteam,worldseries|    4038|\n",
      "|  astros,worldseries|    3509|\n",
      "|thisteam,thisteam...|    3480|\n",
      "+--------------------+--------+\n",
      "only showing top 10 rows\n",
      "\n"
     ]
    }
   ],
   "source": [
    "sqlc.sql(\"\"\"\n",
    "    SELECT LOWER(CONCAT_WS(',', SORT_ARRAY(entities.hashtags.text))) AS hashtags, COUNT(*)\n",
    "    FROM tweets\n",
    "    WHERE CONCAT_WS(',', entities.hashtags.text) != ''\n",
    "    AND user.followers_count < 5000\n",
    "    GROUP BY hashtags\n",
    "    ORDER BY COUNT(*) DESC\n",
    "\"\"\").show(10)"
   ]
  },
  {
   "cell_type": "markdown",
   "metadata": {},
   "source": [
    "The most common hashtag among popular users is \"worldseries\", with \"earnhistory\" in second.  Among users with fewer followers, these are the top two again, with their position reversed.  The counts are all higher in this second set; it could be that less-followed users use fewer hashtags, but it is more likely that we simply have more tweets in our sample from less-followed users.\n",
    "\n",
    "It is interesting to note that \"astroswin\" does not seem to appear in the top ten among more-followed users; perhaps they tend to be more official outlets like media agencies, and because of that, they might be less likely to tweet with the implied emotion of claiming victory."
   ]
  },
  {
   "cell_type": "markdown",
   "metadata": {},
   "source": [
    "### Analyze common words in tweet text"
   ]
  },
  {
   "cell_type": "code",
   "execution_count": 147,
   "metadata": {
    "collapsed": true
   },
   "outputs": [],
   "source": [
    "stopwords = ['a', 'an', 'and', 'for', 'i', 'in', 'is', 'it', 'of', 'on', 'rt', 'the', 'this', 'to']"
   ]
  },
  {
   "cell_type": "code",
   "execution_count": 149,
   "metadata": {},
   "outputs": [
    {
     "data": {
      "text/plain": [
       "[('astros', 88985),\n",
       " ('dodgers', 70845),\n",
       " ('#worldseries', 55042),\n",
       " ('@astros:', 49823),\n",
       " ('game', 45437),\n",
       " ('@astros', 40051),\n",
       " ('#thisteam', 38429),\n",
       " ('#earnhistory', 37293),\n",
       " ('#astros', 31108),\n",
       " ('@dodgers', 29941)]"
      ]
     },
     "execution_count": 149,
     "metadata": {},
     "output_type": "execute_result"
    }
   ],
   "source": [
    "tweets.rdd.flatMap(lambda t: t['text'].split(' ')) \\\n",
    "    .filter(lambda w: w != '') \\\n",
    "    .map(lambda w: w.lower()) \\\n",
    "    .filter(lambda w: w not in stopwords) \\\n",
    "    .map(lambda w: (w, 1)) \\\n",
    "    .reduceByKey(lambda a, b: a + b) \\\n",
    "    .takeOrdered(10, key=lambda pair: -pair[1])"
   ]
  },
  {
   "cell_type": "markdown",
   "metadata": {},
   "source": [
    "I am finding the words \"thisteam\" and \"earnhistory\" to be interesting.  Perhaps they are marketing terms from the MLB, or maybe just fans from one team or another are using them.  Given our earlier findings about location and time zone, let's see whether there's a big difference in usage of these terms in each."
   ]
  },
  {
   "cell_type": "code",
   "execution_count": 152,
   "metadata": {},
   "outputs": [
    {
     "name": "stdout",
     "output_type": "stream",
     "text": [
      "+--------------------+--------------+--------+\n",
      "|           time_zone|      location|count(1)|\n",
      "+--------------------+--------------+--------+\n",
      "|Central Time (US ...|   Houston, TX|    1975|\n",
      "|Pacific Time (US ...|   Houston, TX|     490|\n",
      "|Central Time (US ...|Houston, Texas|     423|\n",
      "|Eastern Time (US ...|   Houston, TX|     390|\n",
      "|Central Time (US ...|         Texas|     370|\n",
      "|Central Time (US ...|    Texas, USA|     360|\n",
      "|Central Time (US ...|       Houston|     316|\n",
      "|Central Time (US ...|    Austin, TX|     162|\n",
      "|Central Time (US ...|   Houston, Tx|     152|\n",
      "|Mountain Time (US...|   Houston, TX|     130|\n",
      "+--------------------+--------------+--------+\n",
      "only showing top 10 rows\n",
      "\n"
     ]
    }
   ],
   "source": [
    "sqlc.sql(\"\"\"\n",
    "    SELECT user.time_zone, user.location, COUNT(*)\n",
    "    FROM tweets\n",
    "    WHERE LOWER(text) LIKE \"%earnhistory%\"\n",
    "      AND user.time_zone IS NOT NULL\n",
    "      AND user.location IS NOT NULL\n",
    "    GROUP BY user.time_zone, user.location\n",
    "    ORDER BY COUNT(*) DESC\n",
    "\"\"\").show(10)"
   ]
  },
  {
   "cell_type": "markdown",
   "metadata": {},
   "source": [
    "This is a surprise!  All of the top ten time zone / location pairs with tweets using the term \"earnhistory\" self-identify as being in Houston, Austin, which is near Houston, or at least Texas.  This is true even among users tweeting from the Pacific and Eastern time zones!  It is clear that this term seems to be used almost entirely by Houston fans.\n",
    "\n",
    "Let's repeat the process for \"thisteam\"."
   ]
  },
  {
   "cell_type": "code",
   "execution_count": 153,
   "metadata": {},
   "outputs": [
    {
     "name": "stdout",
     "output_type": "stream",
     "text": [
      "+--------------------+--------------------+--------+\n",
      "|           time_zone|            location|count(1)|\n",
      "+--------------------+--------------------+--------+\n",
      "|Pacific Time (US ...|     Los Angeles, CA|     766|\n",
      "|Pacific Time (US ...|         Los Angeles|     327|\n",
      "|Pacific Time (US ...|     California, USA|     195|\n",
      "|Pacific Time (US ...|          California|     118|\n",
      "|             Arizona|     Los Angeles, CA|      93|\n",
      "|Pacific Time (US ...| Southern California|      79|\n",
      "|Pacific Time (US ...|                  LA|      49|\n",
      "|Pacific Time (US ...|Los Angeles, Cali...|      47|\n",
      "|         Mexico City|              México|      47|\n",
      "|Pacific Time (US ...|      Long Beach, CA|      47|\n",
      "+--------------------+--------------------+--------+\n",
      "only showing top 10 rows\n",
      "\n"
     ]
    }
   ],
   "source": [
    "sqlc.sql(\"\"\"\n",
    "    SELECT user.time_zone, user.location, COUNT(*)\n",
    "    FROM tweets\n",
    "    WHERE LOWER(text) LIKE \"%thisteam%\"\n",
    "      AND user.time_zone IS NOT NULL\n",
    "      AND user.location IS NOT NULL\n",
    "    GROUP BY user.time_zone, user.location\n",
    "    ORDER BY COUNT(*) DESC\n",
    "\"\"\").show(10)"
   ]
  },
  {
   "cell_type": "markdown",
   "metadata": {},
   "source": [
    "Again we find a similar pattern - \"thisteam\" appears to be a rallying cry for Dodgers fans, as nearly all listed above are in the Pacific time zone and identify as being in Los Angeles, Southern California, or at least California.\n",
    "\n",
    "It appears that this pair or results indicates a strong marketing strategy by each team, or at least a coalescence of fan spirit in both cases."
   ]
  }
 ],
 "metadata": {
  "kernelspec": {
   "display_name": "Python 3",
   "language": "python",
   "name": "python3"
  },
  "language_info": {
   "codemirror_mode": {
    "name": "ipython",
    "version": 3
   },
   "file_extension": ".py",
   "mimetype": "text/x-python",
   "name": "python",
   "nbconvert_exporter": "python",
   "pygments_lexer": "ipython3",
   "version": "3.6.3"
  }
 },
 "nbformat": 4,
 "nbformat_minor": 2
}
