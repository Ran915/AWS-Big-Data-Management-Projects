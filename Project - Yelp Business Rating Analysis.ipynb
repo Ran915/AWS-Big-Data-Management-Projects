{
 "cells": [
  {
   "cell_type": "markdown",
   "metadata": {},
   "source": [
    "# Yelp Business Rating Analysis"
   ]
  },
  {
   "cell_type": "markdown",
   "metadata": {},
   "source": [
    "# Part 1: Loading data into MySQL database"
   ]
  },
  {
   "cell_type": "markdown",
   "metadata": {},
   "source": [
    "#### Imported python modules"
   ]
  },
  {
   "cell_type": "code",
   "execution_count": 1,
   "metadata": {
    "collapsed": true
   },
   "outputs": [],
   "source": [
    "import pymysql as myDB"
   ]
  },
  {
   "cell_type": "code",
   "execution_count": 2,
   "metadata": {
    "collapsed": true
   },
   "outputs": [],
   "source": [
    "import matplotlib.pyplot as plt"
   ]
  },
  {
   "cell_type": "code",
   "execution_count": 3,
   "metadata": {
    "collapsed": true
   },
   "outputs": [],
   "source": [
    "import pandas as pd"
   ]
  },
  {
   "cell_type": "code",
   "execution_count": 4,
   "metadata": {
    "collapsed": true
   },
   "outputs": [],
   "source": [
    "import pandas.io.sql as pdsql"
   ]
  },
  {
   "cell_type": "markdown",
   "metadata": {},
   "source": [
    "#### Connected to the MySQL local-host and create a database named “yelp_db”"
   ]
  },
  {
   "cell_type": "code",
   "execution_count": null,
   "metadata": {
    "collapsed": true
   },
   "outputs": [],
   "source": [
    "conn = myDB.connect(host='localhost',\n",
    "                    user='root',\n",
    "                    password='123456')"
   ]
  },
  {
   "cell_type": "code",
   "execution_count": null,
   "metadata": {
    "collapsed": true
   },
   "outputs": [],
   "source": [
    "conn.cursor().execute('create database yelp_db')"
   ]
  },
  {
   "cell_type": "markdown",
   "metadata": {},
   "source": [
    "#### If database already exist, execute the following code in markdown or skip the creation step."
   ]
  },
  {
   "cell_type": "code",
   "execution_count": null,
   "metadata": {
    "collapsed": true
   },
   "outputs": [],
   "source": [
    "conn.cursor().execute('drop database if exists yelp_db')"
   ]
  },
  {
   "cell_type": "code",
   "execution_count": 5,
   "metadata": {
    "collapsed": true
   },
   "outputs": [],
   "source": [
    "db = myDB.connect(host='localhost', user='root', passwd='123456', db='yelp_db')"
   ]
  },
  {
   "cell_type": "code",
   "execution_count": 7,
   "metadata": {
    "collapsed": true
   },
   "outputs": [],
   "source": [
    "conn = myDB.connect('localhost', 'root', '123456')\n",
    "cursor = conn.cursor()"
   ]
  },
  {
   "cell_type": "markdown",
   "metadata": {},
   "source": [
    "#### Showed all the databases in the MySQL local host and use the newly created database “yelp_db”"
   ]
  },
  {
   "cell_type": "code",
   "execution_count": 8,
   "metadata": {},
   "outputs": [
    {
     "name": "stdout",
     "output_type": "stream",
     "text": [
      "('information_schema',)\n",
      "('MYFLTDATA',)\n",
      "('mysql',)\n",
      "('performance_schema',)\n",
      "('sys',)\n",
      "('yelp_db',)\n"
     ]
    }
   ],
   "source": [
    "sql = ' SHOW DATABASES; '\n",
    "cursor.execute(sql)\n",
    "result = cursor.fetchall() \n",
    "for row in result:\n",
    "    print(row)"
   ]
  },
  {
   "cell_type": "code",
   "execution_count": 9,
   "metadata": {},
   "outputs": [
    {
     "data": {
      "text/plain": [
       "0"
      ]
     },
     "execution_count": 9,
     "metadata": {},
     "output_type": "execute_result"
    }
   ],
   "source": [
    "sql = ' USE yelp_db; ' \n",
    "cursor.execute(sql)"
   ]
  },
  {
   "cell_type": "code",
   "execution_count": 10,
   "metadata": {},
   "outputs": [
    {
     "data": {
      "text/plain": [
       "11"
      ]
     },
     "execution_count": 10,
     "metadata": {},
     "output_type": "execute_result"
    }
   ],
   "source": [
    "sql = ' show tables; ' \n",
    "cursor.execute(sql)"
   ]
  },
  {
   "cell_type": "markdown",
   "metadata": {},
   "source": [
    "# Part 2: Data Exploration"
   ]
  },
  {
   "cell_type": "markdown",
   "metadata": {},
   "source": [
    "#### Select the first three rows in the review, business, checkin, photo, tip, user and attribute datasets and print the results"
   ]
  },
  {
   "cell_type": "code",
   "execution_count": 78,
   "metadata": {},
   "outputs": [
    {
     "name": "stdout",
     "output_type": "stream",
     "text": [
      "('----X0BIDP9tA49U3RvdSQ', 4, datetime.datetime(2014, 2, 17, 0, 0), \"Red, white and bleu salad was super yum and a great addition to the menu! This location was clean with great service and food served at just the right temps! Kids pizza is always a hit too with lots of great side dish options for the kiddos! When I'm on this side of town, this will definitely be a spot I'll hit up again!\", 0, 0, 0, 'Ue6-WhXvI-_1xUIuapl0zQ', 'gVmUR8rqUFdbSeZbsg6z_w')\n",
      "('---0hl58W-sjVTKi5LghGw', 4, datetime.datetime(2016, 7, 24, 0, 0), 'Ate the momos during the momo crawl.. Was the best of the lot so decided to eat at the restaurant and the mutton thali was equally good!!', 0, 0, 0, 'Ae4ABFarGMaI5lk1i98A0w', 'Y6qylbHq8QJmaCRSlKdIog')\n",
      "('---3OXpexMp0oAg77xWfYA', 5, datetime.datetime(2012, 4, 7, 0, 0), 'Pizza here made my night... Good people and great pizza. They can do anything you ask with a great attitude!', 2, 0, 0, 'lKq4Qsz13FDcAVgp49uukQ', 'SnXZkRN9Yf060pNTk1HMDg')\n"
     ]
    }
   ],
   "source": [
    "sql = '''\n",
    "SELECT * FROM review LIMIT 3;\n",
    "'''\n",
    "cursor.execute(sql)\n",
    "result = cursor.fetchall() \n",
    "for row in result:\n",
    "    print(row)"
   ]
  },
  {
   "cell_type": "code",
   "execution_count": 79,
   "metadata": {},
   "outputs": [
    {
     "name": "stdout",
     "output_type": "stream",
     "text": [
      "('--6MefnULPED_I942VcFNA', \"John's Chinese BBQ Restaurant\", '', '328 Highway 7 E, Chalmers Gate 11, Unit 10', 'Richmond Hill', 'ON', 'L4B 3P7', 43.8409, -79.3996, 3.0, 30, 1)\n",
      "('--7zmmkVg-IMGaXbuVd0SQ', 'Primal Brewery', '', '16432 Old Statesville Rd', 'Huntersville', 'NC', '28078', 35.4371, -80.8437, 4.0, 42, 1)\n",
      "('--8LPVSo5i0Oo61X01sV9A', 'Valley Bone and Joint Specialists', '', '3941 E Baseline Rd, Ste 102', 'Gilbert', 'AZ', '85234', 33.3795, -111.728, 4.5, 3, 1)\n"
     ]
    }
   ],
   "source": [
    "sql = '''\n",
    "SELECT * FROM business LIMIT 3;\n",
    "'''\n",
    "cursor.execute(sql)\n",
    "result = cursor.fetchall() \n",
    "for row in result:\n",
    "    print(row)"
   ]
  },
  {
   "cell_type": "code",
   "execution_count": 80,
   "metadata": {},
   "outputs": [
    {
     "name": "stdout",
     "output_type": "stream",
     "text": [
      "('7KPBkxAOEtb3QeIL9PEErg', 'Thursday-21:00', 4)\n",
      "('7KPBkxAOEtb3QeIL9PEErg', 'Thursday-1:00', 1)\n",
      "('7KPBkxAOEtb3QeIL9PEErg', 'Thursday-4:00', 1)\n"
     ]
    }
   ],
   "source": [
    "sql = '''\n",
    "SELECT * FROM checkin LIMIT 3;\n",
    "'''\n",
    "cursor.execute(sql)\n",
    "result = cursor.fetchall() \n",
    "for row in result:\n",
    "    print(row)"
   ]
  },
  {
   "cell_type": "code",
   "execution_count": 82,
   "metadata": {},
   "outputs": [
    {
     "name": "stdout",
     "output_type": "stream",
     "text": [
      "('--0uqWanwN31OkuuwJ1zjQ', 'XIg92ukZJn_1aiNx0OmusQ', 'Le Gadboi: Poutine with pogos and onion rings.', 'food')\n",
      "('--3gCyYz0Eo3r07tAvUbhg', 'VeiL_tgw7dsl-7IcnOsh0g', 'Their OMAKASE is AMAZING!!!!! Very recommended', 'food')\n",
      "('--3vR19cePIkGQBgcLsQkw', 'If6Bku2jkgPiikR6HBu-XQ', 'Big steak omelette', 'food')\n"
     ]
    }
   ],
   "source": [
    "sql = '''\n",
    "SELECT * FROM photo LIMIT 3;\n",
    "'''\n",
    "cursor.execute(sql)\n",
    "result = cursor.fetchall() \n",
    "for row in result:\n",
    "    print(row)"
   ]
  },
  {
   "cell_type": "code",
   "execution_count": 83,
   "metadata": {},
   "outputs": [
    {
     "name": "stdout",
     "output_type": "stream",
     "text": [
      "('zcTZk7OG8ovAmh_fenH21g', 'tJRDll5yqpZwehenzE2cSg', 'Get here early enough to have dinner.', datetime.datetime(2012, 7, 15, 0, 0), 0)\n",
      "('ZcLKXikTHYOnYt5VYRO5sg', 'jH19V2I9fIslnNhDzPmdkA', 'Great breakfast large portions and friendly waitress. I highly recommend it', datetime.datetime(2015, 8, 12, 0, 0), 0)\n",
      "('oaYhjqBbh18ZhU0bpyzSuw', 'dAa0hB2yrnHzVmsCkN4YvQ', 'Nice place. Great staff.  A fixture in the township forever', datetime.datetime(2014, 6, 20, 0, 0), 0)\n"
     ]
    }
   ],
   "source": [
    "sql = '''\n",
    "SELECT * FROM tip LIMIT 3;\n",
    "'''\n",
    "cursor.execute(sql)\n",
    "result = cursor.fetchall() \n",
    "for row in result:\n",
    "    print(row)"
   ]
  },
  {
   "cell_type": "code",
   "execution_count": 85,
   "metadata": {},
   "outputs": [
    {
     "name": "stdout",
     "output_type": "stream",
     "text": [
      "('---1lKK3aKOuomHnwAkAow', 'Monera', 245, datetime.datetime(2007, 6, 4, 0, 0), 67, 22, 9, 15, 3.97, 2, 3, 2, 1, 0, 5, 9, 9, 9, 9, 0)\n",
      "('---94vtJ_5o_nikEs6hUjg', 'Joe', 2, datetime.datetime(2016, 5, 27, 0, 0), 0, 0, 0, 0, 5.0, 0, 0, 0, 0, 0, 0, 0, 0, 0, 0, 0)\n",
      "('---cu1hq55BP9DWVXXKHZg', 'Jeb', 57, datetime.datetime(2009, 4, 18, 0, 0), 34, 14, 0, 0, 3.79, 0, 0, 0, 0, 0, 3, 2, 0, 0, 0, 0)\n"
     ]
    }
   ],
   "source": [
    "sql = '''\n",
    "SELECT * FROM user LIMIT 3;\n",
    "'''\n",
    "cursor.execute(sql)\n",
    "result = cursor.fetchall() \n",
    "for row in result:\n",
    "    print(row)"
   ]
  },
  {
   "cell_type": "code",
   "execution_count": 86,
   "metadata": {},
   "outputs": [
    {
     "name": "stdout",
     "output_type": "stream",
     "text": [
      "('YDf95gJZaq05wvo7hTQbbQ', 'RestaurantsPriceRange2', '2')\n",
      "('YDf95gJZaq05wvo7hTQbbQ', 'BusinessParking', '{\"garage\": false, \"street\": false, \"validated\": false, \"lot\": true, \"valet\": false}')\n",
      "('YDf95gJZaq05wvo7hTQbbQ', 'BikeParking', '1')\n"
     ]
    }
   ],
   "source": [
    "sql = '''\n",
    "SELECT * FROM attribute LIMIT 3;\n",
    "'''\n",
    "cursor.execute(sql)\n",
    "result = cursor.fetchall() \n",
    "for row in result:\n",
    "    print(row)"
   ]
  },
  {
   "cell_type": "code",
   "execution_count": 77,
   "metadata": {
    "collapsed": true
   },
   "outputs": [],
   "source": [
    "cursor.close()\n",
    "cursor = conn.cursor()"
   ]
  },
  {
   "cell_type": "markdown",
   "metadata": {},
   "source": [
    "# Part 3: Is average rating in Yelp useful for every restaurant? "
   ]
  },
  {
   "cell_type": "markdown",
   "metadata": {},
   "source": [
    "### Total \"Useful\" counts by different stars"
   ]
  },
  {
   "cell_type": "markdown",
   "metadata": {},
   "source": [
    "#### We grouped the total number of useful votes received by different stars in the review dataset and plotted a bar chart to show the count by star and a pie chart to show the proportion by star"
   ]
  },
  {
   "cell_type": "code",
   "execution_count": 13,
   "metadata": {},
   "outputs": [
    {
     "name": "stdout",
     "output_type": "stream",
     "text": [
      "   stars    usefuls\n",
      "0      1   838496.0\n",
      "1      2   463910.0\n",
      "2      3   602440.0\n",
      "3      4  1213650.0\n",
      "4      5  1562942.0\n"
     ]
    }
   ],
   "source": [
    "useful_count = pdsql.read_sql('select stars, sum(useful) as usefuls from review where useful>0 group by stars;',conn)\n",
    "print(useful_count)"
   ]
  },
  {
   "cell_type": "markdown",
   "metadata": {
    "collapsed": true
   },
   "source": [
    "Total usefuls: 4,681,438"
   ]
  },
  {
   "cell_type": "code",
   "execution_count": 14,
   "metadata": {},
   "outputs": [
    {
     "data": {
      "text/plain": [
       "<matplotlib.figure.Figure at 0x107007470>"
      ]
     },
     "metadata": {},
     "output_type": "display_data"
    },
    {
     "data": {
      "image/png": "[encoded data removed]",
      "text/plain": [
       "<matplotlib.figure.Figure at 0x107007ac8>"
      ]
     },
     "metadata": {},
     "output_type": "display_data"
    }
   ],
   "source": [
    "plt.clf()\n",
    "useful_count.plot(kind='bar', x='stars', y='usefuls', label ='usefulness', color = 'blue')\n",
    "plt.show()"
   ]
  },
  {
   "cell_type": "code",
   "execution_count": 15,
   "metadata": {},
   "outputs": [
    {
     "data": {
      "text/plain": [
       "<matplotlib.figure.Figure at 0x106c43438>"
      ]
     },
     "metadata": {},
     "output_type": "display_data"
    },
    {
     "data": {
      "image/png": "[encoded data removed]",
      "text/plain": [
       "<matplotlib.figure.Figure at 0x10f52de48>"
      ]
     },
     "metadata": {},
     "output_type": "display_data"
    }
   ],
   "source": [
    "plt.clf()\n",
    "labels = '1star', '2star', '3star', '4star', '5star'\n",
    "sizes = useful_count.usefuls\n",
    "explode = (0, 0, 0, 0, 0)\n",
    "fig1, ax1 = plt.subplots()\n",
    "ax1.pie(sizes, explode=explode, labels=labels, autopct='%1.1f%%',\n",
    "        shadow=True, startangle=90)\n",
    "ax1.axis('equal')  # Equal aspect ratio ensures that pie is drawn as a circle.\n",
    "\n",
    "plt.show()\n"
   ]
  },
  {
   "cell_type": "code",
   "execution_count": 16,
   "metadata": {
    "collapsed": true
   },
   "outputs": [],
   "source": [
    "del useful_count"
   ]
  },
  {
   "cell_type": "code",
   "execution_count": 17,
   "metadata": {
    "collapsed": true
   },
   "outputs": [],
   "source": [
    "cursor.close()\n",
    "cursor = conn.cursor()"
   ]
  },
  {
   "cell_type": "markdown",
   "metadata": {},
   "source": [
    "### Total \"Useful Reviews\" count by different stars"
   ]
  },
  {
   "cell_type": "markdown",
   "metadata": {},
   "source": [
    "#### We grouped the total number of useful reviews by different stars in the review dataset and plotted a bar chart to show the quantity by star and a pie chart to show the proportion by star"
   ]
  },
  {
   "cell_type": "code",
   "execution_count": 18,
   "metadata": {},
   "outputs": [
    {
     "name": "stdout",
     "output_type": "stream",
     "text": [
      "   stars  total_useful_r\n",
      "0      1          327603\n",
      "1      2          196108\n",
      "2      3          251347\n",
      "3      4          485089\n",
      "4      5          721843\n"
     ]
    }
   ],
   "source": [
    "total_useful_review_count = pdsql.read_sql('select stars, count(*) as total_useful_r from review where useful>0 group by stars;',conn)\n",
    "print(total_useful_review_count)"
   ]
  },
  {
   "cell_type": "markdown",
   "metadata": {},
   "source": [
    "total useful review 1981990"
   ]
  },
  {
   "cell_type": "code",
   "execution_count": 19,
   "metadata": {},
   "outputs": [
    {
     "data": {
      "text/plain": [
       "<matplotlib.figure.Figure at 0x106c39c88>"
      ]
     },
     "metadata": {},
     "output_type": "display_data"
    },
    {
     "data": {
      "image/png": "[encoded data removed]",
      "text/plain": [
       "<matplotlib.figure.Figure at 0x10f57d860>"
      ]
     },
     "metadata": {},
     "output_type": "display_data"
    }
   ],
   "source": [
    "plt.clf()\n",
    "total_useful_review_count.plot(kind='bar', x='stars', y='total_useful_r', label ='Total Useful Review', color = 'blue')\n",
    "plt.show()"
   ]
  },
  {
   "cell_type": "code",
   "execution_count": 20,
   "metadata": {},
   "outputs": [
    {
     "data": {
      "text/plain": [
       "<matplotlib.figure.Figure at 0x106c39f60>"
      ]
     },
     "metadata": {},
     "output_type": "display_data"
    },
    {
     "data": {
      "image/png": "[encoded data removed]",
      "text/plain": [
       "<matplotlib.figure.Figure at 0x10f630c50>"
      ]
     },
     "metadata": {},
     "output_type": "display_data"
    }
   ],
   "source": [
    "plt.clf()\n",
    "labels = '1star', '2star', '3star', '4star', '5star'\n",
    "sizes = total_useful_review_count.total_useful_r\n",
    "explode = (0, 0, 0, 0, 0)\n",
    "fig1, ax1 = plt.subplots()\n",
    "ax1.pie(sizes, explode=explode, labels=labels, autopct='%1.1f%%',\n",
    "        shadow=True, startangle=90)\n",
    "ax1.axis('equal')  # Equal aspect ratio ensures that pie is drawn as a circle.\n",
    "\n",
    "plt.show()"
   ]
  },
  {
   "cell_type": "code",
   "execution_count": 21,
   "metadata": {
    "collapsed": true
   },
   "outputs": [],
   "source": [
    "del total_useful_review_count"
   ]
  },
  {
   "cell_type": "markdown",
   "metadata": {},
   "source": [
    "### Total \"Review\" counts by different stars"
   ]
  },
  {
   "cell_type": "markdown",
   "metadata": {},
   "source": [
    "#### We grouped the total number of reviews by different stars in the review dataset and plotted a bar chart to show the count by star and a pie chart to show the proportion by star"
   ]
  },
  {
   "cell_type": "code",
   "execution_count": 22,
   "metadata": {},
   "outputs": [
    {
     "name": "stdout",
     "output_type": "stream",
     "text": [
      "   stars   totalR\n",
      "0      1   639849\n",
      "1      2   402396\n",
      "2      3   570819\n",
      "3      4  1135830\n",
      "4      5  1988003\n"
     ]
    }
   ],
   "source": [
    "total_review_count = pdsql.read_sql('select stars, count(*) as totalR from review group by stars;',conn)\n",
    "print(total_review_count)"
   ]
  },
  {
   "cell_type": "markdown",
   "metadata": {
    "collapsed": true
   },
   "source": [
    "Total reviews 4,736,897"
   ]
  },
  {
   "cell_type": "code",
   "execution_count": 23,
   "metadata": {},
   "outputs": [
    {
     "data": {
      "text/plain": [
       "<matplotlib.figure.Figure at 0x10f77eb00>"
      ]
     },
     "metadata": {},
     "output_type": "display_data"
    },
    {
     "data": {
      "image/png": "[encoded data removed]",
      "text/plain": [
       "<matplotlib.figure.Figure at 0x106c39f98>"
      ]
     },
     "metadata": {},
     "output_type": "display_data"
    }
   ],
   "source": [
    "plt.clf()\n",
    "total_review_count.plot(kind='bar', x='stars', y='totalR', label ='TOTAL REVIEWS', color = 'blue')\n",
    "plt.show()"
   ]
  },
  {
   "cell_type": "code",
   "execution_count": 24,
   "metadata": {},
   "outputs": [
    {
     "data": {
      "text/plain": [
       "<matplotlib.figure.Figure at 0x10f77eac8>"
      ]
     },
     "metadata": {},
     "output_type": "display_data"
    },
    {
     "data": {
      "image/png": "[encoded data removed]",
      "text/plain": [
       "<matplotlib.figure.Figure at 0x10f7caa58>"
      ]
     },
     "metadata": {},
     "output_type": "display_data"
    }
   ],
   "source": [
    "plt.clf()\n",
    "labels = '1star', '2star', '3star', '4star', '5star'\n",
    "sizes = total_review_count.totalR\n",
    "explode = (0, 0, 0, 0, 0)\n",
    "fig1, ax1 = plt.subplots()\n",
    "ax1.pie(sizes, explode=explode, labels=labels, autopct='%1.1f%%',\n",
    "        shadow=True, startangle=90)\n",
    "ax1.axis('equal')  # Equal aspect ratio ensures that pie is drawn as a circle.\n",
    "\n",
    "plt.show()"
   ]
  },
  {
   "cell_type": "markdown",
   "metadata": {},
   "source": [
    "#### 5 star reviews contributed to slightly lower than half of the total reviews. However, 5 star reviews are less useful than 1 star reviews since they contributed only 1/3 of the \"Useful Reviews.\" We also see the opposite effect for 1 star reviews. Potentially, this is  beause people complain more about bad places than they praise good ones. Also, people may put more importance in avioding bad restaurants compared to selecting the perfect restaurant out of a long list of highly-rated restaurants. "
   ]
  },
  {
   "cell_type": "code",
   "execution_count": 25,
   "metadata": {
    "collapsed": true
   },
   "outputs": [],
   "source": [
    "del total_review_count"
   ]
  },
  {
   "cell_type": "code",
   "execution_count": 26,
   "metadata": {
    "collapsed": true
   },
   "outputs": [],
   "source": [
    "cursor.close()\n",
    "cursor = conn.cursor()"
   ]
  },
  {
   "cell_type": "markdown",
   "metadata": {},
   "source": [
    "# Part 4: Do people go to 5 stars places more often? "
   ]
  },
  {
   "cell_type": "markdown",
   "metadata": {},
   "source": [
    "### Checkin and Stars"
   ]
  },
  {
   "cell_type": "markdown",
   "metadata": {},
   "source": [
    "#### We created a temporary table named temp which contains the total number of check-in counts grouped by different businesses and the businesses’ corresponding star"
   ]
  },
  {
   "cell_type": "code",
   "execution_count": 29,
   "metadata": {
    "collapsed": true
   },
   "outputs": [],
   "source": [
    "sql=''' \n",
    "create table temp as \n",
    "(select sum(count) as total_checkin, stars\n",
    "from checkin\n",
    "join business on checkin.business_id = business.id\n",
    "group by business_id\n",
    "order by sum(count) desc);\n",
    "'''\n",
    "cursor.execute(sql)\n",
    "result = cursor.fetchall() \n",
    "for row in result:\n",
    "    print(row)"
   ]
  },
  {
   "cell_type": "markdown",
   "metadata": {},
   "source": [
    "#### We grouped the total number of check-ins of all the business by their different stars in the temp table and plotted a bar chart to show the count by star and a pie chart to show the proportion by star"
   ]
  },
  {
   "cell_type": "code",
   "execution_count": 30,
   "metadata": {},
   "outputs": [
    {
     "name": "stdout",
     "output_type": "stream",
     "text": [
      "   ttlcheckin  stars\n",
      "0     14460.0    1.0\n",
      "1     86867.0    1.5\n",
      "2    317136.0    2.0\n",
      "3    969137.0    2.5\n",
      "4   2428887.0    3.0\n",
      "5   4101479.0    3.5\n",
      "6   5209824.0    4.0\n",
      "7   2308746.0    4.5\n",
      "8    379697.0    5.0\n"
     ]
    }
   ],
   "source": [
    "cstar1 = pdsql.read_sql(' select sum(total_checkin) as ttlcheckin, stars from temp group by stars; ',conn)\n",
    "print(cstar1)"
   ]
  },
  {
   "cell_type": "code",
   "execution_count": 31,
   "metadata": {},
   "outputs": [
    {
     "data": {
      "text/plain": [
       "<matplotlib.figure.Figure at 0x10f8901d0>"
      ]
     },
     "metadata": {},
     "output_type": "display_data"
    },
    {
     "data": {
      "image/png": "[encoded data removed]",
      "text/plain": [
       "<matplotlib.figure.Figure at 0x10f945d68>"
      ]
     },
     "metadata": {},
     "output_type": "display_data"
    }
   ],
   "source": [
    "plt.clf()\n",
    "cstar1.plot(kind='bar', x='stars', y='ttlcheckin', label ='Checkin by Stars', color = 'blue')\n",
    "plt.show()"
   ]
  },
  {
   "cell_type": "code",
   "execution_count": 32,
   "metadata": {},
   "outputs": [
    {
     "data": {
      "text/plain": [
       "<matplotlib.figure.Figure at 0x10f94fef0>"
      ]
     },
     "metadata": {},
     "output_type": "display_data"
    },
    {
     "data": {
      "image/png": "[encoded data removed]",
      "text/plain": [
       "<matplotlib.figure.Figure at 0x10fa03cc0>"
      ]
     },
     "metadata": {},
     "output_type": "display_data"
    }
   ],
   "source": [
    "plt.clf()\n",
    "labels = '1','1.5', '2','2.5','3','3.5','4','4.5','5'\n",
    "sizes = cstar1.ttlcheckin\n",
    "explode = (0, 0, 0, 0, 0,0,0,0,0)\n",
    "fig1, ax1 = plt.subplots()\n",
    "ax1.pie(sizes, explode=explode, labels=labels, autopct='%1.1f%%',\n",
    "        shadow=True, startangle=90)\n",
    "ax1.axis('equal')  # Equal aspect ratio ensures that pie is drawn as a circle.\n",
    "\n",
    "plt.show()"
   ]
  },
  {
   "cell_type": "markdown",
   "metadata": {},
   "source": [
    "#### From the chart, we can see people go to restaurants with 3.5 to 4.5 stars more often. It may be because many 5 star restaurants have very high prices and people don't think they deserve such a high price. Also, a prestigous restaurant with a great tradition could have a 5 star rating, but maybe the restaurant has not been living up to that reputation within the past few years."
   ]
  },
  {
   "cell_type": "code",
   "execution_count": 33,
   "metadata": {
    "collapsed": true
   },
   "outputs": [],
   "source": [
    "del cstar1"
   ]
  },
  {
   "cell_type": "code",
   "execution_count": 34,
   "metadata": {},
   "outputs": [
    {
     "data": {
      "text/plain": [
       "0"
      ]
     },
     "execution_count": 34,
     "metadata": {},
     "output_type": "execute_result"
    }
   ],
   "source": [
    "sql='''drop table temp'''\n",
    "cursor.execute(sql)"
   ]
  },
  {
   "cell_type": "code",
   "execution_count": 35,
   "metadata": {
    "collapsed": true
   },
   "outputs": [],
   "source": [
    "cursor.close()\n",
    "cursor = conn.cursor()"
   ]
  },
  {
   "cell_type": "markdown",
   "metadata": {},
   "source": [
    "# Part 5: Do more photos posted indicate high rating?"
   ]
  },
  {
   "cell_type": "markdown",
   "metadata": {},
   "source": [
    "#### We selected the name of business, caption of the photo, and label of the photo from the joined table of business. We printed the first five rows where the label is “food.”"
   ]
  },
  {
   "cell_type": "code",
   "execution_count": 40,
   "metadata": {},
   "outputs": [
    {
     "name": "stdout",
     "output_type": "stream",
     "text": [
      "('Restaurant Greenspot', 'Le Gadboi: Poutine with pogos and onion rings.', 'food')\n",
      "('Sushi Hiro', 'Their OMAKASE is AMAZING!!!!! Very recommended', 'food')\n",
      "('IHOP', 'Big steak omelette', 'food')\n",
      "('Shake Shack', '', 'food')\n",
      "(\"Big B's Texas BBQ\", 'Chocolate Cake 08/12/17 @endoedibles on Instagram for more', 'food')\n"
     ]
    }
   ],
   "source": [
    "sql=''' \n",
    "select name, caption, label\n",
    "from photo\n",
    "join business on photo.business_id = business.id\n",
    "where label = \"food\"\n",
    "limit 5;\n",
    "'''\n",
    "cursor.execute(sql)\n",
    "result = cursor.fetchall() \n",
    "for row in result:\n",
    "    print(row)"
   ]
  },
  {
   "cell_type": "markdown",
   "metadata": {},
   "source": [
    "#### We grouped the total number of labels by the name of business and showed the first ten rows"
   ]
  },
  {
   "cell_type": "code",
   "execution_count": 41,
   "metadata": {},
   "outputs": [
    {
     "name": "stdout",
     "output_type": "stream",
     "text": [
      "('Chipotle Mexican Grill', 1385)\n",
      "('Symposium Cafe Restaurant & Lounge', 1314)\n",
      "('Pizza Hut', 1115)\n",
      "('El Pollo Loco', 1067)\n",
      "(\"Filiberto's Mexican Food\", 1014)\n",
      "(\"Denny's\", 819)\n",
      "('KFC', 775)\n",
      "('Pita Jungle', 751)\n",
      "('Bacchanal Buffet', 742)\n",
      "('First Watch - Breakfast, Brunch & Lunch', 664)\n"
     ]
    }
   ],
   "source": [
    "sql=''' \n",
    "select name, count(label) as num_pic\n",
    "from photo\n",
    "join business on photo.business_id = business.id\n",
    "where label = \"food\"\n",
    "group by name\n",
    "order by num_pic desc\n",
    "limit 10;\n",
    "'''\n",
    "cursor.execute(sql)\n",
    "result = cursor.fetchall() \n",
    "for row in result:\n",
    "    print(row)"
   ]
  },
  {
   "cell_type": "markdown",
   "metadata": {},
   "source": [
    "#### The restaurants having most pictures reviews are fast food restaurants, which was not what we expected. We wanted to see the bigger picture, so we continued this aspect of the analysis."
   ]
  },
  {
   "cell_type": "markdown",
   "metadata": {},
   "source": [
    "### Photo vs Rating"
   ]
  },
  {
   "cell_type": "markdown",
   "metadata": {},
   "source": [
    "#### We created another temporary table named temp1 which contains business ID and total number of photos with the label “food.” Then, we grouped by different businesses in the descending order."
   ]
  },
  {
   "cell_type": "code",
   "execution_count": 42,
   "metadata": {},
   "outputs": [
    {
     "name": "stderr",
     "output_type": "stream",
     "text": [
      "/Users/xin/anaconda3/lib/python3.6/site-packages/pymysql/cursors.py:166: Warning: (1051, \"Unknown table 'yelp_db.temp1'\")\n",
      "  result = self._query(query)\n"
     ]
    },
    {
     "data": {
      "text/plain": [
       "0"
      ]
     },
     "execution_count": 42,
     "metadata": {},
     "output_type": "execute_result"
    }
   ],
   "source": [
    "sql ='''\n",
    "drop table if exists temp1;\n",
    "'''\n",
    "cursor.execute(sql)"
   ]
  },
  {
   "cell_type": "code",
   "execution_count": 43,
   "metadata": {
    "collapsed": true
   },
   "outputs": [],
   "source": [
    "sql=''' \n",
    "create table temp1 as \n",
    "(select photo.business_id as temp_business_id, count(label) as num_pic\n",
    "from photo\n",
    "join business on photo.business_id = business.id\n",
    "where label = \"food\"\n",
    "group by temp_business_id\n",
    "order by num_pic desc);\n",
    "'''\n",
    "cursor.execute(sql)"
   ]
  },
  {
   "cell_type": "markdown",
   "metadata": {},
   "source": [
    "#### We printed the top three business ID's with the highest number of photos."
   ]
  },
  {
   "cell_type": "code",
   "execution_count": 44,
   "metadata": {},
   "outputs": [
    {
     "name": "stdout",
     "output_type": "stream",
     "text": [
      "('RESDUcs7fIiihp38-d6_6g', 742)\n",
      "('K7lWdNUhCbcnEvI0NhGewg', 418)\n",
      "('faPVqws-x-5k2CQKDNtHxw', 339)\n"
     ]
    }
   ],
   "source": [
    "sql=''' \n",
    "select temp_business_id, num_pic\n",
    "from temp1\n",
    "limit 3;\n",
    "'''\n",
    "cursor.execute(sql)\n",
    "result = cursor.fetchall() \n",
    "for row in result:\n",
    "    print(row)"
   ]
  },
  {
   "cell_type": "markdown",
   "metadata": {},
   "source": [
    "#### We grouped the total number of photos with the label “food” of all the businesses by the different stars from the joined table of temp1, business and photo. Then, we plotted a bar chart to show the count by star and a pie chart to show the proportion by star"
   ]
  },
  {
   "cell_type": "code",
   "execution_count": 45,
   "metadata": {},
   "outputs": [
    {
     "name": "stdout",
     "output_type": "stream",
     "text": [
      "(Decimal('7627'), 1.0)\n",
      "(Decimal('9339'), 1.5)\n",
      "(Decimal('33111'), 2.0)\n",
      "(Decimal('134782'), 2.5)\n",
      "(Decimal('307643'), 3.0)\n",
      "(Decimal('794802'), 3.5)\n",
      "(Decimal('1788548'), 4.0)\n",
      "(Decimal('988460'), 4.5)\n",
      "(Decimal('38707'), 5.0)\n"
     ]
    }
   ],
   "source": [
    "sql=''' \n",
    "select sum(num_pic), stars\n",
    "from temp1\n",
    "join business on temp1.temp_business_id = business.id\n",
    "join photo on temp1.temp_business_id = photo.business_id\n",
    "where label = \"food\"\n",
    "group by stars;\n",
    "'''\n",
    "cursor.execute(sql)\n",
    "result = cursor.fetchall() \n",
    "for row in result:\n",
    "    print(row)"
   ]
  },
  {
   "cell_type": "code",
   "execution_count": 46,
   "metadata": {},
   "outputs": [
    {
     "name": "stdout",
     "output_type": "stream",
     "text": [
      "     sum_pic  stars\n",
      "0     7627.0    1.0\n",
      "1     9339.0    1.5\n",
      "2    33111.0    2.0\n",
      "3   134782.0    2.5\n",
      "4   307643.0    3.0\n",
      "5   794802.0    3.5\n",
      "6  1788548.0    4.0\n",
      "7   988460.0    4.5\n",
      "8    38707.0    5.0\n"
     ]
    }
   ],
   "source": [
    "numpic_star = pdsql.read_sql(' select sum(num_pic) as sum_pic, stars from temp1 join business on temp1.temp_business_id = business.id join photo on temp1.temp_business_id = photo.business_id where label = \"food\" group by stars; ',conn)\n",
    "print(numpic_star)"
   ]
  },
  {
   "cell_type": "code",
   "execution_count": 47,
   "metadata": {},
   "outputs": [
    {
     "data": {
      "text/plain": [
       "<matplotlib.figure.Figure at 0x10f86f2b0>"
      ]
     },
     "metadata": {},
     "output_type": "display_data"
    },
    {
     "data": {
      "image/png": "[encoded data removed]",
      "text/plain": [
       "<matplotlib.figure.Figure at 0x10f7fd320>"
      ]
     },
     "metadata": {},
     "output_type": "display_data"
    }
   ],
   "source": [
    "import matplotlib.pyplot as plt\n",
    "plt.clf()\n",
    "numpic_star.plot(kind='bar', x='stars', y='sum_pic', label ='num_pic by Stars', color = 'blue')\n",
    "plt.show()"
   ]
  },
  {
   "cell_type": "code",
   "execution_count": 48,
   "metadata": {},
   "outputs": [
    {
     "data": {
      "image/png": "[encoded data removed]",
      "text/plain": [
       "<matplotlib.figure.Figure at 0x10f7fd1d0>"
      ]
     },
     "metadata": {},
     "output_type": "display_data"
    }
   ],
   "source": [
    "labels = '1','1.5', '2','2.5','3','3.5','4','4.5','5'\n",
    "sizes = numpic_star.sum_pic\n",
    "explode = (0, 0, 0, 0, 0,0,0,0,0)\n",
    "fig1, ax1 = plt.subplots()\n",
    "ax1.pie(sizes, explode=explode, labels=labels, autopct='%1.1f%%',\n",
    "        shadow=True, startangle=90)\n",
    "ax1.axis('equal')  # Equal aspect ratio ensures that pie is drawn as a circle.\n",
    "\n",
    "plt.show()"
   ]
  },
  {
   "cell_type": "markdown",
   "metadata": {},
   "source": [
    "#### 4 star restaurants get more photos posted compared to 5 star restaurants. However, it is interesting that 3.5 star restaurants get more checkins and photos posted rather than 4.5 star restaurants. The number of pictures posted is not a good indicator for quality of service, but it is an indicator for popularity because it trends well with check-ins."
   ]
  },
  {
   "cell_type": "code",
   "execution_count": 49,
   "metadata": {
    "collapsed": true
   },
   "outputs": [],
   "source": [
    "del numpic_star"
   ]
  },
  {
   "cell_type": "code",
   "execution_count": 50,
   "metadata": {},
   "outputs": [
    {
     "data": {
      "text/plain": [
       "0"
      ]
     },
     "execution_count": 50,
     "metadata": {},
     "output_type": "execute_result"
    }
   ],
   "source": [
    "sql='''drop table temp1'''\n",
    "cursor.execute(sql)"
   ]
  },
  {
   "cell_type": "code",
   "execution_count": 51,
   "metadata": {
    "collapsed": true
   },
   "outputs": [],
   "source": [
    "cursor.close()\n",
    "cursor = conn.cursor()"
   ]
  },
  {
   "cell_type": "markdown",
   "metadata": {},
   "source": [
    "#### Now we can see that 4 star restaurants have the most pictures posted.  "
   ]
  },
  {
   "cell_type": "markdown",
   "metadata": {},
   "source": [
    "# Part 6: Text analysis of tips for one star restaurants"
   ]
  },
  {
   "cell_type": "markdown",
   "metadata": {},
   "source": [
    "#### For 1 star rated restaurants, we selected the name of business, business ID, and text of the tip for the business from the joined table of business and tip to show the top ten rows"
   ]
  },
  {
   "cell_type": "code",
   "execution_count": 73,
   "metadata": {},
   "outputs": [
    {
     "name": "stdout",
     "output_type": "stream",
     "text": [
      "('August Moon Chinese Restaurant', '-2v6N3EZAE4VDkAf7q3CrA', 1.0, 'For Vaughan this is as close to Chinese food you can get lol.')\n",
      "(\"McDonald's\", '-8PU0Z4Q2Nc-sY0eBj4DiQ', 1.0, 'WARNING  - the new cheese sticks are little lead bullets of disappointment. There is no gooey cheesiness even when piping hot.')\n",
      "('Dollar General', '-H49o1OyiCgTsLjsiDNISA', 1.0, 'Come early to avoid lines')\n",
      "('Bank of America', '-hjzsYoPYL6_HD1uuh2laA', 1.0, 'Changed')\n",
      "('Best Buy Scooters', '-KjiHySwXNCreoD01z-irA', 1.0, 'Great store, great prices \\nSales person was very helpful and knowledgeable.')\n",
      "('201 West', '-krioyG0QCtBH81hU56Ghw', 1.0, 'RUN.')\n",
      "('201 West', '-krioyG0QCtBH81hU56Ghw', 1.0, 'run like your hair is on fire!')\n",
      "('201 West', '-krioyG0QCtBH81hU56Ghw', 1.0, 'Do not move here!!!!!!')\n",
      "('201 West', '-krioyG0QCtBH81hU56Ghw', 1.0, 'Do not live here!!!')\n",
      "('Century Parkside Apartments', '-Lw8Ve0NLbR0djHGw2fMOA', 1.0, 'The reviews are hilarious. Green space nicely manicured. They have a pool and tennis courts.')\n"
     ]
    }
   ],
   "source": [
    "sql=''' \n",
    "select name, business_id, stars, text\n",
    "from tip\n",
    "join business on tip.business_id = business.id\n",
    "where stars = 1\n",
    "limit 10;\n",
    "'''\n",
    "cursor.execute(sql)\n",
    "result = cursor.fetchall() \n",
    "for row in result:\n",
    "    print(row)"
   ]
  },
  {
   "cell_type": "markdown",
   "metadata": {},
   "source": [
    "#### We extracted the text written for 1 star restaurants from the Tips to show the first ten texts"
   ]
  },
  {
   "cell_type": "code",
   "execution_count": 54,
   "metadata": {},
   "outputs": [
    {
     "name": "stdout",
     "output_type": "stream",
     "text": [
      "('For Vaughan this is as close to Chinese food you can get lol.',)\n",
      "('WARNING  - the new cheese sticks are little lead bullets of disappointment. There is no gooey cheesiness even when piping hot.',)\n",
      "('Come early to avoid lines',)\n",
      "('Changed',)\n",
      "('Great store, great prices \\nSales person was very helpful and knowledgeable.',)\n",
      "('RUN.',)\n",
      "('run like your hair is on fire!',)\n",
      "('Do not move here!!!!!!',)\n",
      "('Do not live here!!!',)\n",
      "('The reviews are hilarious. Green space nicely manicured. They have a pool and tennis courts.',)\n"
     ]
    }
   ],
   "source": [
    "sql=''' \n",
    "select text\n",
    "from tip\n",
    "join business on tip.business_id = business.id\n",
    "where business.stars = 1\n",
    "limit 10;\n",
    "'''\n",
    "cursor.execute(sql)\n",
    "result = cursor.fetchall() \n",
    "for row in result:\n",
    "    print(row)"
   ]
  },
  {
   "cell_type": "markdown",
   "metadata": {},
   "source": [
    "#### We saved the content of the text to \"tip_for_1star.txt\" and reloaded the file into Jupyter notebook"
   ]
  },
  {
   "cell_type": "code",
   "execution_count": 55,
   "metadata": {
    "collapsed": true
   },
   "outputs": [],
   "source": [
    "tip_for_1star = pdsql.read_sql('select text from tip join business on tip.business_id = business.id where business.stars = 1;',conn)"
   ]
  },
  {
   "cell_type": "code",
   "execution_count": 56,
   "metadata": {
    "collapsed": true
   },
   "outputs": [],
   "source": [
    "tip_for_1star.to_csv('tip_for_1star.txt', index = False)"
   ]
  },
  {
   "cell_type": "code",
   "execution_count": 57,
   "metadata": {},
   "outputs": [
    {
     "data": {
      "text/html": [
       "<div>\n",
       "<style>\n",
       "    .dataframe thead tr:only-child th {\n",
       "        text-align: right;\n",
       "    }\n",
       "\n",
       "    .dataframe thead th {\n",
       "        text-align: left;\n",
       "    }\n",
       "\n",
       "    .dataframe tbody tr th {\n",
       "        vertical-align: top;\n",
       "    }\n",
       "</style>\n",
       "<table border=\"1\" class=\"dataframe\">\n",
       "  <thead>\n",
       "    <tr style=\"text-align: right;\">\n",
       "      <th></th>\n",
       "      <th>text</th>\n",
       "    </tr>\n",
       "  </thead>\n",
       "  <tbody>\n",
       "    <tr>\n",
       "      <th>0</th>\n",
       "      <td>For Vaughan this is as close to Chinese food y...</td>\n",
       "    </tr>\n",
       "    <tr>\n",
       "      <th>1</th>\n",
       "      <td>WARNING  - the new cheese sticks are little le...</td>\n",
       "    </tr>\n",
       "    <tr>\n",
       "      <th>2</th>\n",
       "      <td>Come early to avoid lines</td>\n",
       "    </tr>\n",
       "    <tr>\n",
       "      <th>3</th>\n",
       "      <td>Changed</td>\n",
       "    </tr>\n",
       "    <tr>\n",
       "      <th>4</th>\n",
       "      <td>Great store, great prices \\nSales person was v...</td>\n",
       "    </tr>\n",
       "  </tbody>\n",
       "</table>\n",
       "</div>"
      ],
      "text/plain": [
       "                                                text\n",
       "0  For Vaughan this is as close to Chinese food y...\n",
       "1  WARNING  - the new cheese sticks are little le...\n",
       "2                          Come early to avoid lines\n",
       "3                                            Changed\n",
       "4  Great store, great prices \\nSales person was v..."
      ]
     },
     "execution_count": 57,
     "metadata": {},
     "output_type": "execute_result"
    }
   ],
   "source": [
    "pd.read_csv('tip_for_1star.txt').head()"
   ]
  },
  {
   "cell_type": "code",
   "execution_count": 58,
   "metadata": {
    "collapsed": true
   },
   "outputs": [],
   "source": [
    "del tip_for_1star"
   ]
  },
  {
   "cell_type": "markdown",
   "metadata": {},
   "source": [
    "#### We split the text word for word and printed out the frequency of the words in descending order"
   ]
  },
  {
   "cell_type": "code",
   "execution_count": 76,
   "metadata": {},
   "outputs": [
    {
     "name": "stdout",
     "output_type": "stream",
     "text": [
      "1138 the\r\n",
      " 816 and\r\n",
      " 475 you\r\n",
      " 446 they\r\n",
      " 404 for\r\n",
      " 397 this\r\n",
      " 339 not\r\n",
      " 222 was\r\n",
      " 220 have\r\n",
      " 213 are\r\n",
      " 211 don\r\n",
      " 201 service\r\n",
      " 191 your\r\n",
      " 185 with\r\n",
      " 179 here\r\n",
      " 177 that\r\n",
      " 170 place\r\n",
      " 142 get\r\n",
      " 141 from\r\n",
      " 123 time\r\n"
     ]
    }
   ],
   "source": [
    "!grep -oE '\\w{{3,}}' tip_for_1star.txt | grep -v '^[0-9]' | tr '[:upper:]' '[:lower:]' | sort | uniq -c | sort -rn | head -20"
   ]
  },
  {
   "cell_type": "markdown",
   "metadata": {},
   "source": [
    "#### The original word count shows several stopwords. We useed nltk package to get rid of the popular stopwords."
   ]
  },
  {
   "cell_type": "code",
   "execution_count": 61,
   "metadata": {
    "collapsed": true
   },
   "outputs": [],
   "source": [
    "import nltk"
   ]
  },
  {
   "cell_type": "markdown",
   "metadata": {},
   "source": [
    "#### We downloaded the nltk package to analyze stopwords."
   ]
  },
  {
   "cell_type": "markdown",
   "metadata": {},
   "source": [
    "import nltk\n",
    "nltk.download()"
   ]
  },
  {
   "cell_type": "code",
   "execution_count": 62,
   "metadata": {
    "collapsed": true
   },
   "outputs": [],
   "source": [
    "import io\n",
    "from nltk.corpus import stopwords\n",
    "from nltk.tokenize import word_tokenize"
   ]
  },
  {
   "cell_type": "markdown",
   "metadata": {},
   "source": [
    "#### We selected the words in \"tip_for_1star.txt\" that are not stop words and saved them in “filteredtext.txt”"
   ]
  },
  {
   "cell_type": "code",
   "execution_count": 71,
   "metadata": {
    "collapsed": true
   },
   "outputs": [],
   "source": [
    "stop_words = set(stopwords.words('english'))\n",
    "file1 = open(\"tip_for_1star.txt\")\n",
    "line = file1.read()# Use this to read file content as a stream:\n",
    "words = line.split()\n",
    "for r in words:\n",
    "    if r.lower() not in stop_words:\n",
    "        appendFile = open('filteredtext.txt','a')\n",
    "        appendFile.write(\" \"+r)\n",
    "        appendFile.close()"
   ]
  },
  {
   "cell_type": "markdown",
   "metadata": {},
   "source": [
    "#### We filtered the tips for 1 star businesses using nltk.stopwords as a filter and placed the results into a new txt file named \"filtererdtext.txt\"."
   ]
  },
  {
   "cell_type": "code",
   "execution_count": 65,
   "metadata": {},
   "outputs": [
    {
     "name": "stdout",
     "output_type": "stream",
     "text": [
      "{'hadn', 'haven', 'by', 'as', 'over', 'who', 'itself', 'all', 'or', 'from', 'only', 'it', 'on', 'does', 'some', 'until', 'y', 'which', 'have', 'to', 'same', 'for', 'just', 'once', 'most', 'd', 'has', 'up', 'do', 'about', 'was', 'couldn', 'these', 'him', 'being', 'yourselves', 'but', 'o', 'out', 'because', 'we', 'now', 'her', 'more', 'our', 'ourselves', 'this', 'through', 'a', 'hers', 'isn', 'any', 'shouldn', 'she', 'am', 'if', 'himself', 'yours', 'whom', 'his', 'between', 'then', 'don', 'ain', 'that', 'above', 'other', 'should', 'here', 'are', 'did', 'mightn', 'during', 'been', 'can', 'i', 'yourself', 'both', 'own', 'didn', 'very', 'wasn', 'mustn', 't', 'in', 'with', 'further', 're', 'nor', 'themselves', 'after', 'off', 'them', 'shan', 'down', 'such', 'll', 'when', 'me', 'were', 'while', 'an', 'their', 'herself', 'aren', 'than', 'and', 'is', 'myself', 'what', 'its', 'wouldn', 'how', 'too', 'again', 'few', 'why', 've', 'those', 'each', 'there', 'had', 'of', 'your', 'hasn', 'they', 'he', 'so', 'before', 'below', 'my', 'against', 'where', 'not', 'having', 'at', 'won', 'no', 'be', 'under', 's', 'needn', 'weren', 'the', 'ma', 'will', 'you', 'ours', 'theirs', 'into', 'doesn', 'm', 'doing'}\n"
     ]
    }
   ],
   "source": [
    "print(stop_words)"
   ]
  },
  {
   "cell_type": "code",
   "execution_count": 68,
   "metadata": {
    "collapsed": true
   },
   "outputs": [],
   "source": [
    "filteredword = open(\"filteredtext.txt\").readlines()"
   ]
  },
  {
   "cell_type": "markdown",
   "metadata": {},
   "source": [
    "#### We sorted the top 30 common words in “filteredtext.txt” to see that Service is one of the most frequently mentioned words for comments of 1 star restaurants."
   ]
  },
  {
   "cell_type": "code",
   "execution_count": 109,
   "metadata": {},
   "outputs": [
    {
     "name": "stdout",
     "output_type": "stream",
     "text": [
      " 211 don\r\n",
      " 201 service\r\n",
      " 170 place\r\n",
      " 142 get\r\n",
      " 123 time\r\n",
      " 115 company\r\n",
      "  99 here\r\n",
      "  98 one\r\n",
      "  96 never\r\n",
      "  95 ever\r\n",
      "  83 worst\r\n",
      "  80 good\r\n",
      "  79 horrible\r\n",
      "  77 car\r\n",
      "  77 away\r\n",
      "  76 people\r\n",
      "  75 money\r\n",
      "  75 like\r\n",
      "  71 you\r\n",
      "  71 stay\r\n",
      "  71 customer\r\n",
      "  68 would\r\n",
      "  68 use\r\n",
      "  66 even\r\n",
      "  66 business\r\n",
      "  66 back\r\n",
      "  65 great\r\n",
      "  65 food\r\n",
      "  64 bad\r\n",
      "  62 staff\r\n"
     ]
    }
   ],
   "source": [
    "!grep -oE '\\w{{3,}}' filteredtext.txt | grep -v '^[0-9]' | tr '[:upper:]' '[:lower:]' | sort | uniq -c | sort -rn | head -30"
   ]
  },
  {
   "cell_type": "markdown",
   "metadata": {},
   "source": [
    "#### We discovered that \"don't\", \"service\", \"place\" and \"time\" are commonly referenced in reviews for 1 star restaurants, so we recommend business owners to improve their customer service, enviroment and delivery time to improve their overall rating."
   ]
  }
 ],
 "metadata": {
  "kernelspec": {
   "display_name": "Python 3",
   "language": "python",
   "name": "python3"
  },
  "language_info": {
   "codemirror_mode": {
    "name": "ipython",
    "version": 3
   },
   "file_extension": ".py",
   "mimetype": "text/x-python",
   "name": "python",
   "nbconvert_exporter": "python",
   "pygments_lexer": "ipython3",
   "version": "3.6.3"
  }
 },
 "nbformat": 4,
 "nbformat_minor": 2
}
