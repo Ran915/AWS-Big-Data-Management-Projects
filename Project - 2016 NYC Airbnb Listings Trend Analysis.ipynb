{
 "cells": [
  {
   "cell_type": "markdown",
   "metadata": {},
   "source": [
    "# Data Management Project 4 "
   ]
  },
  {
   "cell_type": "markdown",
   "metadata": {},
   "source": [
    "# Part 1 - Selection "
   ]
  },
  {
   "cell_type": "markdown",
   "metadata": {},
   "source": [
    "## Identify your dataset:\n",
    "### The dataset is 2016 AirBnB listings surveyed every month.  \n",
    "## Describe your dataset:\n",
    "### This is information on available listings such as size, location, ratings and price.  This is not transactional data.   \n",
    "## Data Dictionary:\n",
    "- room_id: A unique number identifying an Airbnb listing. The listing has a URL on the Airbnb web site of http://airbnb.com/rooms/room_id.\n",
    "- host_id: A unique number identifying an Airbnb host. The host’s page has a URL on the Airbnb web site of http://airbnb.com/users/show/host_id.\n",
    "- room_type: One of “Entire home/apt”, “Private room”, or “Shared room”.\n",
    "- borough: A subregion of the city or search area for which the survey is carried out. The borough is taken from a shapefile of the city that is obtained independently of the Airbnb web site. For some cities, there is no borough information; for others the borough may be a number. If you have better shapefiles for a city of interest, please send them to me.\n",
    "- neighborhood: As with borough: a subregion of the city or search area for which the survey is carried out. For cities that have both, a neighbourhood is smaller than a borough. For some cities there is no neighbourhood information.\n",
    "- reviews: The number of reviews that a listing has received. Airbnb has said that 70% of visits end up with a review, so the number of reviews can be used to estimate the number of visits. Note that such an estimate will not be reliable for an individual listing (especially as reviews occasionally vanish from the site), but over a city as a whole it should be a useful metric of traffic.\n",
    "- overall_satisfaction: The average rating (out of five) that the listing has received from those visitors who left a review.\n",
    "- accommodates: The number of guests a listing can accommodate.\n",
    "- bedrooms: The number of bedrooms a listing offers.\n",
    "- price: The price (in US) for a night stay. In early surveys, there may be some values that were recorded by month.\n",
    "- minstay: The minimum stay for a visit, as posted by the host.\n",
    "- latitude and longitude: The latitude and longitude of the listing as posted on the Airbnb site: this may be off by a few hundred metres. I do not have a way to track individual listing locations with\n",
    "- last_modified: the date and time that the values were read from the Airbnb web site.\n",
    "\n",
    "## Source:\n",
    "### The datasets were downloaded from http://tomslee.net/airbnb-data-collection-get-the-data because the data was already scrapped from AirBnB and zipped for each major city.\n",
    "## What appeals to you about the dataset:\n",
    "### AirBnB is fascinating because it is a hoteling company that doesn't own any hotels.  It has greatly upset the equilibrium of the lodging industry as Uber has done to the Taxi industry.\n"
   ]
  },
  {
   "cell_type": "code",
   "execution_count": 1,
   "metadata": {},
   "outputs": [
    {
     "name": "stdout",
     "output_type": "stream",
     "text": [
      "--2017-12-08 17:35:06--  https://s3.amazonaws.com/tomslee-airbnb-data-2/new_york.zip\n",
      "Resolving s3.amazonaws.com (s3.amazonaws.com)... 52.216.226.19\n",
      "Connecting to s3.amazonaws.com (s3.amazonaws.com)|52.216.226.19|:443... connected.\n",
      "HTTP request sent, awaiting response... 200 OK\n",
      "Length: 145864407 (139M) [binary/octet-stream]\n",
      "Saving to: ‘new_york.zip’\n",
      "\n",
      "new_york.zip        100%[===================>] 139.11M  86.8MB/s    in 1.6s    \n",
      "\n",
      "2017-12-08 17:35:07 (86.8 MB/s) - ‘new_york.zip’ saved [145864407/145864407]\n",
      "\n"
     ]
    }
   ],
   "source": [
    "!wget -O new_york.zip https://s3.amazonaws.com/tomslee-airbnb-data-2/new_york.zip"
   ]
  },
  {
   "cell_type": "code",
   "execution_count": 2,
   "metadata": {},
   "outputs": [
    {
     "name": "stdout",
     "output_type": "stream",
     "text": [
      "Archive:  new_york.zip\n",
      " extracting: s3_files/new_york/tomslee_airbnb_new_york_0011_2014-05-10.csv  \n",
      " extracting: s3_files/new_york/tomslee_airbnb_new_york_0049_2014-08-31.csv  \n",
      " extracting: s3_files/new_york/tomslee_airbnb_new_york_0056_2014-10-17.csv  \n",
      " extracting: s3_files/new_york/tomslee_airbnb_new_york_0067_2014-12-02.csv  \n",
      " extracting: s3_files/new_york/tomslee_airbnb_new_york_0100_2015-02-27.csv  \n",
      " extracting: s3_files/new_york/tomslee_airbnb_new_york_0105_2015-03-14.csv  \n",
      " extracting: s3_files/new_york/tomslee_airbnb_new_york_0129_2015-08-10.csv  \n",
      " extracting: s3_files/new_york/tomslee_airbnb_new_york_0152_2015-09-10.csv  \n",
      " extracting: s3_files/new_york/tomslee_airbnb_new_york_0175_2015-10-13.csv  \n",
      " extracting: s3_files/new_york/tomslee_airbnb_new_york_0224_2015-12-04.csv  \n",
      " extracting: s3_files/new_york/tomslee_airbnb_new_york_0249_2015-12-21.csv  \n",
      " extracting: s3_files/new_york/tomslee_airbnb_new_york_0291_2016-01-21.csv  \n",
      " extracting: s3_files/new_york/tomslee_airbnb_new_york_0330_2016-02-25.csv  \n",
      " extracting: s3_files/new_york/tomslee_airbnb_new_york_0353_2016-03-24.csv  \n",
      " extracting: s3_files/new_york/tomslee_airbnb_new_york_0377_2016-04-03.csv  \n",
      " extracting: s3_files/new_york/tomslee_airbnb_new_york_0395_2016-04-20.csv  \n",
      " extracting: s3_files/new_york/tomslee_airbnb_new_york_0429_2016-05-23.csv  \n",
      " extracting: s3_files/new_york/tomslee_airbnb_new_york_0470_2016-06-23.csv  \n",
      " extracting: s3_files/new_york/tomslee_airbnb_new_york_0498_2016-07-20.csv  \n",
      " extracting: s3_files/new_york/tomslee_airbnb_new_york_0533_2016-08-24.csv  \n",
      " extracting: s3_files/new_york/tomslee_airbnb_new_york_0575_2016-09-20.csv  \n",
      " extracting: s3_files/new_york/tomslee_airbnb_new_york_0619_2016-10-23.csv  \n",
      " extracting: s3_files/new_york/tomslee_airbnb_new_york_0658_2016-11-26.csv  \n",
      " extracting: s3_files/new_york/tomslee_airbnb_new_york_0715_2016-12-26.csv  \n",
      " extracting: s3_files/new_york/tomslee_airbnb_new_york_0788_2017-01-15.csv  \n",
      " extracting: s3_files/new_york/tomslee_airbnb_new_york_0867_2017-02-17.csv  \n",
      " extracting: s3_files/new_york/tomslee_airbnb_new_york_0940_2017-03-14.csv  \n",
      " extracting: s3_files/new_york/tomslee_airbnb_new_york_1129_2017-04-21.csv  \n",
      " extracting: s3_files/new_york/tomslee_airbnb_new_york_1196_2017-05-06.csv  \n",
      " extracting: s3_files/new_york/tomslee_airbnb_new_york_1318_2017-06-12.csv  \n",
      " extracting: s3_files/new_york/tomslee_airbnb_new_york_1438_2017-07-12.csv  \n"
     ]
    }
   ],
   "source": [
    "!unzip -o new_york.zip"
   ]
  },
  {
   "cell_type": "markdown",
   "metadata": {},
   "source": [
    "Let's explore some files."
   ]
  },
  {
   "cell_type": "code",
   "execution_count": 3,
   "metadata": {},
   "outputs": [
    {
     "name": "stdout",
     "output_type": "stream",
     "text": [
      "room_id,host_id,room_type,borough,neighborhood,reviews,overall_satisfaction,accommodates,bedrooms,price,minstay,latitude,longitude,last_modified\r",
      "\r\n",
      "105,500,Private room,Manhattan,Hell's Kitchen,39,5.0,7,1.0,167.0,1,40.762099,-73.996022,2014-05-12 08:56:52.946\r",
      "\r\n",
      "2515,2758,Private room,Manhattan,Harlem,95,4.5,2,1.0,55.0,2,40.799205,-73.953676,2014-05-12 18:11:09.122\r",
      "\r\n",
      "2993,3352,Entire home/apt,Manhattan,Lower East Side,0,,2,1.0,168.0,5,40.723593,-73.991188,2014-05-12 15:16:46.188\r",
      "\r\n",
      "3046,2758,Entire home/apt,Manhattan,Harlem,10,4.5,6,1.0,298.0,3,40.813498,-73.945873,2014-05-12 19:47:22.038\r",
      "\r\n",
      "3101,2758,Private room,Manhattan,Harlem,11,4.5,2,1.0,140.0,2,40.813628,-73.946299,2014-05-12 00:57:13.100\r",
      "\r\n",
      "3102,2758,Private room,Manhattan,Harlem,23,5.0,4,1.0,212.0,2,40.8141,-73.945891,2014-05-12 01:03:09.110\r",
      "\r\n",
      "3153,3690,Private room,Queens,Astoria,33,5.0,2,1.0,112.0,1,40.759736,-73.906151,2014-05-12 05:13:53.328\r",
      "\r\n",
      "3687,4647,Entire home/apt,Brooklyn,Bedford-Stuyvesant,43,4.5,3,,100.0,7,40.6783,-73.944627,2014-05-12 08:45:14.766\r",
      "\r\n",
      "3831,4869,Private room,Brooklyn,Clinton Hill,0,,3,1.0,112.0,1,40.685138,-73.959757,2014-05-12 21:15:38.208\r",
      "\r\n"
     ]
    }
   ],
   "source": [
    "!head s3_files/new_york/tomslee_airbnb_new_york_0011_2014-05-10.csv"
   ]
  },
  {
   "cell_type": "code",
   "execution_count": 4,
   "metadata": {},
   "outputs": [
    {
     "name": "stdout",
     "output_type": "stream",
     "text": [
      "  1: room_id\r\n",
      "  2: host_id\r\n",
      "  3: room_type\r\n",
      "  4: borough\r\n",
      "  5: neighborhood\r\n",
      "  6: reviews\r\n",
      "  7: overall_satisfaction\r\n",
      "  8: accommodates\r\n",
      "  9: bedrooms\r\n",
      " 10: price\r\n",
      " 11: minstay\r\n",
      " 12: latitude\r\n",
      " 13: longitude\r\n",
      " 14: last_modified\r\n"
     ]
    }
   ],
   "source": [
    "!csvcut -n s3_files/new_york/tomslee_airbnb_new_york_0011_2014-05-10.csv"
   ]
  },
  {
   "cell_type": "markdown",
   "metadata": {},
   "source": [
    "The first file has 14 columns."
   ]
  },
  {
   "cell_type": "markdown",
   "metadata": {},
   "source": [
    "## Themes and Questions\n",
    "### Theme\n",
    "Considering the data consists of surveys taken each month, we decided to investigate seasonal trends of AirBnB listings in New York.\n",
    "### Questions\n",
    "The following are the questions we wish to explore\n",
    "1. How many rooms are listed over time\n",
    "2. What is the average price over time\n",
    "3. What are the average satisfaction ratings over times\n",
    "4. What is the distribution of room types over time"
   ]
  },
  {
   "cell_type": "code",
   "execution_count": 5,
   "metadata": {
    "scrolled": false
   },
   "outputs": [
    {
     "name": "stdout",
     "output_type": "stream",
     "text": [
      "|-----------+-----------+----------+-------------+---------+----------+-----------+--------------------+---------+----------------------+--------------+----------+-----------+-------+---------+----------------------------------------------------+---------------+----------------------------+-----------+------------+-----------------------------------------------------|\r\n",
      "|  room_id  | survey_id | host_id  | room_type   | country | city     | borough   | neighborhood       | reviews | overall_satisfaction | accommodates | bedrooms | bathrooms | price | minstay | name                                               | property_type | last_modified              | latitude  | longitude  | location                                            |\r\n",
      "|-----------+-----------+----------+-------------+---------+----------+-----------+--------------------+---------+----------------------+--------------+----------+-----------+-------+---------+----------------------------------------------------+---------------+----------------------------+-----------+------------+-----------------------------------------------------|\r\n",
      "|  7739955  | 1438      | 38614070 | Shared room |         | New York | Queens    | Jackson Heights    | 6       | 5.0                  | 4            | 1.0      |           | 85.0  |         | Room TO SHARE by DAY,week,month                    | House         | 2017-07-15 21:30:31.858764 | 40.749909 | -73.87688  | 0101000020E61000000EA14ACD1E7852C0F0FCA204FD5F4440  |\r\n",
      "|  7383173  | 1438      | 32628813 | Shared room |         | New York | Brooklyn  | Cypress Hills      | 14      | 4.0                  | 6            | 1.0      |           | 90.0  |         | Spacious Room: Close to Manhattan                  | House         | 2017-07-15 21:30:30.332828 | 40.678527 | -73.889584 | 0101000020E6100000DFC2BAF1EE7852C0FC3905F9D9564440  |\r\n",
      "|  10250852 | 1438      | 35553123 | Shared room |         | New York | Brooklyn  | Sheepshead Bay     | 3       | 4.5                  | 6            | 1.0      |           | 239.0 |         | COZY COUCH                                         | Apartment     | 2017-07-15 21:30:23.607950 | 40.583041 | -73.957976 | 0101000020E61000009696917A4F7D52C0139D6516A14A4440  |\r\n",
      "|  2188359  | 1438      | 5029659  | Shared room |         | New York | Manhattan | Hell's Kitchen     | 35      | 5.0                  | 2            | 1.0      |           | 165.0 |         | 1 Bdrm Apt 1 Block from Times Sq.                  | Apartment     | 2017-07-15 21:30:21.832749 | 40.758374 | -73.991955 | 0101000020E6100000A306D3307C7F52C08011346612614440  |\r\n",
      "|  19661354 | 1438      | 70038324 | Shared room |         | New York | Manhattan | Upper East Side    | 0       | 0.0                  | 2            | 1.0      |           | 159.0 |         | NYC Upper East / Midtown East Luxury 1BR           | Apartment     | 2017-07-15 21:30:19.986579 | 40.76196  | -73.959733 | 0101000020E610000016F9F5436C7D52C01A6EC0E787614440  |\r\n",
      "|  19784887 | 1438      | 47733373 | Shared room |         | New York | Brooklyn  | Williamsburg       | 0       | 0.0                  | 2            | 1.0      |           | 125.0 |         | Mansion WIlliamsburg Apartment - Girls Share only  | Other         | 2017-07-15 21:30:17.668695 | 40.720139 | -73.96176  | 0101000020E610000076A6D0798D7D52C07EC9C6832D5C4440  |\r\n",
      "|  14911027 | 1438      | 539240   | Shared room |         | New York | Brooklyn  | Bedford-Stuyvesant | 1       | 0.0                  | 2            | 1.0      |           | 100.0 |         | Awesome room in an awesome brownstone in Brooklyn! | Apartment     | 2017-07-15 21:30:15.585111 | 40.681687 | -73.930195 | 0101000020E6100000C6F99B50887B52C0DE8D058541574440  |\r\n",
      "|  3120957  | 1438      | 8703     | Shared room |         | New York | Manhattan | Harlem             | 8       | 5.0                  | 2            | 1.0      |           | 110.0 |         | Clean, Safe, Convenient, Comfy                     | Apartment     | 2017-07-15 21:30:14.729270 | 40.806989 | -73.942271 | 0101000020E6100000083E062B4E7C52C0AA9D616A4B674440  |\r\n",
      "|  19160115 | 1438      | 27120086 | Shared room |         | New York | Manhattan | Chelsea            | 1       | 0.0                  | 2            | 1.0      |           | 109.0 |         | Ideally Located Room with Beautiful City Views!    | Apartment     | 2017-07-15 21:30:14.722161 | 40.747321 | -73.994449 | 0101000020E61000008E226B0DA57F52C0984EEB36A85F4440  |\r\n",
      "|-----------+-----------+----------+-------------+---------+----------+-----------+--------------------+---------+----------------------+--------------+----------+-----------+-------+---------+----------------------------------------------------+---------------+----------------------------+-----------+------------+-----------------------------------------------------|\r\n"
     ]
    }
   ],
   "source": [
    "!head s3_files/new_york/tomslee_airbnb_new_york_1438_2017-07-12.csv | csvlook"
   ]
  },
  {
   "cell_type": "code",
   "execution_count": 6,
   "metadata": {
    "scrolled": true
   },
   "outputs": [
    {
     "name": "stdout",
     "output_type": "stream",
     "text": [
      "  1: room_id\r\n",
      "  2: survey_id\r\n",
      "  3: host_id\r\n",
      "  4: room_type\r\n",
      "  5: country\r\n",
      "  6: city\r\n",
      "  7: borough\r\n",
      "  8: neighborhood\r\n",
      "  9: reviews\r\n",
      " 10: overall_satisfaction\r\n",
      " 11: accommodates\r\n",
      " 12: bedrooms\r\n",
      " 13: bathrooms\r\n",
      " 14: price\r\n",
      " 15: minstay\r\n",
      " 16: name\r\n",
      " 17: property_type\r\n",
      " 18: last_modified\r\n",
      " 19: latitude\r\n",
      " 20: longitude\r\n",
      " 21: location\r\n"
     ]
    }
   ],
   "source": [
    "!csvcut -n s3_files/new_york/tomslee_airbnb_new_york_1438_2017-07-12.csv"
   ]
  },
  {
   "cell_type": "markdown",
   "metadata": {},
   "source": [
    "### Concern - Expansion of data\n",
    "The last file has 21 columns, which is different from the first one."
   ]
  },
  {
   "cell_type": "code",
   "execution_count": 7,
   "metadata": {},
   "outputs": [
    {
     "name": "stdout",
     "output_type": "stream",
     "text": [
      "  1. room_id\n",
      "\t<class 'int'>\n",
      "\tNulls: False\n",
      "\tMin: 2515\n",
      "\tMax: 19874046\n",
      "\tSum: 452704240944\n",
      "\tMean: 10975978.686968118\n",
      "\tMedian: 11798782\n",
      "\tStandard Deviation: 6097988.407974921\n",
      "\tUnique values: 41245\n",
      "  2. survey_id\n",
      "\t<class 'int'>\n",
      "\tNulls: False\n",
      "\tValues: 1438\n",
      "  3. host_id\n",
      "\t<class 'int'>\n",
      "\tNulls: False\n",
      "\tMin: 72\n",
      "\tMax: 140517870\n",
      "\tSum: 1434350562083\n",
      "\tMean: 34776350.15354589\n",
      "\tMedian: 20292772\n",
      "\tStandard Deviation: 37557547.48864324\n",
      "\tUnique values: 34688\n",
      "\t5 most frequent values:\n",
      "\t\t417504:\t28\n",
      "\t\t136616915:\t18\n",
      "\t\t81634538:\t17\n",
      "\t\t47554473:\t15\n",
      "\t\t8327019:\t14\n",
      "  4. room_type\n",
      "\t<class 'str'>\n",
      "\tNulls: False\n",
      "\tValues: Shared room, Private room, Entire home/apt\n",
      "  5. country\n",
      "\t<class 'NoneType'>\n",
      "\tNulls: True\n",
      "\tValues: \n",
      "  6. city\n",
      "\t<class 'str'>\n",
      "\tNulls: False\n",
      "\tValues: New York\n",
      "  7. borough\n",
      "\t<class 'str'>\n",
      "\tNulls: False\n",
      "\tValues: Staten Island, Queens, Manhattan, Bronx, Brooklyn\n",
      "  8. neighborhood\n",
      "\t<class 'str'>\n",
      "\tNulls: False\n",
      "\tUnique values: 234\n",
      "\t5 most frequent values:\n",
      "\t\tWilliamsburg:\t3350\n",
      "\t\tBedford-Stuyvesant:\t2698\n",
      "\t\tHarlem:\t2578\n",
      "\t\tBushwick:\t1908\n",
      "\t\tUpper West Side:\t1884\n",
      "\tMax length: 37\n",
      "  9. reviews\n",
      "\t<class 'int'>\n",
      "\tNulls: False\n",
      "\tMin: 0\n",
      "\tMax: 454\n",
      "\tSum: 720285\n",
      "\tMean: 17.463571341980845\n",
      "\tMedian: 4\n",
      "\tStandard Deviation: 31.91687459080257\n",
      "\tUnique values: 285\n",
      "\t5 most frequent values:\n",
      "\t\t0:\t9860\n",
      "\t\t1:\t4359\n",
      "\t\t2:\t3016\n",
      "\t\t3:\t2075\n",
      "\t\t4:\t1583\n",
      " 10. overall_satisfaction\n",
      "\t<class 'float'>\n",
      "\tNulls: False\n",
      "\tMin: 0.0\n",
      "\tMax: 5.0\n",
      "\tSum: 112837.0\n",
      "\tMean: 2.7357740332161473\n",
      "\tMedian: 4.5\n",
      "\tStandard Deviation: 2.3365074259423637\n",
      "\tUnique values: 10\n",
      "\t5 most frequent values:\n",
      "\t\t0.0:\t17264\n",
      "\t\t5.0:\t12196\n",
      "\t\t4.5:\t9881\n",
      "\t\t4.0:\t1570\n",
      "\t\t3.5:\t257\n",
      " 11. accommodates\n",
      "\t<class 'int'>\n",
      "\tNulls: False\n",
      "\tMin: 1\n",
      "\tMax: 16\n",
      "\tSum: 117630\n",
      "\tMean: 2.851982058431325\n",
      "\tMedian: 2\n",
      "\tStandard Deviation: 1.8656496388060484\n",
      "\tUnique values: 16\n",
      "\t5 most frequent values:\n",
      "\t\t2:\t19225\n",
      "\t\t4:\t6234\n",
      "\t\t1:\t6094\n",
      "\t\t3:\t4488\n",
      "\t\t6:\t1980\n",
      " 12. bedrooms\n",
      "\t<class 'float'>\n",
      "\tNulls: False\n",
      "\tMin: 0.0\n",
      "\tMax: 50.0\n",
      "\tSum: 47943.0\n",
      "\tMean: 1.162395441871742\n",
      "\tMedian: 1.0\n",
      "\tStandard Deviation: 0.7630113587781433\n",
      "\tUnique values: 12\n",
      "\t5 most frequent values:\n",
      "\t\t1.0:\t30052\n",
      "\t\t2.0:\t5253\n",
      "\t\t0.0:\t3771\n",
      "\t\t3.0:\t1590\n",
      "\t\t4.0:\t419\n",
      " 13. bathrooms\n",
      "\t<class 'NoneType'>\n",
      "\tNulls: True\n",
      "\tValues: \n",
      " 14. price\n",
      "\t<class 'float'>\n",
      "\tNulls: False\n",
      "\tMin: 0.0\n",
      "\tMax: 9999.0\n",
      "\tSum: 5613590.0\n",
      "\tMean: 136.1035277003273\n",
      "\tMedian: 100.0\n",
      "\tStandard Deviation: 166.6139382985948\n",
      "\tUnique values: 582\n",
      "\t5 most frequent values:\n",
      "\t\t100.0:\t1929\n",
      "\t\t150.0:\t1417\n",
      "\t\t60.0:\t1331\n",
      "\t\t50.0:\t1292\n",
      "\t\t80.0:\t1250\n",
      " 15. minstay\n",
      "\t<class 'NoneType'>\n",
      "\tNulls: True\n",
      "\tValues: \n",
      " 16. name\n",
      "\t<class 'str'>\n",
      "\tNulls: True\n",
      "\tUnique values: 40468\n",
      "\t5 most frequent values:\n",
      "\t\tLoft Suite @ The Box House Hotel:\t11\n",
      "\t\tPrivate room:\t9\n",
      "\t\tCLEAN NEW YORK APT at Central Park:\t8\n",
      "\t\tCozy Rooms:\t7\n",
      "\t\tPrivate room in Brooklyn:\t7\n",
      "\tMax length: 98\n",
      " 17. property_type\n",
      "\t<class 'str'>\n",
      "\tNulls: False\n",
      "\tUnique values: 28\n",
      "\t5 most frequent values:\n",
      "\t\tApartment:\t34912\n",
      "\t\tHouse:\t3605\n",
      "\t\tLoft:\t821\n",
      "\t\tTownhouse:\t701\n",
      "\t\tCondominium:\t518\n",
      "\tMax length: 18\n",
      " 18. last_modified\n",
      "\t<class 'datetime.datetime'>\n",
      "\tNulls: False\n",
      "\tMin: 2017-07-12 07:20:23.688591\n",
      "\tMax: 2017-07-15 21:30:31.858764\n",
      "\tUnique values: 41245\n",
      " 19. latitude\n",
      "\t<class 'float'>\n",
      "\tNulls: False\n",
      "\tMin: 40.508684\n",
      "\tMax: 40.908039\n",
      "\tSum: 1679957.6361269893\n",
      "\tMean: 40.73118283736184\n",
      "\tMedian: 40.725062\n",
      "\tStandard Deviation: 0.054860792739325884\n",
      "\tUnique values: 36758\n",
      "\t5 most frequent values:\n",
      "\t\t40.719046:\t5\n",
      "\t\t40.761044:\t4\n",
      "\t\t40.72278:\t4\n",
      "\t\t40.743978:\t4\n",
      "\t\t40.716606:\t4\n",
      " 20. longitude\n",
      "\t<class 'float'>\n",
      "\tNulls: False\n",
      "\tMin: -74.239859\n",
      "\tMax: -73.702257\n",
      "\tSum: -3050262.2975260084\n",
      "\tMean: -73.95471687540328\n",
      "\tMedian: -73.956776\n",
      "\tStandard Deviation: 0.04249209919187158\n",
      "\tUnique values: 34401\n",
      "\t5 most frequent values:\n",
      "\t\t-73.973076:\t5\n",
      "\t\t-73.962573:\t5\n",
      "\t\t-73.954427:\t5\n",
      "\t\t-73.988713:\t5\n",
      "\t\t-73.985068:\t5\n",
      " 21. location\n",
      "\t<class 'str'>\n",
      "\tNulls: False\n",
      "\tUnique values: 41245\n",
      "\tMax length: 50\n",
      "\n",
      "Row count: 41245\n"
     ]
    }
   ],
   "source": [
    "!csvstat s3_files/new_york/tomslee_airbnb_new_york_1438_2017-07-12.csv"
   ]
  },
  {
   "cell_type": "markdown",
   "metadata": {},
   "source": [
    "### Concern - 2017 Data\n",
    "We explored each of the rest of the files and found that Airbnb started to put more columns to its datasets from the second half of 2017. We did not show the whole exploring process since it is boring. \n",
    "### Key Decision\n",
    "After some discussion, we decided to include only 2016's data in our analysis. All files came from 2016 have the same number of columns and their format were also the same. We combined those files into a single file call \"ny2016.csv\"."
   ]
  },
  {
   "cell_type": "code",
   "execution_count": 8,
   "metadata": {
    "collapsed": true
   },
   "outputs": [],
   "source": [
    "!csvstack s3_files/new_york/tomslee_airbnb_new_york_*_2016*.csv > ny2016.csv"
   ]
  },
  {
   "cell_type": "code",
   "execution_count": 9,
   "metadata": {},
   "outputs": [
    {
     "name": "stdout",
     "output_type": "stream",
     "text": [
      "-rw-rw-r-- 1 ubuntu ubuntu 55M Dec  8 17:35 ny2016.csv\r\n"
     ]
    }
   ],
   "source": [
    "!ls -lh ny2016.csv"
   ]
  },
  {
   "cell_type": "code",
   "execution_count": 10,
   "metadata": {},
   "outputs": [
    {
     "name": "stdout",
     "output_type": "stream",
     "text": [
      "Row count: 465178\r\n"
     ]
    }
   ],
   "source": [
    "!csvstat --count ny2016.csv"
   ]
  },
  {
   "cell_type": "markdown",
   "metadata": {},
   "source": [
    "There are 465,178 rows in ny2016.csv."
   ]
  },
  {
   "cell_type": "code",
   "execution_count": 11,
   "metadata": {},
   "outputs": [
    {
     "name": "stdout",
     "output_type": "stream",
     "text": [
      "room_id,host_id,room_type,borough,neighborhood,reviews,overall_satisfaction,accommodates,bedrooms,price,minstay,latitude,longitude,last_modified\r\n",
      "3557831,17911953.0,Private room,Manhattan,East Village,43,4.5,2.0,1.0,115.0,2.0,40.725882,-73.981784,2016-01-24 06:09:52.560406\r\n",
      "7780413,4887492.0,Shared room,Manhattan,Tribeca,4,5.0,4.0,1.0,69.0,2.0,40.712191,-74.010212,2016-01-24 06:09:44.958840\r\n",
      "1788989,7607092.0,Entire home/apt,Manhattan,SoHo,9,5.0,4.0,1.0,225.0,3.0,40.723919,-73.996525,2016-01-24 06:09:33.672474\r\n",
      "9680791,3201897.0,Private room,Brooklyn,Prospect-Lefferts Gardens,1,4.0,2.0,1.0,75.0,3.0,40.65934,-73.960594,2016-01-24 06:09:27.886410\r\n",
      "8204392,11268108.0,Private room,Brooklyn,Williamsburg,0,,2.0,1.0,500.0,1.0,40.714678,-73.937739,2016-01-24 06:09:25.858816\r\n",
      "7455635,1407021.0,Entire home/apt,Manhattan,Chinatown,11,4.5,2.0,0.0,110.0,2.0,40.716244,-73.990152,2016-01-24 06:08:58.967524\r\n",
      "1742471,2127723.0,Entire home/apt,Queens,Sunnyside,17,5.0,2.0,1.0,120.0,3.0,40.746087,-73.914058,2016-01-24 06:08:54.783923\r\n",
      "2045660,3652652.0,Private room,Brooklyn,Park Slope,7,4.5,2.0,1.0,55.0,1.0,40.673301,-73.979427,2016-01-24 06:08:31.555869\r\n",
      "9603803,23193.0,Private room,Brooklyn,Bedford-Stuyvesant,1,3.0,1.0,1.0,50.0,1.0,40.68777,-73.938698,2016-01-24 06:08:17.020378\r\n"
     ]
    }
   ],
   "source": [
    "!head ny2016.csv"
   ]
  },
  {
   "cell_type": "code",
   "execution_count": 12,
   "metadata": {},
   "outputs": [
    {
     "name": "stdout",
     "output_type": "stream",
     "text": [
      "  1: room_id\r\n",
      "  2: host_id\r\n",
      "  3: room_type\r\n",
      "  4: borough\r\n",
      "  5: neighborhood\r\n",
      "  6: reviews\r\n",
      "  7: overall_satisfaction\r\n",
      "  8: accommodates\r\n",
      "  9: bedrooms\r\n",
      " 10: price\r\n",
      " 11: minstay\r\n",
      " 12: latitude\r\n",
      " 13: longitude\r\n",
      " 14: last_modified\r\n"
     ]
    }
   ],
   "source": [
    "!csvcut -n ny2016.csv"
   ]
  },
  {
   "cell_type": "markdown",
   "metadata": {},
   "source": [
    "There are 14 columns in this file, just as expected."
   ]
  },
  {
   "cell_type": "code",
   "execution_count": 13,
   "metadata": {},
   "outputs": [
    {
     "name": "stdout",
     "output_type": "stream",
     "text": [
      "  1. room_id\n",
      "\t<class 'int'>\n",
      "\tNulls: False\n",
      "\tMin: 105\n",
      "\tMax: 16544971\n",
      "\tSum: 3443411002687\n",
      "\tMean: 7402351.36375108\n",
      "\tMedian: 7646832.0\n",
      "\tStandard Deviation: 4378088.666306693\n",
      "\tUnique values: 76488\n",
      "\t5 most frequent values:\n",
      "\t\t7325230:\t13\n",
      "\t\t1525345:\t13\n",
      "\t\t10253315:\t13\n",
      "\t\t7199312:\t13\n",
      "\t\t317905:\t13\n",
      "  2. host_id\n",
      "\t<class 'float'>\n",
      "\tNulls: True\n",
      "\tMin: 43.0\n",
      "\tMax: 108817370.0\n",
      "\tSum: 10185059123772.0\n",
      "\tMean: 21895677.69528531\n",
      "\tMedian: 13789963.0\n",
      "\tStandard Deviation: 22378710.640598293\n",
      "\tUnique values: 58359\n",
      "\t5 most frequent values:\n",
      "\t\t51913826.0:\t401\n",
      "\t\t26377263.0:\t341\n",
      "\t\t417504.0:\t323\n",
      "\t\t25830578.0:\t308\n",
      "\t\t58244317.0:\t275\n",
      "  3. room_type\n",
      "\t<class 'str'>\n",
      "\tNulls: True\n",
      "\tValues: Private room, Shared room, Entire home/apt\n",
      "  4. borough\n",
      "\t<class 'str'>\n",
      "\tNulls: False\n",
      "\tValues: Brooklyn, Manhattan, Staten Island, Bronx, Queens\n",
      "  5. neighborhood\n",
      "\t<class 'str'>\n",
      "\tNulls: False\n",
      "\tUnique values: 240\n",
      "\t5 most frequent values:\n",
      "\t\tWilliamsburg:\t41317\n",
      "\t\tBedford-Stuyvesant:\t30145\n",
      "\t\tHarlem:\t27489\n",
      "\t\tUpper West Side:\t22065\n",
      "\t\tEast Village:\t21638\n",
      "\tMax length: 37\n",
      "  6. reviews\n",
      "\t<class 'int'>\n",
      "\tNulls: False\n",
      "\tMin: 0\n",
      "\tMax: 387\n",
      "\tSum: 6354375\n",
      "\tMean: 13.660093555585174\n",
      "\tMedian: 3.0\n",
      "\tStandard Deviation: 25.53416127081164\n",
      "\tUnique values: 330\n",
      "\t5 most frequent values:\n",
      "\t\t0:\t114752\n",
      "\t\t1:\t57109\n",
      "\t\t2:\t35974\n",
      "\t\t3:\t25984\n",
      "\t\t4:\t19865\n",
      "  7. overall_satisfaction\n",
      "\t<class 'float'>\n",
      "\tNulls: True\n",
      "\tMin: 0.0\n",
      "\tMax: 5.0\n",
      "\tSum: 1319278.0\n",
      "\tMean: 4.391036052827777\n",
      "\tMedian: 4.5\n",
      "\tStandard Deviation: 1.142626115565113\n",
      "\tUnique values: 10\n",
      "\t5 most frequent values:\n",
      "\t\t5.0:\t131832\n",
      "\t\t4.5:\t118215\n",
      "\t\t4.0:\t26079\n",
      "\t\t0.0:\t16857\n",
      "\t\t3.5:\t4805\n",
      "  8. accommodates\n",
      "\t<class 'float'>\n",
      "\tNulls: True\n",
      "\tMin: 1.0\n",
      "\tMax: 16.0\n",
      "\tSum: 1233153.0\n",
      "\tMean: 2.7162498816055827\n",
      "\tMedian: 2.0\n",
      "\tStandard Deviation: 1.6431915399998385\n",
      "\tUnique values: 16\n",
      "\t5 most frequent values:\n",
      "\t\t2.0:\t219941\n",
      "\t\t4.0:\t72127\n",
      "\t\t1.0:\t66333\n",
      "\t\t3.0:\t50993\n",
      "\t\t5.0:\t18115\n",
      "  9. bedrooms\n",
      "\t<class 'float'>\n",
      "\tNulls: True\n",
      "\tMin: 0.0\n",
      "\tMax: 10.0\n",
      "\tSum: 486017.0\n",
      "\tMean: 1.1381118307972593\n",
      "\tMedian: 1.0\n",
      "\tStandard Deviation: 0.6783604282656425\n",
      "\tUnique values: 11\n",
      "\t5 most frequent values:\n",
      "\t\t1.0:\t321306\n",
      "\t\t2.0:\t50406\n",
      "\t\t0.0:\t36330\n",
      "\t\t3.0:\t14220\n",
      "\t\t4.0:\t3475\n",
      " 10. price\n",
      "\t<class 'float'>\n",
      "\tNulls: False\n",
      "\tMin: 10.0\n",
      "\tMax: 10000.0\n",
      "\tSum: 68593218.0\n",
      "\tMean: 147.45585130853135\n",
      "\tMedian: 110.0\n",
      "\tStandard Deviation: 192.4777347775348\n",
      "\tUnique values: 764\n",
      "\t5 most frequent values:\n",
      "\t\t150.0:\t20801\n",
      "\t\t100.0:\t20113\n",
      "\t\t75.0:\t14381\n",
      "\t\t200.0:\t14167\n",
      "\t\t50.0:\t14077\n",
      " 11. minstay\n",
      "\t<class 'float'>\n",
      "\tNulls: True\n",
      "\tMin: 1.0\n",
      "\tMax: 1250.0\n",
      "\tSum: 1238352.0\n",
      "\tMean: 2.9701819019111215\n",
      "\tMedian: 2.0\n",
      "\tStandard Deviation: 7.2824541544520836\n",
      "\tUnique values: 71\n",
      "\t5 most frequent values:\n",
      "\t\t1.0:\t168470\n",
      "\t\t2.0:\t94794\n",
      "\t\t3.0:\t68634\n",
      "\t\t4.0:\t23717\n",
      "\t\t5.0:\t23568\n",
      " 12. latitude\n",
      "\t<class 'float'>\n",
      "\tNulls: False\n",
      "\tMin: 40.499794\n",
      "\tMax: 40.912316\n",
      "\tSum: 18947264.407766037\n",
      "\tMean: 40.73121344467287\n",
      "\tMedian: 40.725021\n",
      "\tStandard Deviation: 0.05315904016269219\n",
      "\tUnique values: 66115\n",
      "\t5 most frequent values:\n",
      "\t\t40.719046:\t54\n",
      "\t\t40.695452:\t51\n",
      "\t\t40.712383:\t47\n",
      "\t\t40.74673:\t47\n",
      "\t\t40.726899:\t45\n",
      " 13. longitude\n",
      "\t<class 'float'>\n",
      "\tNulls: False\n",
      "\tMin: -74.240843\n",
      "\tMax: -73.708097\n",
      "\tSum: -34403418.877627224\n",
      "\tMean: -73.95753642181536\n",
      "\tMedian: -73.958565\n",
      "\tStandard Deviation: 0.039303086879877595\n",
      "\tUnique values: 58162\n",
      "\t5 most frequent values:\n",
      "\t\t-73.960542:\t71\n",
      "\t\t-73.943315:\t63\n",
      "\t\t-73.951186:\t61\n",
      "\t\t-73.94316:\t60\n",
      "\t\t-73.956887:\t57\n",
      " 14. last_modified\n",
      "\t<class 'datetime.datetime'>\n",
      "\tNulls: False\n",
      "\tMin: 2016-01-21 07:02:47.986871\n",
      "\tMax: 2016-12-28 23:59:26.897593\n",
      "\tUnique values: 465178\n",
      "\n",
      "Row count: 465178\n"
     ]
    }
   ],
   "source": [
    "!csvstat ny2016.csv"
   ]
  },
  {
   "cell_type": "markdown",
   "metadata": {},
   "source": [
    "### Concern - Data types and Missing Values\n",
    "However, some columns' data type has changed during the merging process. We need to change the data type of those columns back to what they used to be. Also, some of the columns have missing values. We may need to wrangle the data. "
   ]
  },
  {
   "cell_type": "markdown",
   "metadata": {},
   "source": [
    "# Part 2 Data wrangling"
   ]
  },
  {
   "cell_type": "markdown",
   "metadata": {},
   "source": [
    "We tried to use trifacta wrangler to wrangle data, however, the format of the output from trifacta is not what we wanted. Datatypes were automatically modified and extraneous quotation marks were included and not incompatible with a SQL upload.  Such output causes huge problems when we are trying to build the relational database for analysis. \n",
    "### Key Decision:\n",
    "Rather than using trifacta, we decided to build the relational database and do the cleaning within the data table using sql queries. "
   ]
  },
  {
   "cell_type": "markdown",
   "metadata": {},
   "source": [
    "### Create database."
   ]
  },
  {
   "cell_type": "code",
   "execution_count": 1,
   "metadata": {
    "collapsed": true
   },
   "outputs": [],
   "source": [
    "!dropdb -U student ny2016"
   ]
  },
  {
   "cell_type": "code",
   "execution_count": 2,
   "metadata": {
    "collapsed": true
   },
   "outputs": [],
   "source": [
    "!createdb -U student ny2016"
   ]
  },
  {
   "cell_type": "markdown",
   "metadata": {},
   "source": [
    "### Connect database and create the fact table."
   ]
  },
  {
   "cell_type": "code",
   "execution_count": 29,
   "metadata": {},
   "outputs": [
    {
     "name": "stdout",
     "output_type": "stream",
     "text": [
      "The sql extension is already loaded. To reload it, use:\n",
      "  %reload_ext sql\n"
     ]
    }
   ],
   "source": [
    "%load_ext sql"
   ]
  },
  {
   "cell_type": "code",
   "execution_count": 30,
   "metadata": {},
   "outputs": [
    {
     "data": {
      "text/plain": [
       "'Connected: student@ny2016'"
      ]
     },
     "execution_count": 30,
     "metadata": {},
     "output_type": "execute_result"
    }
   ],
   "source": [
    "%sql postgresql://student@/ny2016"
   ]
  },
  {
   "cell_type": "code",
   "execution_count": 5,
   "metadata": {},
   "outputs": [
    {
     "name": "stdout",
     "output_type": "stream",
     "text": [
      "Done.\n",
      "Done.\n"
     ]
    },
    {
     "data": {
      "text/plain": [
       "[]"
      ]
     },
     "execution_count": 5,
     "metadata": {},
     "output_type": "execute_result"
    }
   ],
   "source": [
    "%%sql\n",
    "DROP TABLE IF EXISTS ny2016;\n",
    "\n",
    "CREATE TABLE ny2016 (\n",
    "    room_id INTEGER NOT NULL,\n",
    "    host_id FLOAT,\n",
    "    room_type VARCHAR(100),\n",
    "    borough VARCHAR(100) NOT NULL,\n",
    "    neighborhood VARCHAR(100) NOT NULL,\n",
    "    reviews INT NOT NULL,\n",
    "    overall_satisfaction FLOAT,\n",
    "    accommodates FLOAT,\n",
    "    bedrooms FLOAT,\n",
    "    price FLOAT NOT NULL,\n",
    "    minstay FLOAT,\n",
    "    latitude FLOAT NOT NULL,\n",
    "    longitude FLOAT NOT NULL,\n",
    "    last_modified date\n",
    ")"
   ]
  },
  {
   "cell_type": "markdown",
   "metadata": {},
   "source": [
    "### Key Decision - \n",
    "For the \"last_modified\" column, since we only want to include date info, we set the data type to \"date\" in order to exclude information about hours.\n",
    "### Assumption - \n",
    "Listings are not surveyed more than once per day."
   ]
  },
  {
   "cell_type": "markdown",
   "metadata": {},
   "source": [
    "The data type of some columns are \"float\" but we want them to be \"int\". We will change them later."
   ]
  },
  {
   "cell_type": "markdown",
   "metadata": {},
   "source": [
    "### Load data into fact table."
   ]
  },
  {
   "cell_type": "code",
   "execution_count": 6,
   "metadata": {},
   "outputs": [
    {
     "name": "stdout",
     "output_type": "stream",
     "text": [
      "/home/ubuntu\r\n"
     ]
    }
   ],
   "source": [
    "!pwd"
   ]
  },
  {
   "cell_type": "markdown",
   "metadata": {},
   "source": [
    "*You may need to change the directory base on where you store the ny2016.csv file in your compouter/server*"
   ]
  },
  {
   "cell_type": "code",
   "execution_count": 7,
   "metadata": {},
   "outputs": [
    {
     "name": "stdout",
     "output_type": "stream",
     "text": [
      "465178 rows affected.\n"
     ]
    },
    {
     "data": {
      "text/plain": [
       "[]"
      ]
     },
     "execution_count": 7,
     "metadata": {},
     "output_type": "execute_result"
    }
   ],
   "source": [
    "%%sql\n",
    "COPY ny2016 from '/home/ubuntu/ny2016.csv'\n",
    "csv\n",
    "header;"
   ]
  },
  {
   "cell_type": "markdown",
   "metadata": {},
   "source": [
    "### Verify \n",
    "Done. This number does match the total number of rows in ny2016.csv."
   ]
  },
  {
   "cell_type": "markdown",
   "metadata": {},
   "source": [
    "Let's see how does this fact table look like."
   ]
  },
  {
   "cell_type": "code",
   "execution_count": 8,
   "metadata": {
    "scrolled": true
   },
   "outputs": [
    {
     "name": "stdout",
     "output_type": "stream",
     "text": [
      "10 rows affected.\n"
     ]
    },
    {
     "data": {
      "text/html": [
       "<table>\n",
       "    <tr>\n",
       "        <th>room_id</th>\n",
       "        <th>host_id</th>\n",
       "        <th>room_type</th>\n",
       "        <th>borough</th>\n",
       "        <th>neighborhood</th>\n",
       "        <th>reviews</th>\n",
       "        <th>overall_satisfaction</th>\n",
       "        <th>accommodates</th>\n",
       "        <th>bedrooms</th>\n",
       "        <th>price</th>\n",
       "        <th>minstay</th>\n",
       "        <th>latitude</th>\n",
       "        <th>longitude</th>\n",
       "        <th>last_modified</th>\n",
       "    </tr>\n",
       "    <tr>\n",
       "        <td>3557831</td>\n",
       "        <td>17911953.0</td>\n",
       "        <td>Private room</td>\n",
       "        <td>Manhattan</td>\n",
       "        <td>East Village</td>\n",
       "        <td>43</td>\n",
       "        <td>4.5</td>\n",
       "        <td>2.0</td>\n",
       "        <td>1.0</td>\n",
       "        <td>115.0</td>\n",
       "        <td>2.0</td>\n",
       "        <td>40.725882</td>\n",
       "        <td>-73.981784</td>\n",
       "        <td>2016-01-24</td>\n",
       "    </tr>\n",
       "    <tr>\n",
       "        <td>7780413</td>\n",
       "        <td>4887492.0</td>\n",
       "        <td>Shared room</td>\n",
       "        <td>Manhattan</td>\n",
       "        <td>Tribeca</td>\n",
       "        <td>4</td>\n",
       "        <td>5.0</td>\n",
       "        <td>4.0</td>\n",
       "        <td>1.0</td>\n",
       "        <td>69.0</td>\n",
       "        <td>2.0</td>\n",
       "        <td>40.712191</td>\n",
       "        <td>-74.010212</td>\n",
       "        <td>2016-01-24</td>\n",
       "    </tr>\n",
       "    <tr>\n",
       "        <td>1788989</td>\n",
       "        <td>7607092.0</td>\n",
       "        <td>Entire home/apt</td>\n",
       "        <td>Manhattan</td>\n",
       "        <td>SoHo</td>\n",
       "        <td>9</td>\n",
       "        <td>5.0</td>\n",
       "        <td>4.0</td>\n",
       "        <td>1.0</td>\n",
       "        <td>225.0</td>\n",
       "        <td>3.0</td>\n",
       "        <td>40.723919</td>\n",
       "        <td>-73.996525</td>\n",
       "        <td>2016-01-24</td>\n",
       "    </tr>\n",
       "    <tr>\n",
       "        <td>9680791</td>\n",
       "        <td>3201897.0</td>\n",
       "        <td>Private room</td>\n",
       "        <td>Brooklyn</td>\n",
       "        <td>Prospect-Lefferts Gardens</td>\n",
       "        <td>1</td>\n",
       "        <td>4.0</td>\n",
       "        <td>2.0</td>\n",
       "        <td>1.0</td>\n",
       "        <td>75.0</td>\n",
       "        <td>3.0</td>\n",
       "        <td>40.65934</td>\n",
       "        <td>-73.960594</td>\n",
       "        <td>2016-01-24</td>\n",
       "    </tr>\n",
       "    <tr>\n",
       "        <td>8204392</td>\n",
       "        <td>11268108.0</td>\n",
       "        <td>Private room</td>\n",
       "        <td>Brooklyn</td>\n",
       "        <td>Williamsburg</td>\n",
       "        <td>0</td>\n",
       "        <td>None</td>\n",
       "        <td>2.0</td>\n",
       "        <td>1.0</td>\n",
       "        <td>500.0</td>\n",
       "        <td>1.0</td>\n",
       "        <td>40.714678</td>\n",
       "        <td>-73.937739</td>\n",
       "        <td>2016-01-24</td>\n",
       "    </tr>\n",
       "    <tr>\n",
       "        <td>7455635</td>\n",
       "        <td>1407021.0</td>\n",
       "        <td>Entire home/apt</td>\n",
       "        <td>Manhattan</td>\n",
       "        <td>Chinatown</td>\n",
       "        <td>11</td>\n",
       "        <td>4.5</td>\n",
       "        <td>2.0</td>\n",
       "        <td>0.0</td>\n",
       "        <td>110.0</td>\n",
       "        <td>2.0</td>\n",
       "        <td>40.716244</td>\n",
       "        <td>-73.990152</td>\n",
       "        <td>2016-01-24</td>\n",
       "    </tr>\n",
       "    <tr>\n",
       "        <td>1742471</td>\n",
       "        <td>2127723.0</td>\n",
       "        <td>Entire home/apt</td>\n",
       "        <td>Queens</td>\n",
       "        <td>Sunnyside</td>\n",
       "        <td>17</td>\n",
       "        <td>5.0</td>\n",
       "        <td>2.0</td>\n",
       "        <td>1.0</td>\n",
       "        <td>120.0</td>\n",
       "        <td>3.0</td>\n",
       "        <td>40.746087</td>\n",
       "        <td>-73.914058</td>\n",
       "        <td>2016-01-24</td>\n",
       "    </tr>\n",
       "    <tr>\n",
       "        <td>2045660</td>\n",
       "        <td>3652652.0</td>\n",
       "        <td>Private room</td>\n",
       "        <td>Brooklyn</td>\n",
       "        <td>Park Slope</td>\n",
       "        <td>7</td>\n",
       "        <td>4.5</td>\n",
       "        <td>2.0</td>\n",
       "        <td>1.0</td>\n",
       "        <td>55.0</td>\n",
       "        <td>1.0</td>\n",
       "        <td>40.673301</td>\n",
       "        <td>-73.979427</td>\n",
       "        <td>2016-01-24</td>\n",
       "    </tr>\n",
       "    <tr>\n",
       "        <td>9603803</td>\n",
       "        <td>23193.0</td>\n",
       "        <td>Private room</td>\n",
       "        <td>Brooklyn</td>\n",
       "        <td>Bedford-Stuyvesant</td>\n",
       "        <td>1</td>\n",
       "        <td>3.0</td>\n",
       "        <td>1.0</td>\n",
       "        <td>1.0</td>\n",
       "        <td>50.0</td>\n",
       "        <td>1.0</td>\n",
       "        <td>40.68777</td>\n",
       "        <td>-73.938698</td>\n",
       "        <td>2016-01-24</td>\n",
       "    </tr>\n",
       "    <tr>\n",
       "        <td>3162817</td>\n",
       "        <td>6754169.0</td>\n",
       "        <td>Entire home/apt</td>\n",
       "        <td>Brooklyn</td>\n",
       "        <td>Williamsburg</td>\n",
       "        <td>2</td>\n",
       "        <td>5.0</td>\n",
       "        <td>4.0</td>\n",
       "        <td>2.0</td>\n",
       "        <td>350.0</td>\n",
       "        <td>2.0</td>\n",
       "        <td>40.715725</td>\n",
       "        <td>-73.94058</td>\n",
       "        <td>2016-01-24</td>\n",
       "    </tr>\n",
       "</table>"
      ],
      "text/plain": [
       "[(3557831, 17911953.0, 'Private room', 'Manhattan', 'East Village', 43, 4.5, 2.0, 1.0, 115.0, 2.0, 40.725882, -73.981784, datetime.date(2016, 1, 24)),\n",
       " (7780413, 4887492.0, 'Shared room', 'Manhattan', 'Tribeca', 4, 5.0, 4.0, 1.0, 69.0, 2.0, 40.712191, -74.010212, datetime.date(2016, 1, 24)),\n",
       " (1788989, 7607092.0, 'Entire home/apt', 'Manhattan', 'SoHo', 9, 5.0, 4.0, 1.0, 225.0, 3.0, 40.723919, -73.996525, datetime.date(2016, 1, 24)),\n",
       " (9680791, 3201897.0, 'Private room', 'Brooklyn', 'Prospect-Lefferts Gardens', 1, 4.0, 2.0, 1.0, 75.0, 3.0, 40.65934, -73.960594, datetime.date(2016, 1, 24)),\n",
       " (8204392, 11268108.0, 'Private room', 'Brooklyn', 'Williamsburg', 0, None, 2.0, 1.0, 500.0, 1.0, 40.714678, -73.937739, datetime.date(2016, 1, 24)),\n",
       " (7455635, 1407021.0, 'Entire home/apt', 'Manhattan', 'Chinatown', 11, 4.5, 2.0, 0.0, 110.0, 2.0, 40.716244, -73.990152, datetime.date(2016, 1, 24)),\n",
       " (1742471, 2127723.0, 'Entire home/apt', 'Queens', 'Sunnyside', 17, 5.0, 2.0, 1.0, 120.0, 3.0, 40.746087, -73.914058, datetime.date(2016, 1, 24)),\n",
       " (2045660, 3652652.0, 'Private room', 'Brooklyn', 'Park Slope', 7, 4.5, 2.0, 1.0, 55.0, 1.0, 40.673301, -73.979427, datetime.date(2016, 1, 24)),\n",
       " (9603803, 23193.0, 'Private room', 'Brooklyn', 'Bedford-Stuyvesant', 1, 3.0, 1.0, 1.0, 50.0, 1.0, 40.68777, -73.938698, datetime.date(2016, 1, 24)),\n",
       " (3162817, 6754169.0, 'Entire home/apt', 'Brooklyn', 'Williamsburg', 2, 5.0, 4.0, 2.0, 350.0, 2.0, 40.715725, -73.94058, datetime.date(2016, 1, 24))]"
      ]
     },
     "execution_count": 8,
     "metadata": {},
     "output_type": "execute_result"
    }
   ],
   "source": [
    "%%sql\n",
    "select *\n",
    "from ny2016\n",
    "limit 10"
   ]
  },
  {
   "cell_type": "markdown",
   "metadata": {},
   "source": [
    "### Key Decisions\n",
    "#### We want to change some column's data type."
   ]
  },
  {
   "cell_type": "code",
   "execution_count": 9,
   "metadata": {},
   "outputs": [
    {
     "name": "stdout",
     "output_type": "stream",
     "text": [
      "Done.\n"
     ]
    },
    {
     "data": {
      "text/plain": [
       "[]"
      ]
     },
     "execution_count": 9,
     "metadata": {},
     "output_type": "execute_result"
    }
   ],
   "source": [
    "%%sql\n",
    "alter table ny2016\n",
    "alter column host_id type int"
   ]
  },
  {
   "cell_type": "code",
   "execution_count": 10,
   "metadata": {},
   "outputs": [
    {
     "name": "stdout",
     "output_type": "stream",
     "text": [
      "Done.\n"
     ]
    },
    {
     "data": {
      "text/plain": [
       "[]"
      ]
     },
     "execution_count": 10,
     "metadata": {},
     "output_type": "execute_result"
    }
   ],
   "source": [
    "%%sql\n",
    "alter table ny2016\n",
    "alter column accommodates type int"
   ]
  },
  {
   "cell_type": "code",
   "execution_count": 11,
   "metadata": {},
   "outputs": [
    {
     "name": "stdout",
     "output_type": "stream",
     "text": [
      "Done.\n"
     ]
    },
    {
     "data": {
      "text/plain": [
       "[]"
      ]
     },
     "execution_count": 11,
     "metadata": {},
     "output_type": "execute_result"
    }
   ],
   "source": [
    "%%sql\n",
    "alter table ny2016\n",
    "alter column bedrooms type int"
   ]
  },
  {
   "cell_type": "code",
   "execution_count": 12,
   "metadata": {},
   "outputs": [
    {
     "name": "stdout",
     "output_type": "stream",
     "text": [
      "Done.\n"
     ]
    },
    {
     "data": {
      "text/plain": [
       "[]"
      ]
     },
     "execution_count": 12,
     "metadata": {},
     "output_type": "execute_result"
    }
   ],
   "source": [
    "%%sql\n",
    "alter table ny2016\n",
    "alter column price type int"
   ]
  },
  {
   "cell_type": "code",
   "execution_count": 13,
   "metadata": {},
   "outputs": [
    {
     "name": "stdout",
     "output_type": "stream",
     "text": [
      "Done.\n"
     ]
    },
    {
     "data": {
      "text/plain": [
       "[]"
      ]
     },
     "execution_count": 13,
     "metadata": {},
     "output_type": "execute_result"
    }
   ],
   "source": [
    "%%sql\n",
    "alter table ny2016\n",
    "alter column minstay type int"
   ]
  },
  {
   "cell_type": "markdown",
   "metadata": {},
   "source": [
    "We changed the float type columns that were supposed to be integer type back to integer type."
   ]
  },
  {
   "cell_type": "markdown",
   "metadata": {},
   "source": [
    "Now we want to create some dimension tables."
   ]
  },
  {
   "cell_type": "markdown",
   "metadata": {},
   "source": [
    "# ID Table"
   ]
  },
  {
   "cell_type": "code",
   "execution_count": 14,
   "metadata": {},
   "outputs": [
    {
     "name": "stdout",
     "output_type": "stream",
     "text": [
      "10 rows affected.\n"
     ]
    },
    {
     "data": {
      "text/html": [
       "<table>\n",
       "    <tr>\n",
       "        <th>host_id</th>\n",
       "        <th>room_id</th>\n",
       "    </tr>\n",
       "    <tr>\n",
       "        <td>92505537</td>\n",
       "        <td>15291113</td>\n",
       "    </tr>\n",
       "    <tr>\n",
       "        <td>4440458</td>\n",
       "        <td>15145167</td>\n",
       "    </tr>\n",
       "    <tr>\n",
       "        <td>453242</td>\n",
       "        <td>4573354</td>\n",
       "    </tr>\n",
       "    <tr>\n",
       "        <td>65476654</td>\n",
       "        <td>12184165</td>\n",
       "    </tr>\n",
       "    <tr>\n",
       "        <td>7259476</td>\n",
       "        <td>3880863</td>\n",
       "    </tr>\n",
       "    <tr>\n",
       "        <td>16378016</td>\n",
       "        <td>7403320</td>\n",
       "    </tr>\n",
       "    <tr>\n",
       "        <td>13010114</td>\n",
       "        <td>12838731</td>\n",
       "    </tr>\n",
       "    <tr>\n",
       "        <td>385909</td>\n",
       "        <td>8127515</td>\n",
       "    </tr>\n",
       "    <tr>\n",
       "        <td>63202581</td>\n",
       "        <td>11888026</td>\n",
       "    </tr>\n",
       "    <tr>\n",
       "        <td>44260966</td>\n",
       "        <td>8402207</td>\n",
       "    </tr>\n",
       "</table>"
      ],
      "text/plain": [
       "[(92505537, 15291113),\n",
       " (4440458, 15145167),\n",
       " (453242, 4573354),\n",
       " (65476654, 12184165),\n",
       " (7259476, 3880863),\n",
       " (16378016, 7403320),\n",
       " (13010114, 12838731),\n",
       " (385909, 8127515),\n",
       " (63202581, 11888026),\n",
       " (44260966, 8402207)]"
      ]
     },
     "execution_count": 14,
     "metadata": {},
     "output_type": "execute_result"
    }
   ],
   "source": [
    "%%sql\n",
    "select distinct host_id, room_id\n",
    "from ny2016\n",
    "limit 10"
   ]
  },
  {
   "cell_type": "code",
   "execution_count": 15,
   "metadata": {},
   "outputs": [
    {
     "name": "stdout",
     "output_type": "stream",
     "text": [
      "Done.\n",
      "Done.\n"
     ]
    },
    {
     "data": {
      "text/plain": [
       "[]"
      ]
     },
     "execution_count": 15,
     "metadata": {},
     "output_type": "execute_result"
    }
   ],
   "source": [
    "%%sql\n",
    "drop table if exists ID;\n",
    "\n",
    "create table ID (\n",
    "    ID_key serial primary key,\n",
    "    room_id int,\n",
    "    host_id int\n",
    ");"
   ]
  },
  {
   "cell_type": "code",
   "execution_count": 16,
   "metadata": {},
   "outputs": [
    {
     "name": "stdout",
     "output_type": "stream",
     "text": [
      "76532 rows affected.\n"
     ]
    },
    {
     "data": {
      "text/plain": [
       "[]"
      ]
     },
     "execution_count": 16,
     "metadata": {},
     "output_type": "execute_result"
    }
   ],
   "source": [
    "%%sql \n",
    "insert into ID (room_id, host_id)\n",
    "select distinct room_id, host_id\n",
    "from ny2016;"
   ]
  },
  {
   "cell_type": "code",
   "execution_count": 17,
   "metadata": {
    "scrolled": true
   },
   "outputs": [
    {
     "name": "stdout",
     "output_type": "stream",
     "text": [
      "20 rows affected.\n"
     ]
    },
    {
     "data": {
      "text/html": [
       "<table>\n",
       "    <tr>\n",
       "        <th>id_key</th>\n",
       "        <th>room_id</th>\n",
       "        <th>host_id</th>\n",
       "    </tr>\n",
       "    <tr>\n",
       "        <td>1</td>\n",
       "        <td>8704528</td>\n",
       "        <td>45694156</td>\n",
       "    </tr>\n",
       "    <tr>\n",
       "        <td>2</td>\n",
       "        <td>12607341</td>\n",
       "        <td>319506</td>\n",
       "    </tr>\n",
       "    <tr>\n",
       "        <td>3</td>\n",
       "        <td>15661869</td>\n",
       "        <td>101114282</td>\n",
       "    </tr>\n",
       "    <tr>\n",
       "        <td>4</td>\n",
       "        <td>1190567</td>\n",
       "        <td>4124346</td>\n",
       "    </tr>\n",
       "    <tr>\n",
       "        <td>5</td>\n",
       "        <td>7319492</td>\n",
       "        <td>25407356</td>\n",
       "    </tr>\n",
       "    <tr>\n",
       "        <td>6</td>\n",
       "        <td>2560559</td>\n",
       "        <td>2766490</td>\n",
       "    </tr>\n",
       "    <tr>\n",
       "        <td>7</td>\n",
       "        <td>16220917</td>\n",
       "        <td>105983588</td>\n",
       "    </tr>\n",
       "    <tr>\n",
       "        <td>8</td>\n",
       "        <td>6200613</td>\n",
       "        <td>10418386</td>\n",
       "    </tr>\n",
       "    <tr>\n",
       "        <td>9</td>\n",
       "        <td>14162899</td>\n",
       "        <td>81291914</td>\n",
       "    </tr>\n",
       "    <tr>\n",
       "        <td>10</td>\n",
       "        <td>14167784</td>\n",
       "        <td>26505587</td>\n",
       "    </tr>\n",
       "    <tr>\n",
       "        <td>11</td>\n",
       "        <td>10124858</td>\n",
       "        <td>51920187</td>\n",
       "    </tr>\n",
       "    <tr>\n",
       "        <td>12</td>\n",
       "        <td>13300747</td>\n",
       "        <td>75094775</td>\n",
       "    </tr>\n",
       "    <tr>\n",
       "        <td>13</td>\n",
       "        <td>4427341</td>\n",
       "        <td>22982702</td>\n",
       "    </tr>\n",
       "    <tr>\n",
       "        <td>14</td>\n",
       "        <td>11567816</td>\n",
       "        <td>24170251</td>\n",
       "    </tr>\n",
       "    <tr>\n",
       "        <td>15</td>\n",
       "        <td>830490</td>\n",
       "        <td>4350342</td>\n",
       "    </tr>\n",
       "    <tr>\n",
       "        <td>16</td>\n",
       "        <td>12585034</td>\n",
       "        <td>32361259</td>\n",
       "    </tr>\n",
       "    <tr>\n",
       "        <td>17</td>\n",
       "        <td>756767</td>\n",
       "        <td>3984166</td>\n",
       "    </tr>\n",
       "    <tr>\n",
       "        <td>18</td>\n",
       "        <td>14916732</td>\n",
       "        <td>857640</td>\n",
       "    </tr>\n",
       "    <tr>\n",
       "        <td>19</td>\n",
       "        <td>7115965</td>\n",
       "        <td>6207811</td>\n",
       "    </tr>\n",
       "    <tr>\n",
       "        <td>20</td>\n",
       "        <td>233908</td>\n",
       "        <td>1224744</td>\n",
       "    </tr>\n",
       "</table>"
      ],
      "text/plain": [
       "[(1, 8704528, 45694156),\n",
       " (2, 12607341, 319506),\n",
       " (3, 15661869, 101114282),\n",
       " (4, 1190567, 4124346),\n",
       " (5, 7319492, 25407356),\n",
       " (6, 2560559, 2766490),\n",
       " (7, 16220917, 105983588),\n",
       " (8, 6200613, 10418386),\n",
       " (9, 14162899, 81291914),\n",
       " (10, 14167784, 26505587),\n",
       " (11, 10124858, 51920187),\n",
       " (12, 13300747, 75094775),\n",
       " (13, 4427341, 22982702),\n",
       " (14, 11567816, 24170251),\n",
       " (15, 830490, 4350342),\n",
       " (16, 12585034, 32361259),\n",
       " (17, 756767, 3984166),\n",
       " (18, 14916732, 857640),\n",
       " (19, 7115965, 6207811),\n",
       " (20, 233908, 1224744)]"
      ]
     },
     "execution_count": 17,
     "metadata": {},
     "output_type": "execute_result"
    }
   ],
   "source": [
    "%%sql\n",
    "select * from ID\n",
    "limit 20"
   ]
  },
  {
   "cell_type": "markdown",
   "metadata": {},
   "source": [
    "After creating this ID table, we need to add foreign key constraint to reference it back to fact table. "
   ]
  },
  {
   "cell_type": "code",
   "execution_count": 18,
   "metadata": {},
   "outputs": [
    {
     "name": "stdout",
     "output_type": "stream",
     "text": [
      "Done.\n"
     ]
    },
    {
     "data": {
      "text/plain": [
       "[]"
      ]
     },
     "execution_count": 18,
     "metadata": {},
     "output_type": "execute_result"
    }
   ],
   "source": [
    "%%sql\n",
    "alter table ny2016\n",
    "add column ID_key integer,\n",
    "add constraint fk_ID_key\n",
    "    foreign key (ID_key)\n",
    "    references ID (ID_key);"
   ]
  },
  {
   "cell_type": "markdown",
   "metadata": {},
   "source": [
    "Done. Let's check the id_key in fact table."
   ]
  },
  {
   "cell_type": "code",
   "execution_count": 19,
   "metadata": {},
   "outputs": [
    {
     "name": "stdout",
     "output_type": "stream",
     "text": [
      "10 rows affected.\n"
     ]
    },
    {
     "data": {
      "text/html": [
       "<table>\n",
       "    <tr>\n",
       "        <th>id_key</th>\n",
       "    </tr>\n",
       "    <tr>\n",
       "        <td>None</td>\n",
       "    </tr>\n",
       "    <tr>\n",
       "        <td>None</td>\n",
       "    </tr>\n",
       "    <tr>\n",
       "        <td>None</td>\n",
       "    </tr>\n",
       "    <tr>\n",
       "        <td>None</td>\n",
       "    </tr>\n",
       "    <tr>\n",
       "        <td>None</td>\n",
       "    </tr>\n",
       "    <tr>\n",
       "        <td>None</td>\n",
       "    </tr>\n",
       "    <tr>\n",
       "        <td>None</td>\n",
       "    </tr>\n",
       "    <tr>\n",
       "        <td>None</td>\n",
       "    </tr>\n",
       "    <tr>\n",
       "        <td>None</td>\n",
       "    </tr>\n",
       "    <tr>\n",
       "        <td>None</td>\n",
       "    </tr>\n",
       "</table>"
      ],
      "text/plain": [
       "[(None,),\n",
       " (None,),\n",
       " (None,),\n",
       " (None,),\n",
       " (None,),\n",
       " (None,),\n",
       " (None,),\n",
       " (None,),\n",
       " (None,),\n",
       " (None,)]"
      ]
     },
     "execution_count": 19,
     "metadata": {},
     "output_type": "execute_result"
    }
   ],
   "source": [
    "%%sql\n",
    "select ID_key from ny2016\n",
    "limit 10;"
   ]
  },
  {
   "cell_type": "markdown",
   "metadata": {},
   "source": [
    "### Challenge \n",
    "We saw nulls in the id_key columns in fact table. Since there are nulls in columns, as we found before, problem arise when loading the key in dimension table to fact table."
   ]
  },
  {
   "cell_type": "markdown",
   "metadata": {},
   "source": [
    "### We can solve this problem by setting nulls in ID table to 'N/A'."
   ]
  },
  {
   "cell_type": "markdown",
   "metadata": {},
   "source": [
    "%%sql\n",
    "update ID\n",
    "set room_id = \"empty\"\n",
    "where room_id is null;"
   ]
  },
  {
   "cell_type": "markdown",
   "metadata": {
    "collapsed": true
   },
   "source": [
    "%%sql \n",
    "update ID\n",
    "set host_id = 'N/A'\n",
    "where host_id is null;"
   ]
  },
  {
   "cell_type": "markdown",
   "metadata": {},
   "source": [
    "### Then replace nulls in fact table ny2016 to 'N/A'."
   ]
  },
  {
   "cell_type": "markdown",
   "metadata": {
    "collapsed": true
   },
   "source": [
    "%%sql\n",
    "update ny2016\n",
    "set room_id = 'N/A'\n",
    "where room_id is null;"
   ]
  },
  {
   "cell_type": "markdown",
   "metadata": {
    "collapsed": true
   },
   "source": [
    "%%sql \n",
    "update ny2016\n",
    "set host_id = 'N/A'\n",
    "where host_id is null;"
   ]
  },
  {
   "cell_type": "markdown",
   "metadata": {
    "collapsed": true
   },
   "source": [
    "### Key Decision\n",
    "#### But we chose to take the following steps."
   ]
  },
  {
   "cell_type": "code",
   "execution_count": 20,
   "metadata": {},
   "outputs": [
    {
     "name": "stdout",
     "output_type": "stream",
     "text": [
      "Done.\n",
      "Done.\n"
     ]
    },
    {
     "data": {
      "text/plain": [
       "[]"
      ]
     },
     "execution_count": 20,
     "metadata": {},
     "output_type": "execute_result"
    }
   ],
   "source": [
    "%%sql\n",
    "DROP INDEX IF EXISTS idx_ID;\n",
    "\n",
    "CREATE INDEX idx_ID ON ID (room_id, host_id);"
   ]
  },
  {
   "cell_type": "code",
   "execution_count": 31,
   "metadata": {},
   "outputs": [
    {
     "name": "stdout",
     "output_type": "stream",
     "text": [
      "465178 rows affected.\n"
     ]
    },
    {
     "data": {
      "text/plain": [
       "[]"
      ]
     },
     "execution_count": 31,
     "metadata": {},
     "output_type": "execute_result"
    }
   ],
   "source": [
    "%%sql\n",
    "update ny2016\n",
    "set ID_key = ID.ID_key\n",
    "from ID\n",
    "where (ny2016.room_id = ID.room_id\n",
    "        or (ny2016.room_id is null and ID.room_id is null))\n",
    "    and (ny2016.host_id = ID.host_id\n",
    "        or (ny2016.host_id is null and ID.host_id is null))"
   ]
  },
  {
   "cell_type": "markdown",
   "metadata": {},
   "source": [
    "### Verify\n",
    "Done. This number matches the total number of rows in the fact table."
   ]
  },
  {
   "cell_type": "code",
   "execution_count": 32,
   "metadata": {},
   "outputs": [
    {
     "name": "stdout",
     "output_type": "stream",
     "text": [
      "10 rows affected.\n"
     ]
    },
    {
     "data": {
      "text/html": [
       "<table>\n",
       "    <tr>\n",
       "        <th>id_key</th>\n",
       "    </tr>\n",
       "    <tr>\n",
       "        <td>16797</td>\n",
       "    </tr>\n",
       "    <tr>\n",
       "        <td>15602</td>\n",
       "    </tr>\n",
       "    <tr>\n",
       "        <td>37824</td>\n",
       "    </tr>\n",
       "    <tr>\n",
       "        <td>20791</td>\n",
       "    </tr>\n",
       "    <tr>\n",
       "        <td>35179</td>\n",
       "    </tr>\n",
       "    <tr>\n",
       "        <td>69716</td>\n",
       "    </tr>\n",
       "    <tr>\n",
       "        <td>21768</td>\n",
       "    </tr>\n",
       "    <tr>\n",
       "        <td>19101</td>\n",
       "    </tr>\n",
       "    <tr>\n",
       "        <td>58098</td>\n",
       "    </tr>\n",
       "    <tr>\n",
       "        <td>51824</td>\n",
       "    </tr>\n",
       "</table>"
      ],
      "text/plain": [
       "[(16797,),\n",
       " (15602,),\n",
       " (37824,),\n",
       " (20791,),\n",
       " (35179,),\n",
       " (69716,),\n",
       " (21768,),\n",
       " (19101,),\n",
       " (58098,),\n",
       " (51824,)]"
      ]
     },
     "execution_count": 32,
     "metadata": {},
     "output_type": "execute_result"
    }
   ],
   "source": [
    "%%sql\n",
    "SELECT ID_key FROM ny2016\n",
    "LIMIT 10;"
   ]
  },
  {
   "cell_type": "markdown",
   "metadata": {},
   "source": [
    "Successful."
   ]
  },
  {
   "cell_type": "markdown",
   "metadata": {
    "collapsed": true
   },
   "source": [
    "# Room Table"
   ]
  },
  {
   "cell_type": "code",
   "execution_count": 37,
   "metadata": {},
   "outputs": [
    {
     "name": "stdout",
     "output_type": "stream",
     "text": [
      "Done.\n",
      "Done.\n"
     ]
    },
    {
     "data": {
      "text/plain": [
       "[]"
      ]
     },
     "execution_count": 37,
     "metadata": {},
     "output_type": "execute_result"
    }
   ],
   "source": [
    "%%sql\n",
    "DROP TABLE IF EXISTS room;\n",
    "\n",
    "CREATE TABLE room (\n",
    "    room_key SERIAL PRIMARY KEY,\n",
    "    room_type VARCHAR(100),\n",
    "    accommodates FLOAT,\n",
    "    bedrooms FLOAT,\n",
    "    minstay FLOAT\n",
    ");"
   ]
  },
  {
   "cell_type": "code",
   "execution_count": 38,
   "metadata": {},
   "outputs": [
    {
     "name": "stdout",
     "output_type": "stream",
     "text": [
      "0 rows affected.\n"
     ]
    },
    {
     "data": {
      "text/html": [
       "<table>\n",
       "    <tr>\n",
       "        <th>room_key</th>\n",
       "        <th>room_type</th>\n",
       "        <th>accommodates</th>\n",
       "        <th>bedrooms</th>\n",
       "        <th>minstay</th>\n",
       "    </tr>\n",
       "</table>"
      ],
      "text/plain": [
       "[]"
      ]
     },
     "execution_count": 38,
     "metadata": {},
     "output_type": "execute_result"
    }
   ],
   "source": [
    "%%sql\n",
    "SELECT * FROM room"
   ]
  },
  {
   "cell_type": "code",
   "execution_count": 39,
   "metadata": {},
   "outputs": [
    {
     "name": "stdout",
     "output_type": "stream",
     "text": [
      "1672 rows affected.\n"
     ]
    },
    {
     "data": {
      "text/plain": [
       "[]"
      ]
     },
     "execution_count": 39,
     "metadata": {},
     "output_type": "execute_result"
    }
   ],
   "source": [
    "%%sql\n",
    "INSERT INTO room (room_type, accommodates,bedrooms,minstay)\n",
    "SELECT DISTINCT room_type, accommodates,bedrooms,minstay\n",
    "FROM ny2016;"
   ]
  },
  {
   "cell_type": "code",
   "execution_count": 43,
   "metadata": {},
   "outputs": [
    {
     "name": "stdout",
     "output_type": "stream",
     "text": [
      "Done.\n"
     ]
    },
    {
     "data": {
      "text/plain": [
       "[]"
      ]
     },
     "execution_count": 43,
     "metadata": {},
     "output_type": "execute_result"
    }
   ],
   "source": [
    "%%sql\n",
    "ALTER TABLE ny2016\n",
    "ADD COLUMN room_key INTEGER,\n",
    "ADD CONSTRAINT fk_room_key\n",
    "    FOREIGN KEY (room_key)\n",
    "    REFERENCES room (room_key);"
   ]
  },
  {
   "cell_type": "code",
   "execution_count": 44,
   "metadata": {},
   "outputs": [
    {
     "name": "stdout",
     "output_type": "stream",
     "text": [
      "Done.\n",
      "Done.\n"
     ]
    },
    {
     "data": {
      "text/plain": [
       "[]"
      ]
     },
     "execution_count": 44,
     "metadata": {},
     "output_type": "execute_result"
    }
   ],
   "source": [
    "%%sql\n",
    "DROP INDEX IF EXISTS idx_room;\n",
    "\n",
    "CREATE INDEX idx_room ON room (room_type, accommodates,bedrooms,minstay);"
   ]
  },
  {
   "cell_type": "code",
   "execution_count": 46,
   "metadata": {},
   "outputs": [
    {
     "name": "stdout",
     "output_type": "stream",
     "text": [
      "465178 rows affected.\n"
     ]
    },
    {
     "data": {
      "text/plain": [
       "[]"
      ]
     },
     "execution_count": 46,
     "metadata": {},
     "output_type": "execute_result"
    }
   ],
   "source": [
    "%%sql\n",
    "UPDATE ny2016\n",
    "SET room_key = room.room_key\n",
    "FROM room\n",
    "WHERE (ny2016.room_type = room.room_type \n",
    "        OR ( ny2016.room_type IS NULL AND room.room_type IS NULL))\n",
    "    AND (ny2016.accommodates = room.accommodates \n",
    "        OR ( ny2016.accommodates IS NULL AND room.accommodates IS NULL))\n",
    "    AND (ny2016.bedrooms = room.bedrooms \n",
    "        OR ( ny2016.bedrooms IS NULL AND room.bedrooms IS NULL))\n",
    "    AND (ny2016.minstay = room.minstay \n",
    "        OR ( ny2016.minstay IS NULL AND room.minstay IS NULL))"
   ]
  },
  {
   "cell_type": "markdown",
   "metadata": {},
   "source": [
    "### Verify\n",
    "Done. This number matches the total number of rows in the fact table."
   ]
  },
  {
   "cell_type": "code",
   "execution_count": 47,
   "metadata": {},
   "outputs": [
    {
     "name": "stdout",
     "output_type": "stream",
     "text": [
      "10 rows affected.\n"
     ]
    },
    {
     "data": {
      "text/html": [
       "<table>\n",
       "    <tr>\n",
       "        <th>room_key</th>\n",
       "    </tr>\n",
       "    <tr>\n",
       "        <td>490</td>\n",
       "    </tr>\n",
       "    <tr>\n",
       "        <td>1446</td>\n",
       "    </tr>\n",
       "    <tr>\n",
       "        <td>1446</td>\n",
       "    </tr>\n",
       "    <tr>\n",
       "        <td>1446</td>\n",
       "    </tr>\n",
       "    <tr>\n",
       "        <td>1446</td>\n",
       "    </tr>\n",
       "    <tr>\n",
       "        <td>1376</td>\n",
       "    </tr>\n",
       "    <tr>\n",
       "        <td>1619</td>\n",
       "    </tr>\n",
       "    <tr>\n",
       "        <td>682</td>\n",
       "    </tr>\n",
       "    <tr>\n",
       "        <td>1252</td>\n",
       "    </tr>\n",
       "    <tr>\n",
       "        <td>748</td>\n",
       "    </tr>\n",
       "</table>"
      ],
      "text/plain": [
       "[(490,),\n",
       " (1446,),\n",
       " (1446,),\n",
       " (1446,),\n",
       " (1446,),\n",
       " (1376,),\n",
       " (1619,),\n",
       " (682,),\n",
       " (1252,),\n",
       " (748,)]"
      ]
     },
     "execution_count": 47,
     "metadata": {},
     "output_type": "execute_result"
    }
   ],
   "source": [
    "%%sql\n",
    "SELECT room_key FROM ny2016\n",
    "LIMIT 10;"
   ]
  },
  {
   "cell_type": "markdown",
   "metadata": {},
   "source": [
    "Successful."
   ]
  },
  {
   "cell_type": "markdown",
   "metadata": {},
   "source": [
    "# Location Table"
   ]
  },
  {
   "cell_type": "code",
   "execution_count": 48,
   "metadata": {},
   "outputs": [
    {
     "name": "stdout",
     "output_type": "stream",
     "text": [
      "Done.\n",
      "Done.\n"
     ]
    },
    {
     "data": {
      "text/plain": [
       "[]"
      ]
     },
     "execution_count": 48,
     "metadata": {},
     "output_type": "execute_result"
    }
   ],
   "source": [
    "%%sql\n",
    "DROP TABLE IF EXISTS locations;\n",
    "\n",
    "CREATE TABLE locations (\n",
    "    locations_key SERIAL PRIMARY KEY,\n",
    "    borough VARCHAR(100) NOT NULL,\n",
    "    neighborhood VARCHAR(100) NOT NULL\n",
    ");"
   ]
  },
  {
   "cell_type": "code",
   "execution_count": 49,
   "metadata": {},
   "outputs": [
    {
     "name": "stdout",
     "output_type": "stream",
     "text": [
      "0 rows affected.\n"
     ]
    },
    {
     "data": {
      "text/html": [
       "<table>\n",
       "    <tr>\n",
       "        <th>locations_key</th>\n",
       "        <th>borough</th>\n",
       "        <th>neighborhood</th>\n",
       "    </tr>\n",
       "</table>"
      ],
      "text/plain": [
       "[]"
      ]
     },
     "execution_count": 49,
     "metadata": {},
     "output_type": "execute_result"
    }
   ],
   "source": [
    "%%sql\n",
    "SELECT * FROM locations"
   ]
  },
  {
   "cell_type": "code",
   "execution_count": 50,
   "metadata": {},
   "outputs": [
    {
     "name": "stdout",
     "output_type": "stream",
     "text": [
      "240 rows affected.\n"
     ]
    },
    {
     "data": {
      "text/plain": [
       "[]"
      ]
     },
     "execution_count": 50,
     "metadata": {},
     "output_type": "execute_result"
    }
   ],
   "source": [
    "%%sql\n",
    "INSERT INTO locations (borough, neighborhood)\n",
    "SELECT DISTINCT borough, neighborhood\n",
    "FROM ny2016;"
   ]
  },
  {
   "cell_type": "code",
   "execution_count": 51,
   "metadata": {},
   "outputs": [
    {
     "name": "stdout",
     "output_type": "stream",
     "text": [
      "Done.\n"
     ]
    },
    {
     "data": {
      "text/plain": [
       "[]"
      ]
     },
     "execution_count": 51,
     "metadata": {},
     "output_type": "execute_result"
    }
   ],
   "source": [
    "%%sql\n",
    "ALTER TABLE ny2016\n",
    "ADD COLUMN locations_key INTEGER,\n",
    "ADD CONSTRAINT fk_locations_key\n",
    "    FOREIGN KEY (locations_key)\n",
    "    REFERENCES locations (locations_key);"
   ]
  },
  {
   "cell_type": "code",
   "execution_count": 52,
   "metadata": {},
   "outputs": [
    {
     "name": "stdout",
     "output_type": "stream",
     "text": [
      "Done.\n",
      "Done.\n"
     ]
    },
    {
     "data": {
      "text/plain": [
       "[]"
      ]
     },
     "execution_count": 52,
     "metadata": {},
     "output_type": "execute_result"
    }
   ],
   "source": [
    "%%sql\n",
    "DROP INDEX IF EXISTS idx_locations;\n",
    "\n",
    "CREATE INDEX idx_locations ON locations (borough, neighborhood);"
   ]
  },
  {
   "cell_type": "code",
   "execution_count": 53,
   "metadata": {},
   "outputs": [
    {
     "name": "stdout",
     "output_type": "stream",
     "text": [
      "465178 rows affected.\n"
     ]
    },
    {
     "data": {
      "text/plain": [
       "[]"
      ]
     },
     "execution_count": 53,
     "metadata": {},
     "output_type": "execute_result"
    }
   ],
   "source": [
    "%%sql\n",
    "UPDATE ny2016\n",
    "SET locations_key = locations.locations_key\n",
    "FROM locations\n",
    "WHERE (ny2016.borough = locations.borough \n",
    "        OR ( ny2016.borough IS NULL AND locations.borough IS NULL))\n",
    "    AND (ny2016.neighborhood = locations.neighborhood \n",
    "        OR ( ny2016.neighborhood IS NULL AND locations.neighborhood IS NULL))"
   ]
  },
  {
   "cell_type": "markdown",
   "metadata": {},
   "source": [
    "### Verify \n",
    "Done."
   ]
  },
  {
   "cell_type": "code",
   "execution_count": 54,
   "metadata": {},
   "outputs": [
    {
     "name": "stdout",
     "output_type": "stream",
     "text": [
      "10 rows affected.\n"
     ]
    },
    {
     "data": {
      "text/html": [
       "<table>\n",
       "    <tr>\n",
       "        <th>locations_key</th>\n",
       "        <th>borough</th>\n",
       "        <th>neighborhood</th>\n",
       "    </tr>\n",
       "    <tr>\n",
       "        <td>1</td>\n",
       "        <td>Brooklyn</td>\n",
       "        <td>Gravesend</td>\n",
       "    </tr>\n",
       "    <tr>\n",
       "        <td>2</td>\n",
       "        <td>Queens</td>\n",
       "        <td>East Elmhurst</td>\n",
       "    </tr>\n",
       "    <tr>\n",
       "        <td>3</td>\n",
       "        <td>Bronx</td>\n",
       "        <td>Mott Haven</td>\n",
       "    </tr>\n",
       "    <tr>\n",
       "        <td>4</td>\n",
       "        <td>Queens</td>\n",
       "        <td>South Ozone Park</td>\n",
       "    </tr>\n",
       "    <tr>\n",
       "        <td>5</td>\n",
       "        <td>Brooklyn</td>\n",
       "        <td>Downtown Brooklyn</td>\n",
       "    </tr>\n",
       "    <tr>\n",
       "        <td>6</td>\n",
       "        <td>Bronx</td>\n",
       "        <td>Longwood</td>\n",
       "    </tr>\n",
       "    <tr>\n",
       "        <td>7</td>\n",
       "        <td>Brooklyn</td>\n",
       "        <td>Manhattan Beach</td>\n",
       "    </tr>\n",
       "    <tr>\n",
       "        <td>8</td>\n",
       "        <td>Bronx</td>\n",
       "        <td>Morris Heights</td>\n",
       "    </tr>\n",
       "    <tr>\n",
       "        <td>9</td>\n",
       "        <td>Bronx</td>\n",
       "        <td>Bronxdale</td>\n",
       "    </tr>\n",
       "    <tr>\n",
       "        <td>10</td>\n",
       "        <td>Queens</td>\n",
       "        <td>Howard Beach</td>\n",
       "    </tr>\n",
       "</table>"
      ],
      "text/plain": [
       "[(1, 'Brooklyn', 'Gravesend'),\n",
       " (2, 'Queens', 'East Elmhurst'),\n",
       " (3, 'Bronx', 'Mott Haven'),\n",
       " (4, 'Queens', 'South Ozone Park'),\n",
       " (5, 'Brooklyn', 'Downtown Brooklyn'),\n",
       " (6, 'Bronx', 'Longwood'),\n",
       " (7, 'Brooklyn', 'Manhattan Beach'),\n",
       " (8, 'Bronx', 'Morris Heights'),\n",
       " (9, 'Bronx', 'Bronxdale'),\n",
       " (10, 'Queens', 'Howard Beach')]"
      ]
     },
     "execution_count": 54,
     "metadata": {},
     "output_type": "execute_result"
    }
   ],
   "source": [
    "%%sql\n",
    "SELECT * FROM locations\n",
    "LIMIT 10;"
   ]
  },
  {
   "cell_type": "markdown",
   "metadata": {},
   "source": [
    "Successful."
   ]
  },
  {
   "cell_type": "markdown",
   "metadata": {},
   "source": [
    "### Key Decision\n",
    "Since we don't care the details of latitude and logitude, we don't put them in the location dimension table and we drop them from the fact table ny2016."
   ]
  },
  {
   "cell_type": "markdown",
   "metadata": {
    "collapsed": true
   },
   "source": [
    "Now we can check the fact table and drop columns that are not key or useful facts."
   ]
  },
  {
   "cell_type": "code",
   "execution_count": 55,
   "metadata": {},
   "outputs": [
    {
     "name": "stdout",
     "output_type": "stream",
     "text": [
      "3 rows affected.\n"
     ]
    },
    {
     "data": {
      "text/html": [
       "<table>\n",
       "    <tr>\n",
       "        <th>room_id</th>\n",
       "        <th>host_id</th>\n",
       "        <th>room_type</th>\n",
       "        <th>borough</th>\n",
       "        <th>neighborhood</th>\n",
       "        <th>reviews</th>\n",
       "        <th>overall_satisfaction</th>\n",
       "        <th>accommodates</th>\n",
       "        <th>bedrooms</th>\n",
       "        <th>price</th>\n",
       "        <th>minstay</th>\n",
       "        <th>latitude</th>\n",
       "        <th>longitude</th>\n",
       "        <th>last_modified</th>\n",
       "        <th>id_key</th>\n",
       "        <th>room_key</th>\n",
       "        <th>locations_key</th>\n",
       "    </tr>\n",
       "    <tr>\n",
       "        <td>9150194</td>\n",
       "        <td>22489244</td>\n",
       "        <td>Private room</td>\n",
       "        <td>Brooklyn</td>\n",
       "        <td>Williamsburg</td>\n",
       "        <td>4</td>\n",
       "        <td>5.0</td>\n",
       "        <td>2</td>\n",
       "        <td>1</td>\n",
       "        <td>69</td>\n",
       "        <td>2</td>\n",
       "        <td>40.704797</td>\n",
       "        <td>-73.942935</td>\n",
       "        <td>2016-04-23</td>\n",
       "        <td>26173</td>\n",
       "        <td>1446</td>\n",
       "        <td>20</td>\n",
       "    </tr>\n",
       "    <tr>\n",
       "        <td>8406689</td>\n",
       "        <td>11395111</td>\n",
       "        <td>Private room</td>\n",
       "        <td>Brooklyn</td>\n",
       "        <td>Bedford-Stuyvesant</td>\n",
       "        <td>6</td>\n",
       "        <td>4.5</td>\n",
       "        <td>2</td>\n",
       "        <td>1</td>\n",
       "        <td>65</td>\n",
       "        <td>2</td>\n",
       "        <td>40.692472</td>\n",
       "        <td>-73.938746</td>\n",
       "        <td>2016-09-20</td>\n",
       "        <td>41578</td>\n",
       "        <td>1446</td>\n",
       "        <td>36</td>\n",
       "    </tr>\n",
       "    <tr>\n",
       "        <td>9349327</td>\n",
       "        <td>22409286</td>\n",
       "        <td>Entire home/apt</td>\n",
       "        <td>Manhattan</td>\n",
       "        <td>Chelsea</td>\n",
       "        <td>1</td>\n",
       "        <td>None</td>\n",
       "        <td>3</td>\n",
       "        <td>0</td>\n",
       "        <td>150</td>\n",
       "        <td>4</td>\n",
       "        <td>40.739354</td>\n",
       "        <td>-74.000063</td>\n",
       "        <td>2016-09-20</td>\n",
       "        <td>62850</td>\n",
       "        <td>1038</td>\n",
       "        <td>32</td>\n",
       "    </tr>\n",
       "</table>"
      ],
      "text/plain": [
       "[(9150194, 22489244, 'Private room', 'Brooklyn', 'Williamsburg', 4, 5.0, 2, 1, 69, 2, 40.704797, -73.942935, datetime.date(2016, 4, 23), 26173, 1446, 20),\n",
       " (8406689, 11395111, 'Private room', 'Brooklyn', 'Bedford-Stuyvesant', 6, 4.5, 2, 1, 65, 2, 40.692472, -73.938746, datetime.date(2016, 9, 20), 41578, 1446, 36),\n",
       " (9349327, 22409286, 'Entire home/apt', 'Manhattan', 'Chelsea', 1, None, 3, 0, 150, 4, 40.739354, -74.000063, datetime.date(2016, 9, 20), 62850, 1038, 32)]"
      ]
     },
     "execution_count": 55,
     "metadata": {},
     "output_type": "execute_result"
    }
   ],
   "source": [
    "%%sql\n",
    "select * from ny2016\n",
    "limit 3"
   ]
  },
  {
   "cell_type": "code",
   "execution_count": 56,
   "metadata": {},
   "outputs": [
    {
     "name": "stdout",
     "output_type": "stream",
     "text": [
      "Done.\n"
     ]
    },
    {
     "data": {
      "text/plain": [
       "[]"
      ]
     },
     "execution_count": 56,
     "metadata": {},
     "output_type": "execute_result"
    }
   ],
   "source": [
    "%%sql \n",
    "ALTER TABLE ny2016\n",
    "DROP COLUMN room_id,\n",
    "DROP COLUMN host_id,\n",
    "DROP COLUMN room_type,\n",
    "DROP COLUMN borough,\n",
    "DROP COLUMN neighborhood,\n",
    "DROP COLUMN accommodates,\n",
    "DROP COLUMN bedrooms,\n",
    "DROP COLUMN minstay,\n",
    "DROP COLUMN latitude,\n",
    "DROP COLUMN longitude;"
   ]
  },
  {
   "cell_type": "markdown",
   "metadata": {},
   "source": [
    "### Verify"
   ]
  },
  {
   "cell_type": "code",
   "execution_count": 57,
   "metadata": {
    "scrolled": false
   },
   "outputs": [
    {
     "name": "stdout",
     "output_type": "stream",
     "text": [
      "10 rows affected.\n"
     ]
    },
    {
     "data": {
      "text/html": [
       "<table>\n",
       "    <tr>\n",
       "        <th>reviews</th>\n",
       "        <th>overall_satisfaction</th>\n",
       "        <th>price</th>\n",
       "        <th>last_modified</th>\n",
       "        <th>id_key</th>\n",
       "        <th>room_key</th>\n",
       "        <th>locations_key</th>\n",
       "    </tr>\n",
       "    <tr>\n",
       "        <td>4</td>\n",
       "        <td>5.0</td>\n",
       "        <td>69</td>\n",
       "        <td>2016-04-23</td>\n",
       "        <td>26173</td>\n",
       "        <td>1446</td>\n",
       "        <td>20</td>\n",
       "    </tr>\n",
       "    <tr>\n",
       "        <td>6</td>\n",
       "        <td>4.5</td>\n",
       "        <td>65</td>\n",
       "        <td>2016-09-20</td>\n",
       "        <td>41578</td>\n",
       "        <td>1446</td>\n",
       "        <td>36</td>\n",
       "    </tr>\n",
       "    <tr>\n",
       "        <td>1</td>\n",
       "        <td>None</td>\n",
       "        <td>150</td>\n",
       "        <td>2016-09-20</td>\n",
       "        <td>62850</td>\n",
       "        <td>1038</td>\n",
       "        <td>32</td>\n",
       "    </tr>\n",
       "    <tr>\n",
       "        <td>17</td>\n",
       "        <td>5.0</td>\n",
       "        <td>80</td>\n",
       "        <td>2016-09-20</td>\n",
       "        <td>41800</td>\n",
       "        <td>490</td>\n",
       "        <td>52</td>\n",
       "    </tr>\n",
       "    <tr>\n",
       "        <td>1</td>\n",
       "        <td>None</td>\n",
       "        <td>70</td>\n",
       "        <td>2016-09-20</td>\n",
       "        <td>65402</td>\n",
       "        <td>490</td>\n",
       "        <td>36</td>\n",
       "    </tr>\n",
       "    <tr>\n",
       "        <td>21</td>\n",
       "        <td>4.5</td>\n",
       "        <td>80</td>\n",
       "        <td>2016-09-20</td>\n",
       "        <td>15783</td>\n",
       "        <td>490</td>\n",
       "        <td>194</td>\n",
       "    </tr>\n",
       "    <tr>\n",
       "        <td>44</td>\n",
       "        <td>4.5</td>\n",
       "        <td>100</td>\n",
       "        <td>2016-09-20</td>\n",
       "        <td>25293</td>\n",
       "        <td>490</td>\n",
       "        <td>95</td>\n",
       "    </tr>\n",
       "    <tr>\n",
       "        <td>1</td>\n",
       "        <td>None</td>\n",
       "        <td>137</td>\n",
       "        <td>2016-09-20</td>\n",
       "        <td>315</td>\n",
       "        <td>1219</td>\n",
       "        <td>20</td>\n",
       "    </tr>\n",
       "    <tr>\n",
       "        <td>1</td>\n",
       "        <td>None</td>\n",
       "        <td>110</td>\n",
       "        <td>2016-09-20</td>\n",
       "        <td>33869</td>\n",
       "        <td>334</td>\n",
       "        <td>90</td>\n",
       "    </tr>\n",
       "    <tr>\n",
       "        <td>93</td>\n",
       "        <td>4.5</td>\n",
       "        <td>150</td>\n",
       "        <td>2016-09-20</td>\n",
       "        <td>71953</td>\n",
       "        <td>1529</td>\n",
       "        <td>116</td>\n",
       "    </tr>\n",
       "</table>"
      ],
      "text/plain": [
       "[(4, 5.0, 69, datetime.date(2016, 4, 23), 26173, 1446, 20),\n",
       " (6, 4.5, 65, datetime.date(2016, 9, 20), 41578, 1446, 36),\n",
       " (1, None, 150, datetime.date(2016, 9, 20), 62850, 1038, 32),\n",
       " (17, 5.0, 80, datetime.date(2016, 9, 20), 41800, 490, 52),\n",
       " (1, None, 70, datetime.date(2016, 9, 20), 65402, 490, 36),\n",
       " (21, 4.5, 80, datetime.date(2016, 9, 20), 15783, 490, 194),\n",
       " (44, 4.5, 100, datetime.date(2016, 9, 20), 25293, 490, 95),\n",
       " (1, None, 137, datetime.date(2016, 9, 20), 315, 1219, 20),\n",
       " (1, None, 110, datetime.date(2016, 9, 20), 33869, 334, 90),\n",
       " (93, 4.5, 150, datetime.date(2016, 9, 20), 71953, 1529, 116)]"
      ]
     },
     "execution_count": 57,
     "metadata": {},
     "output_type": "execute_result"
    }
   ],
   "source": [
    "%%sql\n",
    "select * from ny2016\n",
    "limit 10;"
   ]
  },
  {
   "cell_type": "markdown",
   "metadata": {},
   "source": [
    "This fact table contains keys that reference to other dimension tables and facts such as price and reviews as well as degenerate dimension (overall_satisfaction)."
   ]
  },
  {
   "cell_type": "markdown",
   "metadata": {
    "collapsed": true
   },
   "source": [
    "# Part 3 - Analysis"
   ]
  },
  {
   "cell_type": "code",
   "execution_count": 58,
   "metadata": {
    "collapsed": true
   },
   "outputs": [],
   "source": [
    "import matplotlib.pyplot as plt\n",
    "import pandas.io.sql as pdsql\n",
    "import psycopg2\n",
    "import pandas as pd\n",
    "import numpy as np"
   ]
  },
  {
   "cell_type": "markdown",
   "metadata": {},
   "source": [
    "## Number of rooms listed overtime by month:"
   ]
  },
  {
   "cell_type": "code",
   "execution_count": 59,
   "metadata": {},
   "outputs": [
    {
     "name": "stdout",
     "output_type": "stream",
     "text": [
      "12 rows affected.\n"
     ]
    },
    {
     "data": {
      "text/html": [
       "<table>\n",
       "    <tr>\n",
       "        <th>num_of_room_listed</th>\n",
       "        <th>month</th>\n",
       "    </tr>\n",
       "    <tr>\n",
       "        <td>36003</td>\n",
       "        <td>01</td>\n",
       "    </tr>\n",
       "    <tr>\n",
       "        <td>24210</td>\n",
       "        <td>02</td>\n",
       "    </tr>\n",
       "    <tr>\n",
       "        <td>35766</td>\n",
       "        <td>03</td>\n",
       "    </tr>\n",
       "    <tr>\n",
       "        <td>38107</td>\n",
       "        <td>04</td>\n",
       "    </tr>\n",
       "    <tr>\n",
       "        <td>35067</td>\n",
       "        <td>05</td>\n",
       "    </tr>\n",
       "    <tr>\n",
       "        <td>34205</td>\n",
       "        <td>06</td>\n",
       "    </tr>\n",
       "    <tr>\n",
       "        <td>35547</td>\n",
       "        <td>07</td>\n",
       "    </tr>\n",
       "    <tr>\n",
       "        <td>37769</td>\n",
       "        <td>08</td>\n",
       "    </tr>\n",
       "    <tr>\n",
       "        <td>35620</td>\n",
       "        <td>09</td>\n",
       "    </tr>\n",
       "    <tr>\n",
       "        <td>35795</td>\n",
       "        <td>10</td>\n",
       "    </tr>\n",
       "    <tr>\n",
       "        <td>37439</td>\n",
       "        <td>11</td>\n",
       "    </tr>\n",
       "    <tr>\n",
       "        <td>39079</td>\n",
       "        <td>12</td>\n",
       "    </tr>\n",
       "</table>"
      ],
      "text/plain": [
       "[(36003, '01'),\n",
       " (24210, '02'),\n",
       " (35766, '03'),\n",
       " (38107, '04'),\n",
       " (35067, '05'),\n",
       " (34205, '06'),\n",
       " (35547, '07'),\n",
       " (37769, '08'),\n",
       " (35620, '09'),\n",
       " (35795, '10'),\n",
       " (37439, '11'),\n",
       " (39079, '12')]"
      ]
     },
     "execution_count": 59,
     "metadata": {},
     "output_type": "execute_result"
    }
   ],
   "source": [
    "%%sql\n",
    "select count(distinct room_id) as Num_Of_Room_Listed, to_char(last_modified, 'MM') AS MONTH\n",
    "from ID\n",
    "join ny2016 on ID.ID_key = ny2016.ID_key\n",
    "group by to_char(last_modified, 'MM')\n",
    "order by to_char(last_modified, 'MM')"
   ]
  },
  {
   "cell_type": "code",
   "execution_count": 60,
   "metadata": {
    "collapsed": true
   },
   "outputs": [],
   "source": [
    "conn = psycopg2.connect(\"dbname='ny2016' user='student' host='localhost' password=''\")"
   ]
  },
  {
   "cell_type": "code",
   "execution_count": 61,
   "metadata": {
    "collapsed": true
   },
   "outputs": [],
   "source": [
    "num_room = pd.read_sql('''select count(distinct room_id) as Num_Of_Room_Listed, to_char(last_modified, 'MM') AS MONTH \n",
    "from ID join ny2016 on ID.ID_key = ny2016.ID_key \n",
    "group by to_char(last_modified, 'MM') \n",
    "order by to_char(last_modified, 'MM')''',conn)"
   ]
  },
  {
   "cell_type": "code",
   "execution_count": 62,
   "metadata": {
    "collapsed": true
   },
   "outputs": [],
   "source": [
    "num_of_room_listed =num_room['num_of_room_listed'].values\n",
    "month = num_room['month'].values"
   ]
  },
  {
   "cell_type": "code",
   "execution_count": 63,
   "metadata": {},
   "outputs": [
    {
     "data": {
      "image/png": "[encoded data removed]",
      "text/plain": [
       "<matplotlib.figure.Figure at 0x7fcee1a68080>"
      ]
     },
     "metadata": {},
     "output_type": "display_data"
    }
   ],
   "source": [
    "plt.plot(month,num_of_room_listed)\n",
    "plt.xlabel('month')\n",
    "plt.ylabel('num_of_room_listed')\n",
    "plt.xticks(np.arange(1, 13, 1.0))\n",
    "plt.show()  "
   ]
  },
  {
   "cell_type": "code",
   "execution_count": 64,
   "metadata": {
    "collapsed": true
   },
   "outputs": [],
   "source": [
    "del num_room"
   ]
  },
  {
   "cell_type": "markdown",
   "metadata": {},
   "source": [
    "### Answer and Discussion\n",
    "We can see there is a sharp decrease of rooms listed from January to February.  This could be an indicator of either low demand, less people travel to New York in February, or low supply, more New Yorkers stay home in February and can't list their AirBnB."
   ]
  },
  {
   "cell_type": "markdown",
   "metadata": {},
   "source": [
    "## NUMBER OF HOST OVER TIME:"
   ]
  },
  {
   "cell_type": "code",
   "execution_count": 65,
   "metadata": {},
   "outputs": [
    {
     "name": "stdout",
     "output_type": "stream",
     "text": [
      "12 rows affected.\n"
     ]
    },
    {
     "data": {
      "text/html": [
       "<table>\n",
       "    <tr>\n",
       "        <th>num_of_host</th>\n",
       "        <th>month</th>\n",
       "    </tr>\n",
       "    <tr>\n",
       "        <td>29180</td>\n",
       "        <td>01</td>\n",
       "    </tr>\n",
       "    <tr>\n",
       "        <td>20701</td>\n",
       "        <td>02</td>\n",
       "    </tr>\n",
       "    <tr>\n",
       "        <td>29427</td>\n",
       "        <td>03</td>\n",
       "    </tr>\n",
       "    <tr>\n",
       "        <td>31451</td>\n",
       "        <td>04</td>\n",
       "    </tr>\n",
       "    <tr>\n",
       "        <td>29199</td>\n",
       "        <td>05</td>\n",
       "    </tr>\n",
       "    <tr>\n",
       "        <td>28568</td>\n",
       "        <td>06</td>\n",
       "    </tr>\n",
       "    <tr>\n",
       "        <td>29757</td>\n",
       "        <td>07</td>\n",
       "    </tr>\n",
       "    <tr>\n",
       "        <td>31451</td>\n",
       "        <td>08</td>\n",
       "    </tr>\n",
       "    <tr>\n",
       "        <td>29934</td>\n",
       "        <td>09</td>\n",
       "    </tr>\n",
       "    <tr>\n",
       "        <td>29783</td>\n",
       "        <td>10</td>\n",
       "    </tr>\n",
       "    <tr>\n",
       "        <td>31427</td>\n",
       "        <td>11</td>\n",
       "    </tr>\n",
       "    <tr>\n",
       "        <td>33060</td>\n",
       "        <td>12</td>\n",
       "    </tr>\n",
       "</table>"
      ],
      "text/plain": [
       "[(29180, '01'),\n",
       " (20701, '02'),\n",
       " (29427, '03'),\n",
       " (31451, '04'),\n",
       " (29199, '05'),\n",
       " (28568, '06'),\n",
       " (29757, '07'),\n",
       " (31451, '08'),\n",
       " (29934, '09'),\n",
       " (29783, '10'),\n",
       " (31427, '11'),\n",
       " (33060, '12')]"
      ]
     },
     "execution_count": 65,
     "metadata": {},
     "output_type": "execute_result"
    }
   ],
   "source": [
    "%%sql\n",
    "select count(distinct host_id) as num_of_host, to_char(last_modified, 'MM') AS MONTH\n",
    "from ID\n",
    "join ny2016 on ID.ID_key = ny2016.ID_key\n",
    "group by to_char(last_modified, 'MM')\n",
    "order by to_char(last_modified, 'MM')"
   ]
  },
  {
   "cell_type": "code",
   "execution_count": 66,
   "metadata": {
    "collapsed": true
   },
   "outputs": [],
   "source": [
    "num_host = pd.read_sql('''select count(distinct host_id) as num_of_host, to_char(last_modified, 'MM') AS MONTH\n",
    "from ID\n",
    "join ny2016 on ID.ID_key = ny2016.ID_key\n",
    "group by to_char(last_modified, 'MM')\n",
    "order by to_char(last_modified, 'MM');''',conn)"
   ]
  },
  {
   "cell_type": "code",
   "execution_count": 67,
   "metadata": {
    "collapsed": true
   },
   "outputs": [],
   "source": [
    "num_of_host =num_host['num_of_host'].values"
   ]
  },
  {
   "cell_type": "code",
   "execution_count": 68,
   "metadata": {},
   "outputs": [
    {
     "data": {
      "image/png": "[encoded data removed]",
      "text/plain": [
       "<matplotlib.figure.Figure at 0x7fcedb52b940>"
      ]
     },
     "metadata": {},
     "output_type": "display_data"
    },
    {
     "data": {
      "image/png": "[encoded data removed]",
      "text/plain": [
       "<matplotlib.figure.Figure at 0x7fced9c13fd0>"
      ]
     },
     "metadata": {},
     "output_type": "display_data"
    }
   ],
   "source": [
    "plt.plot(month,num_of_host)\n",
    "plt.xticks(np.arange(1, 13, 1.0))\n",
    "plt.xlabel('month')\n",
    "plt.ylabel('num_of_host')\n",
    "plt.show()  \n",
    "\n",
    "\n",
    "\n",
    "\n",
    "plt.plot(month,num_of_room_listed)\n",
    "plt.xlabel('month')\n",
    "plt.ylabel('num_of_room_listed')\n",
    "plt.xticks(np.arange(1, 13, 1.0))\n",
    "plt.show()  "
   ]
  },
  {
   "cell_type": "markdown",
   "metadata": {},
   "source": [
    "### Answer and Discussion\n",
    "It appears the seasonal trends for Room and host are highly similar."
   ]
  },
  {
   "cell_type": "markdown",
   "metadata": {},
   "source": [
    "## Change in distribution of room type over time:"
   ]
  },
  {
   "cell_type": "code",
   "execution_count": 69,
   "metadata": {},
   "outputs": [
    {
     "name": "stdout",
     "output_type": "stream",
     "text": [
      "36 rows affected.\n"
     ]
    },
    {
     "data": {
      "text/html": [
       "<table>\n",
       "    <tr>\n",
       "        <th>room_type</th>\n",
       "        <th>count</th>\n",
       "        <th>month</th>\n",
       "    </tr>\n",
       "    <tr>\n",
       "        <td>Private room</td>\n",
       "        <td>15371</td>\n",
       "        <td>01</td>\n",
       "    </tr>\n",
       "    <tr>\n",
       "        <td>Shared room</td>\n",
       "        <td>1057</td>\n",
       "        <td>01</td>\n",
       "    </tr>\n",
       "    <tr>\n",
       "        <td>Entire home/apt</td>\n",
       "        <td>19560</td>\n",
       "        <td>01</td>\n",
       "    </tr>\n",
       "    <tr>\n",
       "        <td>Entire home/apt</td>\n",
       "        <td>12989</td>\n",
       "        <td>02</td>\n",
       "    </tr>\n",
       "    <tr>\n",
       "        <td>Private room</td>\n",
       "        <td>10566</td>\n",
       "        <td>02</td>\n",
       "    </tr>\n",
       "    <tr>\n",
       "        <td>Shared room</td>\n",
       "        <td>655</td>\n",
       "        <td>02</td>\n",
       "    </tr>\n",
       "    <tr>\n",
       "        <td>Shared room</td>\n",
       "        <td>1355</td>\n",
       "        <td>03</td>\n",
       "    </tr>\n",
       "    <tr>\n",
       "        <td>Private room</td>\n",
       "        <td>19803</td>\n",
       "        <td>03</td>\n",
       "    </tr>\n",
       "    <tr>\n",
       "        <td>Entire home/apt</td>\n",
       "        <td>24245</td>\n",
       "        <td>03</td>\n",
       "    </tr>\n",
       "    <tr>\n",
       "        <td>Shared room</td>\n",
       "        <td>2139</td>\n",
       "        <td>04</td>\n",
       "    </tr>\n",
       "    <tr>\n",
       "        <td>Entire home/apt</td>\n",
       "        <td>35545</td>\n",
       "        <td>04</td>\n",
       "    </tr>\n",
       "    <tr>\n",
       "        <td>Private room</td>\n",
       "        <td>31357</td>\n",
       "        <td>04</td>\n",
       "    </tr>\n",
       "    <tr>\n",
       "        <td>Entire home/apt</td>\n",
       "        <td>18170</td>\n",
       "        <td>05</td>\n",
       "    </tr>\n",
       "    <tr>\n",
       "        <td>Private room</td>\n",
       "        <td>15853</td>\n",
       "        <td>05</td>\n",
       "    </tr>\n",
       "    <tr>\n",
       "        <td>Shared room</td>\n",
       "        <td>1044</td>\n",
       "        <td>05</td>\n",
       "    </tr>\n",
       "    <tr>\n",
       "        <td>Private room</td>\n",
       "        <td>15892</td>\n",
       "        <td>06</td>\n",
       "    </tr>\n",
       "    <tr>\n",
       "        <td>Entire home/apt</td>\n",
       "        <td>17226</td>\n",
       "        <td>06</td>\n",
       "    </tr>\n",
       "    <tr>\n",
       "        <td>Shared room</td>\n",
       "        <td>1087</td>\n",
       "        <td>06</td>\n",
       "    </tr>\n",
       "    <tr>\n",
       "        <td>Shared room</td>\n",
       "        <td>1220</td>\n",
       "        <td>07</td>\n",
       "    </tr>\n",
       "    <tr>\n",
       "        <td>Private room</td>\n",
       "        <td>16554</td>\n",
       "        <td>07</td>\n",
       "    </tr>\n",
       "    <tr>\n",
       "        <td>Entire home/apt</td>\n",
       "        <td>17773</td>\n",
       "        <td>07</td>\n",
       "    </tr>\n",
       "    <tr>\n",
       "        <td>Shared room</td>\n",
       "        <td>1276</td>\n",
       "        <td>08</td>\n",
       "    </tr>\n",
       "    <tr>\n",
       "        <td>Private room</td>\n",
       "        <td>17530</td>\n",
       "        <td>08</td>\n",
       "    </tr>\n",
       "    <tr>\n",
       "        <td>Entire home/apt</td>\n",
       "        <td>18963</td>\n",
       "        <td>08</td>\n",
       "    </tr>\n",
       "    <tr>\n",
       "        <td>Private room</td>\n",
       "        <td>16497</td>\n",
       "        <td>09</td>\n",
       "    </tr>\n",
       "    <tr>\n",
       "        <td>Shared room</td>\n",
       "        <td>623</td>\n",
       "        <td>09</td>\n",
       "    </tr>\n",
       "    <tr>\n",
       "        <td>Entire home/apt</td>\n",
       "        <td>18500</td>\n",
       "        <td>09</td>\n",
       "    </tr>\n",
       "    <tr>\n",
       "        <td>Private room</td>\n",
       "        <td>16824</td>\n",
       "        <td>10</td>\n",
       "    </tr>\n",
       "    <tr>\n",
       "        <td>Shared room</td>\n",
       "        <td>1332</td>\n",
       "        <td>10</td>\n",
       "    </tr>\n",
       "    <tr>\n",
       "        <td>Entire home/apt</td>\n",
       "        <td>17639</td>\n",
       "        <td>10</td>\n",
       "    </tr>\n",
       "    <tr>\n",
       "        <td>Shared room</td>\n",
       "        <td>1320</td>\n",
       "        <td>11</td>\n",
       "    </tr>\n",
       "    <tr>\n",
       "        <td>Private room</td>\n",
       "        <td>17646</td>\n",
       "        <td>11</td>\n",
       "    </tr>\n",
       "    <tr>\n",
       "        <td>Entire home/apt</td>\n",
       "        <td>18473</td>\n",
       "        <td>11</td>\n",
       "    </tr>\n",
       "    <tr>\n",
       "        <td>Entire home/apt</td>\n",
       "        <td>19364</td>\n",
       "        <td>12</td>\n",
       "    </tr>\n",
       "    <tr>\n",
       "        <td>Private room</td>\n",
       "        <td>18694</td>\n",
       "        <td>12</td>\n",
       "    </tr>\n",
       "    <tr>\n",
       "        <td>Shared room</td>\n",
       "        <td>1021</td>\n",
       "        <td>12</td>\n",
       "    </tr>\n",
       "</table>"
      ],
      "text/plain": [
       "[('Private room', 15371, '01'),\n",
       " ('Shared room', 1057, '01'),\n",
       " ('Entire home/apt', 19560, '01'),\n",
       " ('Entire home/apt', 12989, '02'),\n",
       " ('Private room', 10566, '02'),\n",
       " ('Shared room', 655, '02'),\n",
       " ('Shared room', 1355, '03'),\n",
       " ('Private room', 19803, '03'),\n",
       " ('Entire home/apt', 24245, '03'),\n",
       " ('Shared room', 2139, '04'),\n",
       " ('Entire home/apt', 35545, '04'),\n",
       " ('Private room', 31357, '04'),\n",
       " ('Entire home/apt', 18170, '05'),\n",
       " ('Private room', 15853, '05'),\n",
       " ('Shared room', 1044, '05'),\n",
       " ('Private room', 15892, '06'),\n",
       " ('Entire home/apt', 17226, '06'),\n",
       " ('Shared room', 1087, '06'),\n",
       " ('Shared room', 1220, '07'),\n",
       " ('Private room', 16554, '07'),\n",
       " ('Entire home/apt', 17773, '07'),\n",
       " ('Shared room', 1276, '08'),\n",
       " ('Private room', 17530, '08'),\n",
       " ('Entire home/apt', 18963, '08'),\n",
       " ('Private room', 16497, '09'),\n",
       " ('Shared room', 623, '09'),\n",
       " ('Entire home/apt', 18500, '09'),\n",
       " ('Private room', 16824, '10'),\n",
       " ('Shared room', 1332, '10'),\n",
       " ('Entire home/apt', 17639, '10'),\n",
       " ('Shared room', 1320, '11'),\n",
       " ('Private room', 17646, '11'),\n",
       " ('Entire home/apt', 18473, '11'),\n",
       " ('Entire home/apt', 19364, '12'),\n",
       " ('Private room', 18694, '12'),\n",
       " ('Shared room', 1021, '12')]"
      ]
     },
     "execution_count": 69,
     "metadata": {},
     "output_type": "execute_result"
    }
   ],
   "source": [
    "%%sql\n",
    "select room_type, count(room.room_key),\n",
    "    to_char(last_modified, 'MM') as month\n",
    "from room\n",
    "join ny2016 on room.room_key = ny2016.room_key\n",
    "where room.room_type is not null\n",
    "group by to_char(last_modified, 'MM'), room.room_type\n",
    "order by to_char(last_modified, 'MM')"
   ]
  },
  {
   "cell_type": "code",
   "execution_count": 70,
   "metadata": {},
   "outputs": [
    {
     "data": {
      "text/html": [
       "<div>\n",
       "<style>\n",
       "    .dataframe thead tr:only-child th {\n",
       "        text-align: right;\n",
       "    }\n",
       "\n",
       "    .dataframe thead th {\n",
       "        text-align: left;\n",
       "    }\n",
       "\n",
       "    .dataframe tbody tr th {\n",
       "        vertical-align: top;\n",
       "    }\n",
       "</style>\n",
       "<table border=\"1\" class=\"dataframe\">\n",
       "  <thead>\n",
       "    <tr style=\"text-align: right;\">\n",
       "      <th></th>\n",
       "      <th>entire_home_apt</th>\n",
       "      <th>month</th>\n",
       "    </tr>\n",
       "  </thead>\n",
       "  <tbody>\n",
       "    <tr>\n",
       "      <th>0</th>\n",
       "      <td>19560</td>\n",
       "      <td>01</td>\n",
       "    </tr>\n",
       "    <tr>\n",
       "      <th>1</th>\n",
       "      <td>12989</td>\n",
       "      <td>02</td>\n",
       "    </tr>\n",
       "    <tr>\n",
       "      <th>2</th>\n",
       "      <td>24245</td>\n",
       "      <td>03</td>\n",
       "    </tr>\n",
       "    <tr>\n",
       "      <th>3</th>\n",
       "      <td>35545</td>\n",
       "      <td>04</td>\n",
       "    </tr>\n",
       "    <tr>\n",
       "      <th>4</th>\n",
       "      <td>18170</td>\n",
       "      <td>05</td>\n",
       "    </tr>\n",
       "    <tr>\n",
       "      <th>5</th>\n",
       "      <td>17226</td>\n",
       "      <td>06</td>\n",
       "    </tr>\n",
       "    <tr>\n",
       "      <th>6</th>\n",
       "      <td>17773</td>\n",
       "      <td>07</td>\n",
       "    </tr>\n",
       "    <tr>\n",
       "      <th>7</th>\n",
       "      <td>18963</td>\n",
       "      <td>08</td>\n",
       "    </tr>\n",
       "    <tr>\n",
       "      <th>8</th>\n",
       "      <td>18500</td>\n",
       "      <td>09</td>\n",
       "    </tr>\n",
       "    <tr>\n",
       "      <th>9</th>\n",
       "      <td>17639</td>\n",
       "      <td>10</td>\n",
       "    </tr>\n",
       "    <tr>\n",
       "      <th>10</th>\n",
       "      <td>18473</td>\n",
       "      <td>11</td>\n",
       "    </tr>\n",
       "    <tr>\n",
       "      <th>11</th>\n",
       "      <td>19364</td>\n",
       "      <td>12</td>\n",
       "    </tr>\n",
       "  </tbody>\n",
       "</table>\n",
       "</div>"
      ],
      "text/plain": [
       "    entire_home_apt month\n",
       "0             19560    01\n",
       "1             12989    02\n",
       "2             24245    03\n",
       "3             35545    04\n",
       "4             18170    05\n",
       "5             17226    06\n",
       "6             17773    07\n",
       "7             18963    08\n",
       "8             18500    09\n",
       "9             17639    10\n",
       "10            18473    11\n",
       "11            19364    12"
      ]
     },
     "execution_count": 70,
     "metadata": {},
     "output_type": "execute_result"
    }
   ],
   "source": [
    "Entire_home_apt = pd.read_sql('''select count(room.room_key) as entire_home_apt,\n",
    "    to_char(last_modified, 'MM') as month\n",
    "from room\n",
    "join ny2016 on room.room_key = ny2016.room_key\n",
    "where room.room_type = 'Entire home/apt'\n",
    "group by to_char(last_modified, 'MM'), room.room_type\n",
    "order by to_char(last_modified, 'MM')''',conn)\n",
    "Entire_home_apt"
   ]
  },
  {
   "cell_type": "code",
   "execution_count": 71,
   "metadata": {},
   "outputs": [
    {
     "data": {
      "text/html": [
       "<div>\n",
       "<style>\n",
       "    .dataframe thead tr:only-child th {\n",
       "        text-align: right;\n",
       "    }\n",
       "\n",
       "    .dataframe thead th {\n",
       "        text-align: left;\n",
       "    }\n",
       "\n",
       "    .dataframe tbody tr th {\n",
       "        vertical-align: top;\n",
       "    }\n",
       "</style>\n",
       "<table border=\"1\" class=\"dataframe\">\n",
       "  <thead>\n",
       "    <tr style=\"text-align: right;\">\n",
       "      <th></th>\n",
       "      <th>private_room</th>\n",
       "      <th>month</th>\n",
       "    </tr>\n",
       "  </thead>\n",
       "  <tbody>\n",
       "    <tr>\n",
       "      <th>0</th>\n",
       "      <td>15371</td>\n",
       "      <td>01</td>\n",
       "    </tr>\n",
       "    <tr>\n",
       "      <th>1</th>\n",
       "      <td>10566</td>\n",
       "      <td>02</td>\n",
       "    </tr>\n",
       "    <tr>\n",
       "      <th>2</th>\n",
       "      <td>19803</td>\n",
       "      <td>03</td>\n",
       "    </tr>\n",
       "    <tr>\n",
       "      <th>3</th>\n",
       "      <td>31357</td>\n",
       "      <td>04</td>\n",
       "    </tr>\n",
       "    <tr>\n",
       "      <th>4</th>\n",
       "      <td>15853</td>\n",
       "      <td>05</td>\n",
       "    </tr>\n",
       "    <tr>\n",
       "      <th>5</th>\n",
       "      <td>15892</td>\n",
       "      <td>06</td>\n",
       "    </tr>\n",
       "    <tr>\n",
       "      <th>6</th>\n",
       "      <td>16554</td>\n",
       "      <td>07</td>\n",
       "    </tr>\n",
       "    <tr>\n",
       "      <th>7</th>\n",
       "      <td>17530</td>\n",
       "      <td>08</td>\n",
       "    </tr>\n",
       "    <tr>\n",
       "      <th>8</th>\n",
       "      <td>16497</td>\n",
       "      <td>09</td>\n",
       "    </tr>\n",
       "    <tr>\n",
       "      <th>9</th>\n",
       "      <td>16824</td>\n",
       "      <td>10</td>\n",
       "    </tr>\n",
       "    <tr>\n",
       "      <th>10</th>\n",
       "      <td>17646</td>\n",
       "      <td>11</td>\n",
       "    </tr>\n",
       "    <tr>\n",
       "      <th>11</th>\n",
       "      <td>18694</td>\n",
       "      <td>12</td>\n",
       "    </tr>\n",
       "  </tbody>\n",
       "</table>\n",
       "</div>"
      ],
      "text/plain": [
       "    private_room month\n",
       "0          15371    01\n",
       "1          10566    02\n",
       "2          19803    03\n",
       "3          31357    04\n",
       "4          15853    05\n",
       "5          15892    06\n",
       "6          16554    07\n",
       "7          17530    08\n",
       "8          16497    09\n",
       "9          16824    10\n",
       "10         17646    11\n",
       "11         18694    12"
      ]
     },
     "execution_count": 71,
     "metadata": {},
     "output_type": "execute_result"
    }
   ],
   "source": [
    "Private_room = pd.read_sql('''select  count(room.room_key) as private_room,\n",
    "    to_char(last_modified, 'MM') as month\n",
    "from room\n",
    "join ny2016 on room.room_key = ny2016.room_key\n",
    "where room.room_type = 'Private room'\n",
    "group by to_char(last_modified, 'MM'), room.room_type\n",
    "order by to_char(last_modified, 'MM')''',conn)\n",
    "Private_room"
   ]
  },
  {
   "cell_type": "code",
   "execution_count": 72,
   "metadata": {},
   "outputs": [
    {
     "data": {
      "text/html": [
       "<div>\n",
       "<style>\n",
       "    .dataframe thead tr:only-child th {\n",
       "        text-align: right;\n",
       "    }\n",
       "\n",
       "    .dataframe thead th {\n",
       "        text-align: left;\n",
       "    }\n",
       "\n",
       "    .dataframe tbody tr th {\n",
       "        vertical-align: top;\n",
       "    }\n",
       "</style>\n",
       "<table border=\"1\" class=\"dataframe\">\n",
       "  <thead>\n",
       "    <tr style=\"text-align: right;\">\n",
       "      <th></th>\n",
       "      <th>shared_room</th>\n",
       "      <th>month</th>\n",
       "    </tr>\n",
       "  </thead>\n",
       "  <tbody>\n",
       "    <tr>\n",
       "      <th>0</th>\n",
       "      <td>1057</td>\n",
       "      <td>01</td>\n",
       "    </tr>\n",
       "    <tr>\n",
       "      <th>1</th>\n",
       "      <td>655</td>\n",
       "      <td>02</td>\n",
       "    </tr>\n",
       "    <tr>\n",
       "      <th>2</th>\n",
       "      <td>1355</td>\n",
       "      <td>03</td>\n",
       "    </tr>\n",
       "    <tr>\n",
       "      <th>3</th>\n",
       "      <td>2139</td>\n",
       "      <td>04</td>\n",
       "    </tr>\n",
       "    <tr>\n",
       "      <th>4</th>\n",
       "      <td>1044</td>\n",
       "      <td>05</td>\n",
       "    </tr>\n",
       "    <tr>\n",
       "      <th>5</th>\n",
       "      <td>1087</td>\n",
       "      <td>06</td>\n",
       "    </tr>\n",
       "    <tr>\n",
       "      <th>6</th>\n",
       "      <td>1220</td>\n",
       "      <td>07</td>\n",
       "    </tr>\n",
       "    <tr>\n",
       "      <th>7</th>\n",
       "      <td>1276</td>\n",
       "      <td>08</td>\n",
       "    </tr>\n",
       "    <tr>\n",
       "      <th>8</th>\n",
       "      <td>623</td>\n",
       "      <td>09</td>\n",
       "    </tr>\n",
       "    <tr>\n",
       "      <th>9</th>\n",
       "      <td>1332</td>\n",
       "      <td>10</td>\n",
       "    </tr>\n",
       "    <tr>\n",
       "      <th>10</th>\n",
       "      <td>1320</td>\n",
       "      <td>11</td>\n",
       "    </tr>\n",
       "    <tr>\n",
       "      <th>11</th>\n",
       "      <td>1021</td>\n",
       "      <td>12</td>\n",
       "    </tr>\n",
       "  </tbody>\n",
       "</table>\n",
       "</div>"
      ],
      "text/plain": [
       "    shared_room month\n",
       "0          1057    01\n",
       "1           655    02\n",
       "2          1355    03\n",
       "3          2139    04\n",
       "4          1044    05\n",
       "5          1087    06\n",
       "6          1220    07\n",
       "7          1276    08\n",
       "8           623    09\n",
       "9          1332    10\n",
       "10         1320    11\n",
       "11         1021    12"
      ]
     },
     "execution_count": 72,
     "metadata": {},
     "output_type": "execute_result"
    }
   ],
   "source": [
    "Shared_room = pd.read_sql('''select  count(room.room_key) as shared_room,\n",
    "    to_char(last_modified, 'MM') as month\n",
    "from room\n",
    "join ny2016 on room.room_key = ny2016.room_key\n",
    "where room.room_type = 'Shared room'\n",
    "group by to_char(last_modified, 'MM'), room.room_type\n",
    "order by to_char(last_modified, 'MM')''',conn)\n",
    "Shared_room"
   ]
  },
  {
   "cell_type": "code",
   "execution_count": 73,
   "metadata": {
    "collapsed": true
   },
   "outputs": [],
   "source": [
    "Entire_home_apt =Entire_home_apt['entire_home_apt'].values"
   ]
  },
  {
   "cell_type": "code",
   "execution_count": 74,
   "metadata": {
    "collapsed": true
   },
   "outputs": [],
   "source": [
    "Private_room =Private_room['private_room'].values"
   ]
  },
  {
   "cell_type": "code",
   "execution_count": 75,
   "metadata": {
    "collapsed": true
   },
   "outputs": [],
   "source": [
    "Shared_room =Shared_room['shared_room'].values"
   ]
  },
  {
   "cell_type": "code",
   "execution_count": 76,
   "metadata": {},
   "outputs": [
    {
     "data": {
      "image/png": "[encoded data removed]",
      "text/plain": [
       "<matplotlib.figure.Figure at 0x7fced9c01940>"
      ]
     },
     "metadata": {},
     "output_type": "display_data"
    },
    {
     "data": {
      "image/png": "[encoded data removed]",
      "text/plain": [
       "<matplotlib.figure.Figure at 0x7fced9c09550>"
      ]
     },
     "metadata": {},
     "output_type": "display_data"
    },
    {
     "data": {
      "image/png": "[encoded data removed]",
      "text/plain": [
       "<matplotlib.figure.Figure at 0x7fced9ae6c50>"
      ]
     },
     "metadata": {},
     "output_type": "display_data"
    }
   ],
   "source": [
    "plt.plot(month,Entire_home_apt)\n",
    "plt.xticks(np.arange(1, 13, 1.0))\n",
    "plt.xlabel('month')\n",
    "plt.ylabel('Entire_home_apt')\n",
    "plt.show()  \n",
    "\n",
    "plt.plot(month,Private_room)\n",
    "plt.xticks(np.arange(1, 13, 1.0))\n",
    "plt.xlabel('month')\n",
    "plt.ylabel('Private_room')\n",
    "plt.show()  \n",
    "\n",
    "plt.plot(month,Shared_room)\n",
    "plt.xticks(np.arange(1, 13, 1.0))\n",
    "plt.xlabel('month')\n",
    "plt.ylabel('Shared_room')\n",
    "plt.show()  \n"
   ]
  },
  {
   "cell_type": "code",
   "execution_count": 77,
   "metadata": {
    "collapsed": true
   },
   "outputs": [],
   "source": [
    "del Entire_home_apt, Private_room,Shared_room"
   ]
  },
  {
   "cell_type": "markdown",
   "metadata": {},
   "source": [
    "### Answer and Discussion\n",
    "We can see similar trends from all three types of rooms in the first two quarters. However, in the third and four quarter, shared room is much different from the rest.\n",
    "Specifically, there is a sharp decline in share room listings in September.  Perhaps college students are renting a vast majority of the rooms listed in August causing low supply in September prior to the start of the college semester.  Room shares are popular among the young students or young professionals."
   ]
  },
  {
   "cell_type": "markdown",
   "metadata": {},
   "source": [
    "###  Change in average price over time in manhattan:"
   ]
  },
  {
   "cell_type": "code",
   "execution_count": 78,
   "metadata": {},
   "outputs": [
    {
     "name": "stdout",
     "output_type": "stream",
     "text": [
      "12 rows affected.\n"
     ]
    },
    {
     "data": {
      "text/html": [
       "<table>\n",
       "    <tr>\n",
       "        <th>avg</th>\n",
       "        <th>month</th>\n",
       "    </tr>\n",
       "    <tr>\n",
       "        <td>182.0146008739209208</td>\n",
       "        <td>01</td>\n",
       "    </tr>\n",
       "    <tr>\n",
       "        <td>179.0566309390497520</td>\n",
       "        <td>02</td>\n",
       "    </tr>\n",
       "    <tr>\n",
       "        <td>181.5902726920260199</td>\n",
       "        <td>03</td>\n",
       "    </tr>\n",
       "    <tr>\n",
       "        <td>181.4297644602581821</td>\n",
       "        <td>04</td>\n",
       "    </tr>\n",
       "    <tr>\n",
       "        <td>181.6826187717265353</td>\n",
       "        <td>05</td>\n",
       "    </tr>\n",
       "    <tr>\n",
       "        <td>178.8792870313460356</td>\n",
       "        <td>06</td>\n",
       "    </tr>\n",
       "    <tr>\n",
       "        <td>176.7736073167834660</td>\n",
       "        <td>07</td>\n",
       "    </tr>\n",
       "    <tr>\n",
       "        <td>180.7274648278930101</td>\n",
       "        <td>08</td>\n",
       "    </tr>\n",
       "    <tr>\n",
       "        <td>186.2068697265274370</td>\n",
       "        <td>09</td>\n",
       "    </tr>\n",
       "    <tr>\n",
       "        <td>184.7431253785584494</td>\n",
       "        <td>10</td>\n",
       "    </tr>\n",
       "    <tr>\n",
       "        <td>182.8597623671883926</td>\n",
       "        <td>11</td>\n",
       "    </tr>\n",
       "    <tr>\n",
       "        <td>172.7909704370179949</td>\n",
       "        <td>12</td>\n",
       "    </tr>\n",
       "</table>"
      ],
      "text/plain": [
       "[(Decimal('182.0146008739209208'), '01'),\n",
       " (Decimal('179.0566309390497520'), '02'),\n",
       " (Decimal('181.5902726920260199'), '03'),\n",
       " (Decimal('181.4297644602581821'), '04'),\n",
       " (Decimal('181.6826187717265353'), '05'),\n",
       " (Decimal('178.8792870313460356'), '06'),\n",
       " (Decimal('176.7736073167834660'), '07'),\n",
       " (Decimal('180.7274648278930101'), '08'),\n",
       " (Decimal('186.2068697265274370'), '09'),\n",
       " (Decimal('184.7431253785584494'), '10'),\n",
       " (Decimal('182.8597623671883926'), '11'),\n",
       " (Decimal('172.7909704370179949'), '12')]"
      ]
     },
     "execution_count": 78,
     "metadata": {},
     "output_type": "execute_result"
    }
   ],
   "source": [
    "%%sql\n",
    "select avg(price), \n",
    "    to_char(last_modified, 'MM') as month\n",
    "from ny2016\n",
    "join locations on ny2016.locations_key = locations.locations_key\n",
    "where locations.borough = 'Manhattan'\n",
    "and ny2016.price is not null \n",
    "group by to_char(last_modified, 'MM')\n",
    "order by to_char(last_modified, 'MM')"
   ]
  },
  {
   "cell_type": "code",
   "execution_count": 80,
   "metadata": {},
   "outputs": [
    {
     "data": {
      "text/html": [
       "<div>\n",
       "<style>\n",
       "    .dataframe thead tr:only-child th {\n",
       "        text-align: right;\n",
       "    }\n",
       "\n",
       "    .dataframe thead th {\n",
       "        text-align: left;\n",
       "    }\n",
       "\n",
       "    .dataframe tbody tr th {\n",
       "        vertical-align: top;\n",
       "    }\n",
       "</style>\n",
       "<table border=\"1\" class=\"dataframe\">\n",
       "  <thead>\n",
       "    <tr style=\"text-align: right;\">\n",
       "      <th></th>\n",
       "      <th>avg_price</th>\n",
       "      <th>month</th>\n",
       "    </tr>\n",
       "  </thead>\n",
       "  <tbody>\n",
       "    <tr>\n",
       "      <th>0</th>\n",
       "      <td>182.014601</td>\n",
       "      <td>01</td>\n",
       "    </tr>\n",
       "    <tr>\n",
       "      <th>1</th>\n",
       "      <td>179.056631</td>\n",
       "      <td>02</td>\n",
       "    </tr>\n",
       "    <tr>\n",
       "      <th>2</th>\n",
       "      <td>181.590273</td>\n",
       "      <td>03</td>\n",
       "    </tr>\n",
       "    <tr>\n",
       "      <th>3</th>\n",
       "      <td>181.429764</td>\n",
       "      <td>04</td>\n",
       "    </tr>\n",
       "    <tr>\n",
       "      <th>4</th>\n",
       "      <td>181.682619</td>\n",
       "      <td>05</td>\n",
       "    </tr>\n",
       "    <tr>\n",
       "      <th>5</th>\n",
       "      <td>178.879287</td>\n",
       "      <td>06</td>\n",
       "    </tr>\n",
       "    <tr>\n",
       "      <th>6</th>\n",
       "      <td>176.773607</td>\n",
       "      <td>07</td>\n",
       "    </tr>\n",
       "    <tr>\n",
       "      <th>7</th>\n",
       "      <td>180.727465</td>\n",
       "      <td>08</td>\n",
       "    </tr>\n",
       "    <tr>\n",
       "      <th>8</th>\n",
       "      <td>186.206870</td>\n",
       "      <td>09</td>\n",
       "    </tr>\n",
       "    <tr>\n",
       "      <th>9</th>\n",
       "      <td>184.743125</td>\n",
       "      <td>10</td>\n",
       "    </tr>\n",
       "    <tr>\n",
       "      <th>10</th>\n",
       "      <td>182.859762</td>\n",
       "      <td>11</td>\n",
       "    </tr>\n",
       "    <tr>\n",
       "      <th>11</th>\n",
       "      <td>172.790970</td>\n",
       "      <td>12</td>\n",
       "    </tr>\n",
       "  </tbody>\n",
       "</table>\n",
       "</div>"
      ],
      "text/plain": [
       "     avg_price month\n",
       "0   182.014601    01\n",
       "1   179.056631    02\n",
       "2   181.590273    03\n",
       "3   181.429764    04\n",
       "4   181.682619    05\n",
       "5   178.879287    06\n",
       "6   176.773607    07\n",
       "7   180.727465    08\n",
       "8   186.206870    09\n",
       "9   184.743125    10\n",
       "10  182.859762    11\n",
       "11  172.790970    12"
      ]
     },
     "execution_count": 80,
     "metadata": {},
     "output_type": "execute_result"
    }
   ],
   "source": [
    "Avg_price = pd.read_sql('''select avg(price) as avg_price, \n",
    "    to_char(last_modified, 'MM') as month\n",
    "from ny2016\n",
    "join locations on ny2016.locations_key = locations.locations_key\n",
    "where locations.borough = 'Manhattan'\n",
    "and ny2016.price is not null \n",
    "group by to_char(last_modified, 'MM')\n",
    "order by to_char(last_modified, 'MM');''',conn)\n",
    "Avg_price"
   ]
  },
  {
   "cell_type": "code",
   "execution_count": 81,
   "metadata": {
    "collapsed": true
   },
   "outputs": [],
   "source": [
    "Avg_price =Avg_price['avg_price'].values"
   ]
  },
  {
   "cell_type": "code",
   "execution_count": 82,
   "metadata": {},
   "outputs": [
    {
     "data": {
      "image/png": "[encoded data removed]",
      "text/plain": [
       "<matplotlib.figure.Figure at 0x7fced9a57ac8>"
      ]
     },
     "metadata": {},
     "output_type": "display_data"
    }
   ],
   "source": [
    "plt.plot(month,Avg_price)\n",
    "plt.xticks(np.arange(1, 13, 1.0))\n",
    "plt.xlabel('month')\n",
    "plt.ylabel('Avg_price')\n",
    "plt.show()  "
   ]
  },
  {
   "cell_type": "code",
   "execution_count": 83,
   "metadata": {
    "collapsed": true
   },
   "outputs": [],
   "source": [
    "del Avg_price"
   ]
  },
  {
   "cell_type": "markdown",
   "metadata": {},
   "source": [
    "### Answer and Discussion\n",
    "We can see sharp decrease in average listing price in December.  This is not what we expected.  This may be related to the holiday season.  Prices drop to maintain competitive pricing among the high demand during the holiday season to travel to New York."
   ]
  },
  {
   "cell_type": "markdown",
   "metadata": {},
   "source": [
    "### Change in overall satisfaction of different room type over time:"
   ]
  },
  {
   "cell_type": "code",
   "execution_count": 84,
   "metadata": {},
   "outputs": [
    {
     "name": "stdout",
     "output_type": "stream",
     "text": [
      "12 rows affected.\n"
     ]
    },
    {
     "data": {
      "text/html": [
       "<table>\n",
       "    <tr>\n",
       "        <th>avg</th>\n",
       "        <th>month</th>\n",
       "    </tr>\n",
       "    <tr>\n",
       "        <td>4.63785020649626</td>\n",
       "        <td>01</td>\n",
       "    </tr>\n",
       "    <tr>\n",
       "        <td>4.64471707561342</td>\n",
       "        <td>02</td>\n",
       "    </tr>\n",
       "    <tr>\n",
       "        <td>4.64875872188782</td>\n",
       "        <td>03</td>\n",
       "    </tr>\n",
       "    <tr>\n",
       "        <td>4.6548205080574</td>\n",
       "        <td>04</td>\n",
       "    </tr>\n",
       "    <tr>\n",
       "        <td>4.65492402334508</td>\n",
       "        <td>05</td>\n",
       "    </tr>\n",
       "    <tr>\n",
       "        <td>4.64923830250272</td>\n",
       "        <td>06</td>\n",
       "    </tr>\n",
       "    <tr>\n",
       "        <td>4.64792169623176</td>\n",
       "        <td>07</td>\n",
       "    </tr>\n",
       "    <tr>\n",
       "        <td>4.64703718238006</td>\n",
       "        <td>08</td>\n",
       "    </tr>\n",
       "    <tr>\n",
       "        <td>4.65676274944568</td>\n",
       "        <td>09</td>\n",
       "    </tr>\n",
       "    <tr>\n",
       "        <td>4.6533834228922</td>\n",
       "        <td>10</td>\n",
       "    </tr>\n",
       "    <tr>\n",
       "        <td>4.66002192081107</td>\n",
       "        <td>11</td>\n",
       "    </tr>\n",
       "    <tr>\n",
       "        <td>2.65513447119937</td>\n",
       "        <td>12</td>\n",
       "    </tr>\n",
       "</table>"
      ],
      "text/plain": [
       "[(4.63785020649626, '01'),\n",
       " (4.64471707561342, '02'),\n",
       " (4.64875872188782, '03'),\n",
       " (4.6548205080574, '04'),\n",
       " (4.65492402334508, '05'),\n",
       " (4.64923830250272, '06'),\n",
       " (4.64792169623176, '07'),\n",
       " (4.64703718238006, '08'),\n",
       " (4.65676274944568, '09'),\n",
       " (4.6533834228922, '10'),\n",
       " (4.66002192081107, '11'),\n",
       " (2.65513447119937, '12')]"
      ]
     },
     "execution_count": 84,
     "metadata": {},
     "output_type": "execute_result"
    }
   ],
   "source": [
    "%%sql\n",
    "select avg(overall_satisfaction),\n",
    "    to_char(last_modified, 'MM') as month\n",
    "from ny2016\n",
    "join room on ny2016.room_key = room.room_key\n",
    "where ny2016.overall_satisfaction is not null\n",
    "group by to_char(last_modified, 'MM')\n",
    "order by to_char(last_modified, 'MM')"
   ]
  },
  {
   "cell_type": "markdown",
   "metadata": {},
   "source": [
    "### Answer\n",
    "We found sharp decrease in average satisfaction in December, we tried to see if the trend is the same in reviews for different type of rooms."
   ]
  },
  {
   "cell_type": "code",
   "execution_count": 85,
   "metadata": {},
   "outputs": [
    {
     "name": "stdout",
     "output_type": "stream",
     "text": [
      "12 rows affected.\n"
     ]
    },
    {
     "data": {
      "text/html": [
       "<table>\n",
       "    <tr>\n",
       "        <th>avg</th>\n",
       "        <th>room_type</th>\n",
       "        <th>month</th>\n",
       "    </tr>\n",
       "    <tr>\n",
       "        <td>4.66721909181306</td>\n",
       "        <td>Entire home/apt</td>\n",
       "        <td>01</td>\n",
       "    </tr>\n",
       "    <tr>\n",
       "        <td>4.67482028753994</td>\n",
       "        <td>Entire home/apt</td>\n",
       "        <td>02</td>\n",
       "    </tr>\n",
       "    <tr>\n",
       "        <td>4.67884532296392</td>\n",
       "        <td>Entire home/apt</td>\n",
       "        <td>03</td>\n",
       "    </tr>\n",
       "    <tr>\n",
       "        <td>4.68411330049261</td>\n",
       "        <td>Entire home/apt</td>\n",
       "        <td>04</td>\n",
       "    </tr>\n",
       "    <tr>\n",
       "        <td>4.68144018144018</td>\n",
       "        <td>Entire home/apt</td>\n",
       "        <td>05</td>\n",
       "    </tr>\n",
       "    <tr>\n",
       "        <td>4.67457507082153</td>\n",
       "        <td>Entire home/apt</td>\n",
       "        <td>06</td>\n",
       "    </tr>\n",
       "    <tr>\n",
       "        <td>4.6714799688837</td>\n",
       "        <td>Entire home/apt</td>\n",
       "        <td>07</td>\n",
       "    </tr>\n",
       "    <tr>\n",
       "        <td>4.67347582972583</td>\n",
       "        <td>Entire home/apt</td>\n",
       "        <td>08</td>\n",
       "    </tr>\n",
       "    <tr>\n",
       "        <td>4.67819220130276</td>\n",
       "        <td>Entire home/apt</td>\n",
       "        <td>09</td>\n",
       "    </tr>\n",
       "    <tr>\n",
       "        <td>4.67549759156594</td>\n",
       "        <td>Entire home/apt</td>\n",
       "        <td>10</td>\n",
       "    </tr>\n",
       "    <tr>\n",
       "        <td>4.67882445552348</td>\n",
       "        <td>Entire home/apt</td>\n",
       "        <td>11</td>\n",
       "    </tr>\n",
       "    <tr>\n",
       "        <td>2.84094195414171</td>\n",
       "        <td>Entire home/apt</td>\n",
       "        <td>12</td>\n",
       "    </tr>\n",
       "</table>"
      ],
      "text/plain": [
       "[(4.66721909181306, 'Entire home/apt', '01'),\n",
       " (4.67482028753994, 'Entire home/apt', '02'),\n",
       " (4.67884532296392, 'Entire home/apt', '03'),\n",
       " (4.68411330049261, 'Entire home/apt', '04'),\n",
       " (4.68144018144018, 'Entire home/apt', '05'),\n",
       " (4.67457507082153, 'Entire home/apt', '06'),\n",
       " (4.6714799688837, 'Entire home/apt', '07'),\n",
       " (4.67347582972583, 'Entire home/apt', '08'),\n",
       " (4.67819220130276, 'Entire home/apt', '09'),\n",
       " (4.67549759156594, 'Entire home/apt', '10'),\n",
       " (4.67882445552348, 'Entire home/apt', '11'),\n",
       " (2.84094195414171, 'Entire home/apt', '12')]"
      ]
     },
     "execution_count": 85,
     "metadata": {},
     "output_type": "execute_result"
    }
   ],
   "source": [
    "%%sql\n",
    "select avg(overall_satisfaction), room.room_type,\n",
    "    to_char(last_modified, 'MM') as month\n",
    "from ny2016\n",
    "join room on ny2016.room_key = room.room_key\n",
    "where room.room_type = 'Entire home/apt'\n",
    "and ny2016.overall_satisfaction is not null\n",
    "group by room.room_type, to_char(last_modified, 'MM')\n",
    "order by to_char(last_modified, 'MM')"
   ]
  },
  {
   "cell_type": "code",
   "execution_count": 86,
   "metadata": {},
   "outputs": [
    {
     "name": "stdout",
     "output_type": "stream",
     "text": [
      "12 rows affected.\n"
     ]
    },
    {
     "data": {
      "text/html": [
       "<table>\n",
       "    <tr>\n",
       "        <th>avg</th>\n",
       "        <th>room_type</th>\n",
       "        <th>month</th>\n",
       "    </tr>\n",
       "    <tr>\n",
       "        <td>4.5998728890503</td>\n",
       "        <td>Private room</td>\n",
       "        <td>01</td>\n",
       "    </tr>\n",
       "    <tr>\n",
       "        <td>4.60546038543897</td>\n",
       "        <td>Private room</td>\n",
       "        <td>02</td>\n",
       "    </tr>\n",
       "    <tr>\n",
       "        <td>4.6113383566559</td>\n",
       "        <td>Private room</td>\n",
       "        <td>03</td>\n",
       "    </tr>\n",
       "    <tr>\n",
       "        <td>4.62063291833489</td>\n",
       "        <td>Private room</td>\n",
       "        <td>04</td>\n",
       "    </tr>\n",
       "    <tr>\n",
       "        <td>4.62412742733849</td>\n",
       "        <td>Private room</td>\n",
       "        <td>05</td>\n",
       "    </tr>\n",
       "    <tr>\n",
       "        <td>4.6212389380531</td>\n",
       "        <td>Private room</td>\n",
       "        <td>06</td>\n",
       "    </tr>\n",
       "    <tr>\n",
       "        <td>4.62314120683298</td>\n",
       "        <td>Private room</td>\n",
       "        <td>07</td>\n",
       "    </tr>\n",
       "    <tr>\n",
       "        <td>4.62035112035112</td>\n",
       "        <td>Private room</td>\n",
       "        <td>08</td>\n",
       "    </tr>\n",
       "    <tr>\n",
       "        <td>4.6338876146789</td>\n",
       "        <td>Private room</td>\n",
       "        <td>09</td>\n",
       "    </tr>\n",
       "    <tr>\n",
       "        <td>4.63583846236907</td>\n",
       "        <td>Private room</td>\n",
       "        <td>10</td>\n",
       "    </tr>\n",
       "    <tr>\n",
       "        <td>4.64282035434693</td>\n",
       "        <td>Private room</td>\n",
       "        <td>11</td>\n",
       "    </tr>\n",
       "    <tr>\n",
       "        <td>2.47218358831711</td>\n",
       "        <td>Private room</td>\n",
       "        <td>12</td>\n",
       "    </tr>\n",
       "</table>"
      ],
      "text/plain": [
       "[(4.5998728890503, 'Private room', '01'),\n",
       " (4.60546038543897, 'Private room', '02'),\n",
       " (4.6113383566559, 'Private room', '03'),\n",
       " (4.62063291833489, 'Private room', '04'),\n",
       " (4.62412742733849, 'Private room', '05'),\n",
       " (4.6212389380531, 'Private room', '06'),\n",
       " (4.62314120683298, 'Private room', '07'),\n",
       " (4.62035112035112, 'Private room', '08'),\n",
       " (4.6338876146789, 'Private room', '09'),\n",
       " (4.63583846236907, 'Private room', '10'),\n",
       " (4.64282035434693, 'Private room', '11'),\n",
       " (2.47218358831711, 'Private room', '12')]"
      ]
     },
     "execution_count": 86,
     "metadata": {},
     "output_type": "execute_result"
    }
   ],
   "source": [
    "%%sql\n",
    "select avg(overall_satisfaction), room.room_type,\n",
    "    to_char(last_modified, 'MM') as month\n",
    "from ny2016\n",
    "join room on ny2016.room_key = room.room_key\n",
    "where room.room_type = 'Private room'\n",
    "and ny2016.overall_satisfaction is not null\n",
    "group by room.room_type, to_char(last_modified, 'MM')\n",
    "order by to_char(last_modified, 'MM')"
   ]
  },
  {
   "cell_type": "code",
   "execution_count": 87,
   "metadata": {},
   "outputs": [
    {
     "name": "stdout",
     "output_type": "stream",
     "text": [
      "12 rows affected.\n"
     ]
    },
    {
     "data": {
      "text/html": [
       "<table>\n",
       "    <tr>\n",
       "        <th>avg</th>\n",
       "        <th>room_type</th>\n",
       "        <th>month</th>\n",
       "    </tr>\n",
       "    <tr>\n",
       "        <td>4.60419397116645</td>\n",
       "        <td>Shared room</td>\n",
       "        <td>01</td>\n",
       "    </tr>\n",
       "    <tr>\n",
       "        <td>4.62783505154639</td>\n",
       "        <td>Shared room</td>\n",
       "        <td>02</td>\n",
       "    </tr>\n",
       "    <tr>\n",
       "        <td>4.61093418259023</td>\n",
       "        <td>Shared room</td>\n",
       "        <td>03</td>\n",
       "    </tr>\n",
       "    <tr>\n",
       "        <td>4.60311284046693</td>\n",
       "        <td>Shared room</td>\n",
       "        <td>04</td>\n",
       "    </tr>\n",
       "    <tr>\n",
       "        <td>4.58691756272401</td>\n",
       "        <td>Shared room</td>\n",
       "        <td>05</td>\n",
       "    </tr>\n",
       "    <tr>\n",
       "        <td>4.59982935153584</td>\n",
       "        <td>Shared room</td>\n",
       "        <td>06</td>\n",
       "    </tr>\n",
       "    <tr>\n",
       "        <td>4.58372827804107</td>\n",
       "        <td>Shared room</td>\n",
       "        <td>07</td>\n",
       "    </tr>\n",
       "    <tr>\n",
       "        <td>4.55</td>\n",
       "        <td>Shared room</td>\n",
       "        <td>08</td>\n",
       "    </tr>\n",
       "    <tr>\n",
       "        <td>4.54619565217391</td>\n",
       "        <td>Shared room</td>\n",
       "        <td>09</td>\n",
       "    </tr>\n",
       "    <tr>\n",
       "        <td>4.54771241830065</td>\n",
       "        <td>Shared room</td>\n",
       "        <td>10</td>\n",
       "    </tr>\n",
       "    <tr>\n",
       "        <td>4.59656084656085</td>\n",
       "        <td>Shared room</td>\n",
       "        <td>11</td>\n",
       "    </tr>\n",
       "    <tr>\n",
       "        <td>2.48090107737512</td>\n",
       "        <td>Shared room</td>\n",
       "        <td>12</td>\n",
       "    </tr>\n",
       "</table>"
      ],
      "text/plain": [
       "[(4.60419397116645, 'Shared room', '01'),\n",
       " (4.62783505154639, 'Shared room', '02'),\n",
       " (4.61093418259023, 'Shared room', '03'),\n",
       " (4.60311284046693, 'Shared room', '04'),\n",
       " (4.58691756272401, 'Shared room', '05'),\n",
       " (4.59982935153584, 'Shared room', '06'),\n",
       " (4.58372827804107, 'Shared room', '07'),\n",
       " (4.55, 'Shared room', '08'),\n",
       " (4.54619565217391, 'Shared room', '09'),\n",
       " (4.54771241830065, 'Shared room', '10'),\n",
       " (4.59656084656085, 'Shared room', '11'),\n",
       " (2.48090107737512, 'Shared room', '12')]"
      ]
     },
     "execution_count": 87,
     "metadata": {},
     "output_type": "execute_result"
    }
   ],
   "source": [
    "%%sql\n",
    "select avg(overall_satisfaction),room.room_type,\n",
    "    to_char(last_modified, 'MM') as month\n",
    "from ny2016\n",
    "join room on ny2016.room_key = room.room_key\n",
    "where room.room_type = 'Shared room'\n",
    "and ny2016.overall_satisfaction is not null\n",
    "group by room.room_type,to_char(last_modified, 'MM')\n",
    "order by to_char(last_modified, 'MM')"
   ]
  },
  {
   "cell_type": "markdown",
   "metadata": {},
   "source": [
    "### Answer and Discussion\n",
    "All different room types shared the same trend with the average customer satisfaction rating about 2.5 where the rating is around 4.5 for the rest of the year.  Again, this was not expected and more shocking than the pricing trend.  We want to find out the reason behind such finding. Since we know that there are nulls in satisfaction ratings, we don't know are there any nulls in rating for December. Let's test it."
   ]
  },
  {
   "cell_type": "code",
   "execution_count": 88,
   "metadata": {},
   "outputs": [
    {
     "name": "stdout",
     "output_type": "stream",
     "text": [
      "0 rows affected.\n"
     ]
    },
    {
     "data": {
      "text/html": [
       "<table>\n",
       "    <tr>\n",
       "        <th>overall_satisfaction</th>\n",
       "    </tr>\n",
       "</table>"
      ],
      "text/plain": [
       "[]"
      ]
     },
     "execution_count": 88,
     "metadata": {},
     "output_type": "execute_result"
    }
   ],
   "source": [
    "%%sql\n",
    "select overall_satisfaction\n",
    "from ny2016\n",
    "join room on ny2016.room_key = room.room_key\n",
    "where ny2016.overall_satisfaction is null\n",
    "and to_char(last_modified, 'MM') = '12'\n",
    "limit 10\n"
   ]
  },
  {
   "cell_type": "markdown",
   "metadata": {},
   "source": [
    "Seem like there is no null value in December's ratings."
   ]
  },
  {
   "cell_type": "code",
   "execution_count": 89,
   "metadata": {},
   "outputs": [
    {
     "name": "stdout",
     "output_type": "stream",
     "text": [
      "1 rows affected.\n"
     ]
    },
    {
     "data": {
      "text/html": [
       "<table>\n",
       "    <tr>\n",
       "        <th>avg</th>\n",
       "        <th>month</th>\n",
       "    </tr>\n",
       "    <tr>\n",
       "        <td>2.48090107737512</td>\n",
       "        <td>12</td>\n",
       "    </tr>\n",
       "</table>"
      ],
      "text/plain": [
       "[(2.48090107737512, '12')]"
      ]
     },
     "execution_count": 89,
     "metadata": {},
     "output_type": "execute_result"
    }
   ],
   "source": [
    "%%sql\n",
    "select avg(overall_satisfaction),\n",
    "    to_char(last_modified, 'MM') as month\n",
    "from ny2016\n",
    "join room on ny2016.room_key = room.room_key\n",
    "where room.room_type = 'Shared room'\n",
    "and ny2016.overall_satisfaction is not null\n",
    "and to_char(last_modified, 'MM') = '12'\n",
    "group by to_char(last_modified, 'MM')\n",
    "order by to_char(last_modified, 'MM')"
   ]
  },
  {
   "cell_type": "markdown",
   "metadata": {},
   "source": [
    "We take into account the nulls in the query and it doesn't affect the result. The result is the same as we saw before. Although there is no null value in overall_satisfaction, it is possible that the nulls were replace by \"0\". Let's test that assumption. "
   ]
  },
  {
   "cell_type": "code",
   "execution_count": 90,
   "metadata": {},
   "outputs": [
    {
     "name": "stdout",
     "output_type": "stream",
     "text": [
      "1 rows affected.\n"
     ]
    },
    {
     "data": {
      "text/html": [
       "<table>\n",
       "    <tr>\n",
       "        <th>count</th>\n",
       "    </tr>\n",
       "    <tr>\n",
       "        <td>16857</td>\n",
       "    </tr>\n",
       "</table>"
      ],
      "text/plain": [
       "[(16857,)]"
      ]
     },
     "execution_count": 90,
     "metadata": {},
     "output_type": "execute_result"
    }
   ],
   "source": [
    "%%sql\n",
    "select count(overall_satisfaction)\n",
    "from ny2016\n",
    "join room on ny2016.room_key = room.room_key\n",
    "where ny2016.overall_satisfaction = '0'\n",
    "and to_char(last_modified, 'MM') = '12'"
   ]
  },
  {
   "cell_type": "markdown",
   "metadata": {},
   "source": [
    "There were 16,857 zero star ratings in December"
   ]
  },
  {
   "cell_type": "code",
   "execution_count": 91,
   "metadata": {},
   "outputs": [
    {
     "name": "stdout",
     "output_type": "stream",
     "text": [
      "1 rows affected.\n"
     ]
    },
    {
     "data": {
      "text/html": [
       "<table>\n",
       "    <tr>\n",
       "        <th>avg</th>\n",
       "        <th>month</th>\n",
       "    </tr>\n",
       "    <tr>\n",
       "        <td>4.64770642201835</td>\n",
       "        <td>12</td>\n",
       "    </tr>\n",
       "</table>"
      ],
      "text/plain": [
       "[(4.64770642201835, '12')]"
      ]
     },
     "execution_count": 91,
     "metadata": {},
     "output_type": "execute_result"
    }
   ],
   "source": [
    "%%sql\n",
    "select avg(overall_satisfaction),\n",
    "    to_char(last_modified, 'MM') as month\n",
    "from ny2016\n",
    "join room on ny2016.room_key = room.room_key\n",
    "where room.room_type = 'Shared room'\n",
    "and ny2016.overall_satisfaction != '0'\n",
    "and to_char(last_modified, 'MM') = '12'\n",
    "group by to_char(last_modified, 'MM')\n",
    "order by to_char(last_modified, 'MM')"
   ]
  },
  {
   "cell_type": "markdown",
   "metadata": {},
   "source": [
    "After we exclude 0 star ratings, the result seems to be more reliable."
   ]
  },
  {
   "cell_type": "markdown",
   "metadata": {},
   "source": [
    "### Significant Finding\n",
    "The reason that we saw a sharp decrease in overall_satisfactin is that there are a lot of 0 star reviews in the review from December. However, the worst rating in Airbnb is 1 star, so these \"0\" mean no review was left. We have to exclude every 0 from the selection, not only from December, but also from other months. "
   ]
  },
  {
   "cell_type": "code",
   "execution_count": 92,
   "metadata": {},
   "outputs": [
    {
     "name": "stdout",
     "output_type": "stream",
     "text": [
      "12 rows affected.\n"
     ]
    },
    {
     "data": {
      "text/html": [
       "<table>\n",
       "    <tr>\n",
       "        <th>avg</th>\n",
       "        <th>room_type</th>\n",
       "        <th>month</th>\n",
       "    </tr>\n",
       "    <tr>\n",
       "        <td>4.66721909181306</td>\n",
       "        <td>Entire home/apt</td>\n",
       "        <td>01</td>\n",
       "    </tr>\n",
       "    <tr>\n",
       "        <td>4.67482028753994</td>\n",
       "        <td>Entire home/apt</td>\n",
       "        <td>02</td>\n",
       "    </tr>\n",
       "    <tr>\n",
       "        <td>4.67884532296392</td>\n",
       "        <td>Entire home/apt</td>\n",
       "        <td>03</td>\n",
       "    </tr>\n",
       "    <tr>\n",
       "        <td>4.68411330049261</td>\n",
       "        <td>Entire home/apt</td>\n",
       "        <td>04</td>\n",
       "    </tr>\n",
       "    <tr>\n",
       "        <td>4.68144018144018</td>\n",
       "        <td>Entire home/apt</td>\n",
       "        <td>05</td>\n",
       "    </tr>\n",
       "    <tr>\n",
       "        <td>4.67457507082153</td>\n",
       "        <td>Entire home/apt</td>\n",
       "        <td>06</td>\n",
       "    </tr>\n",
       "    <tr>\n",
       "        <td>4.6714799688837</td>\n",
       "        <td>Entire home/apt</td>\n",
       "        <td>07</td>\n",
       "    </tr>\n",
       "    <tr>\n",
       "        <td>4.67347582972583</td>\n",
       "        <td>Entire home/apt</td>\n",
       "        <td>08</td>\n",
       "    </tr>\n",
       "    <tr>\n",
       "        <td>4.67819220130276</td>\n",
       "        <td>Entire home/apt</td>\n",
       "        <td>09</td>\n",
       "    </tr>\n",
       "    <tr>\n",
       "        <td>4.67549759156594</td>\n",
       "        <td>Entire home/apt</td>\n",
       "        <td>10</td>\n",
       "    </tr>\n",
       "    <tr>\n",
       "        <td>4.67882445552348</td>\n",
       "        <td>Entire home/apt</td>\n",
       "        <td>11</td>\n",
       "    </tr>\n",
       "    <tr>\n",
       "        <td>4.68227083156013</td>\n",
       "        <td>Entire home/apt</td>\n",
       "        <td>12</td>\n",
       "    </tr>\n",
       "</table>"
      ],
      "text/plain": [
       "[(4.66721909181306, 'Entire home/apt', '01'),\n",
       " (4.67482028753994, 'Entire home/apt', '02'),\n",
       " (4.67884532296392, 'Entire home/apt', '03'),\n",
       " (4.68411330049261, 'Entire home/apt', '04'),\n",
       " (4.68144018144018, 'Entire home/apt', '05'),\n",
       " (4.67457507082153, 'Entire home/apt', '06'),\n",
       " (4.6714799688837, 'Entire home/apt', '07'),\n",
       " (4.67347582972583, 'Entire home/apt', '08'),\n",
       " (4.67819220130276, 'Entire home/apt', '09'),\n",
       " (4.67549759156594, 'Entire home/apt', '10'),\n",
       " (4.67882445552348, 'Entire home/apt', '11'),\n",
       " (4.68227083156013, 'Entire home/apt', '12')]"
      ]
     },
     "execution_count": 92,
     "metadata": {},
     "output_type": "execute_result"
    }
   ],
   "source": [
    "%%sql\n",
    "select avg(overall_satisfaction),room.room_type,\n",
    "    to_char(last_modified, 'MM') as month\n",
    "from ny2016\n",
    "join room on ny2016.room_key = room.room_key\n",
    "where room.room_type = 'Entire home/apt'\n",
    "and ny2016.overall_satisfaction != '0'\n",
    "group by room.room_type, to_char(last_modified, 'MM')\n",
    "order by to_char(last_modified, 'MM')"
   ]
  },
  {
   "cell_type": "code",
   "execution_count": 93,
   "metadata": {},
   "outputs": [
    {
     "name": "stdout",
     "output_type": "stream",
     "text": [
      "12 rows affected.\n"
     ]
    },
    {
     "data": {
      "text/html": [
       "<table>\n",
       "    <tr>\n",
       "        <th>avg</th>\n",
       "        <th>room_type</th>\n",
       "        <th>month</th>\n",
       "    </tr>\n",
       "    <tr>\n",
       "        <td>4.5998728890503</td>\n",
       "        <td>Private room</td>\n",
       "        <td>01</td>\n",
       "    </tr>\n",
       "    <tr>\n",
       "        <td>4.60546038543897</td>\n",
       "        <td>Private room</td>\n",
       "        <td>02</td>\n",
       "    </tr>\n",
       "    <tr>\n",
       "        <td>4.6113383566559</td>\n",
       "        <td>Private room</td>\n",
       "        <td>03</td>\n",
       "    </tr>\n",
       "    <tr>\n",
       "        <td>4.62063291833489</td>\n",
       "        <td>Private room</td>\n",
       "        <td>04</td>\n",
       "    </tr>\n",
       "    <tr>\n",
       "        <td>4.62412742733849</td>\n",
       "        <td>Private room</td>\n",
       "        <td>05</td>\n",
       "    </tr>\n",
       "    <tr>\n",
       "        <td>4.6212389380531</td>\n",
       "        <td>Private room</td>\n",
       "        <td>06</td>\n",
       "    </tr>\n",
       "    <tr>\n",
       "        <td>4.62314120683298</td>\n",
       "        <td>Private room</td>\n",
       "        <td>07</td>\n",
       "    </tr>\n",
       "    <tr>\n",
       "        <td>4.62035112035112</td>\n",
       "        <td>Private room</td>\n",
       "        <td>08</td>\n",
       "    </tr>\n",
       "    <tr>\n",
       "        <td>4.6338876146789</td>\n",
       "        <td>Private room</td>\n",
       "        <td>09</td>\n",
       "    </tr>\n",
       "    <tr>\n",
       "        <td>4.63583846236907</td>\n",
       "        <td>Private room</td>\n",
       "        <td>10</td>\n",
       "    </tr>\n",
       "    <tr>\n",
       "        <td>4.64282035434693</td>\n",
       "        <td>Private room</td>\n",
       "        <td>11</td>\n",
       "    </tr>\n",
       "    <tr>\n",
       "        <td>4.65501611603545</td>\n",
       "        <td>Private room</td>\n",
       "        <td>12</td>\n",
       "    </tr>\n",
       "</table>"
      ],
      "text/plain": [
       "[(4.5998728890503, 'Private room', '01'),\n",
       " (4.60546038543897, 'Private room', '02'),\n",
       " (4.6113383566559, 'Private room', '03'),\n",
       " (4.62063291833489, 'Private room', '04'),\n",
       " (4.62412742733849, 'Private room', '05'),\n",
       " (4.6212389380531, 'Private room', '06'),\n",
       " (4.62314120683298, 'Private room', '07'),\n",
       " (4.62035112035112, 'Private room', '08'),\n",
       " (4.6338876146789, 'Private room', '09'),\n",
       " (4.63583846236907, 'Private room', '10'),\n",
       " (4.64282035434693, 'Private room', '11'),\n",
       " (4.65501611603545, 'Private room', '12')]"
      ]
     },
     "execution_count": 93,
     "metadata": {},
     "output_type": "execute_result"
    }
   ],
   "source": [
    "%%sql\n",
    "select avg(overall_satisfaction),room.room_type,\n",
    "    to_char(last_modified, 'MM') as month\n",
    "from ny2016\n",
    "join room on ny2016.room_key = room.room_key\n",
    "where room.room_type = 'Private room'\n",
    "and ny2016.overall_satisfaction != '0'\n",
    "group by room.room_type,to_char(last_modified, 'MM')\n",
    "order by to_char(last_modified, 'MM')"
   ]
  },
  {
   "cell_type": "code",
   "execution_count": 94,
   "metadata": {},
   "outputs": [
    {
     "name": "stdout",
     "output_type": "stream",
     "text": [
      "12 rows affected.\n"
     ]
    },
    {
     "data": {
      "text/html": [
       "<table>\n",
       "    <tr>\n",
       "        <th>avg</th>\n",
       "        <th>room_type</th>\n",
       "        <th>month</th>\n",
       "    </tr>\n",
       "    <tr>\n",
       "        <td>4.60419397116645</td>\n",
       "        <td>Shared room</td>\n",
       "        <td>01</td>\n",
       "    </tr>\n",
       "    <tr>\n",
       "        <td>4.62783505154639</td>\n",
       "        <td>Shared room</td>\n",
       "        <td>02</td>\n",
       "    </tr>\n",
       "    <tr>\n",
       "        <td>4.61093418259023</td>\n",
       "        <td>Shared room</td>\n",
       "        <td>03</td>\n",
       "    </tr>\n",
       "    <tr>\n",
       "        <td>4.60311284046693</td>\n",
       "        <td>Shared room</td>\n",
       "        <td>04</td>\n",
       "    </tr>\n",
       "    <tr>\n",
       "        <td>4.58691756272401</td>\n",
       "        <td>Shared room</td>\n",
       "        <td>05</td>\n",
       "    </tr>\n",
       "    <tr>\n",
       "        <td>4.59982935153584</td>\n",
       "        <td>Shared room</td>\n",
       "        <td>06</td>\n",
       "    </tr>\n",
       "    <tr>\n",
       "        <td>4.58372827804107</td>\n",
       "        <td>Shared room</td>\n",
       "        <td>07</td>\n",
       "    </tr>\n",
       "    <tr>\n",
       "        <td>4.55</td>\n",
       "        <td>Shared room</td>\n",
       "        <td>08</td>\n",
       "    </tr>\n",
       "    <tr>\n",
       "        <td>4.54619565217391</td>\n",
       "        <td>Shared room</td>\n",
       "        <td>09</td>\n",
       "    </tr>\n",
       "    <tr>\n",
       "        <td>4.54771241830065</td>\n",
       "        <td>Shared room</td>\n",
       "        <td>10</td>\n",
       "    </tr>\n",
       "    <tr>\n",
       "        <td>4.59656084656085</td>\n",
       "        <td>Shared room</td>\n",
       "        <td>11</td>\n",
       "    </tr>\n",
       "    <tr>\n",
       "        <td>4.64770642201835</td>\n",
       "        <td>Shared room</td>\n",
       "        <td>12</td>\n",
       "    </tr>\n",
       "</table>"
      ],
      "text/plain": [
       "[(4.60419397116645, 'Shared room', '01'),\n",
       " (4.62783505154639, 'Shared room', '02'),\n",
       " (4.61093418259023, 'Shared room', '03'),\n",
       " (4.60311284046693, 'Shared room', '04'),\n",
       " (4.58691756272401, 'Shared room', '05'),\n",
       " (4.59982935153584, 'Shared room', '06'),\n",
       " (4.58372827804107, 'Shared room', '07'),\n",
       " (4.55, 'Shared room', '08'),\n",
       " (4.54619565217391, 'Shared room', '09'),\n",
       " (4.54771241830065, 'Shared room', '10'),\n",
       " (4.59656084656085, 'Shared room', '11'),\n",
       " (4.64770642201835, 'Shared room', '12')]"
      ]
     },
     "execution_count": 94,
     "metadata": {},
     "output_type": "execute_result"
    }
   ],
   "source": [
    "%%sql\n",
    "select avg(overall_satisfaction),room.room_type,\n",
    "    to_char(last_modified, 'MM') as month\n",
    "from ny2016\n",
    "join room on ny2016.room_key = room.room_key\n",
    "where room.room_type = 'Shared room'\n",
    "and ny2016.overall_satisfaction != '0'\n",
    "group by room.room_type,to_char(last_modified, 'MM')\n",
    "order by to_char(last_modified, 'MM')"
   ]
  },
  {
   "cell_type": "markdown",
   "metadata": {},
   "source": [
    "These results looks about right."
   ]
  },
  {
   "cell_type": "code",
   "execution_count": 95,
   "metadata": {},
   "outputs": [
    {
     "name": "stdout",
     "output_type": "stream",
     "text": [
      "12 rows affected.\n"
     ]
    },
    {
     "data": {
      "text/html": [
       "<table>\n",
       "    <tr>\n",
       "        <th>avg_satisfaction</th>\n",
       "        <th>month</th>\n",
       "    </tr>\n",
       "    <tr>\n",
       "        <td>4.63785020649626</td>\n",
       "        <td>01</td>\n",
       "    </tr>\n",
       "    <tr>\n",
       "        <td>4.64471707561342</td>\n",
       "        <td>02</td>\n",
       "    </tr>\n",
       "    <tr>\n",
       "        <td>4.64875872188782</td>\n",
       "        <td>03</td>\n",
       "    </tr>\n",
       "    <tr>\n",
       "        <td>4.6548205080574</td>\n",
       "        <td>04</td>\n",
       "    </tr>\n",
       "    <tr>\n",
       "        <td>4.65492402334508</td>\n",
       "        <td>05</td>\n",
       "    </tr>\n",
       "    <tr>\n",
       "        <td>4.64923830250272</td>\n",
       "        <td>06</td>\n",
       "    </tr>\n",
       "    <tr>\n",
       "        <td>4.64792169623176</td>\n",
       "        <td>07</td>\n",
       "    </tr>\n",
       "    <tr>\n",
       "        <td>4.64703718238006</td>\n",
       "        <td>08</td>\n",
       "    </tr>\n",
       "    <tr>\n",
       "        <td>4.65676274944568</td>\n",
       "        <td>09</td>\n",
       "    </tr>\n",
       "    <tr>\n",
       "        <td>4.6533834228922</td>\n",
       "        <td>10</td>\n",
       "    </tr>\n",
       "    <tr>\n",
       "        <td>4.66002192081107</td>\n",
       "        <td>11</td>\n",
       "    </tr>\n",
       "    <tr>\n",
       "        <td>4.66924669246692</td>\n",
       "        <td>12</td>\n",
       "    </tr>\n",
       "</table>"
      ],
      "text/plain": [
       "[(4.63785020649626, '01'),\n",
       " (4.64471707561342, '02'),\n",
       " (4.64875872188782, '03'),\n",
       " (4.6548205080574, '04'),\n",
       " (4.65492402334508, '05'),\n",
       " (4.64923830250272, '06'),\n",
       " (4.64792169623176, '07'),\n",
       " (4.64703718238006, '08'),\n",
       " (4.65676274944568, '09'),\n",
       " (4.6533834228922, '10'),\n",
       " (4.66002192081107, '11'),\n",
       " (4.66924669246692, '12')]"
      ]
     },
     "execution_count": 95,
     "metadata": {},
     "output_type": "execute_result"
    }
   ],
   "source": [
    "%%sql\n",
    "select avg(overall_satisfaction) as avg_satisfaction,\n",
    "    to_char(last_modified, 'MM') as month\n",
    "from ny2016\n",
    "join room on ny2016.room_key = room.room_key\n",
    "where ny2016.overall_satisfaction is not null\n",
    "and ny2016.overall_satisfaction != '0'\n",
    "group by to_char(last_modified, 'MM')\n",
    "order by to_char(last_modified, 'MM')"
   ]
  },
  {
   "cell_type": "code",
   "execution_count": 96,
   "metadata": {},
   "outputs": [
    {
     "data": {
      "text/html": [
       "<div>\n",
       "<style>\n",
       "    .dataframe thead tr:only-child th {\n",
       "        text-align: right;\n",
       "    }\n",
       "\n",
       "    .dataframe thead th {\n",
       "        text-align: left;\n",
       "    }\n",
       "\n",
       "    .dataframe tbody tr th {\n",
       "        vertical-align: top;\n",
       "    }\n",
       "</style>\n",
       "<table border=\"1\" class=\"dataframe\">\n",
       "  <thead>\n",
       "    <tr style=\"text-align: right;\">\n",
       "      <th></th>\n",
       "      <th>avg_satisfaction</th>\n",
       "      <th>month</th>\n",
       "    </tr>\n",
       "  </thead>\n",
       "  <tbody>\n",
       "    <tr>\n",
       "      <th>0</th>\n",
       "      <td>4.637850</td>\n",
       "      <td>01</td>\n",
       "    </tr>\n",
       "    <tr>\n",
       "      <th>1</th>\n",
       "      <td>4.644717</td>\n",
       "      <td>02</td>\n",
       "    </tr>\n",
       "    <tr>\n",
       "      <th>2</th>\n",
       "      <td>4.648759</td>\n",
       "      <td>03</td>\n",
       "    </tr>\n",
       "    <tr>\n",
       "      <th>3</th>\n",
       "      <td>4.654821</td>\n",
       "      <td>04</td>\n",
       "    </tr>\n",
       "    <tr>\n",
       "      <th>4</th>\n",
       "      <td>4.654924</td>\n",
       "      <td>05</td>\n",
       "    </tr>\n",
       "    <tr>\n",
       "      <th>5</th>\n",
       "      <td>4.649238</td>\n",
       "      <td>06</td>\n",
       "    </tr>\n",
       "    <tr>\n",
       "      <th>6</th>\n",
       "      <td>4.647922</td>\n",
       "      <td>07</td>\n",
       "    </tr>\n",
       "    <tr>\n",
       "      <th>7</th>\n",
       "      <td>4.647037</td>\n",
       "      <td>08</td>\n",
       "    </tr>\n",
       "    <tr>\n",
       "      <th>8</th>\n",
       "      <td>4.656763</td>\n",
       "      <td>09</td>\n",
       "    </tr>\n",
       "    <tr>\n",
       "      <th>9</th>\n",
       "      <td>4.653383</td>\n",
       "      <td>10</td>\n",
       "    </tr>\n",
       "    <tr>\n",
       "      <th>10</th>\n",
       "      <td>4.660022</td>\n",
       "      <td>11</td>\n",
       "    </tr>\n",
       "    <tr>\n",
       "      <th>11</th>\n",
       "      <td>4.669247</td>\n",
       "      <td>12</td>\n",
       "    </tr>\n",
       "  </tbody>\n",
       "</table>\n",
       "</div>"
      ],
      "text/plain": [
       "    avg_satisfaction month\n",
       "0           4.637850    01\n",
       "1           4.644717    02\n",
       "2           4.648759    03\n",
       "3           4.654821    04\n",
       "4           4.654924    05\n",
       "5           4.649238    06\n",
       "6           4.647922    07\n",
       "7           4.647037    08\n",
       "8           4.656763    09\n",
       "9           4.653383    10\n",
       "10          4.660022    11\n",
       "11          4.669247    12"
      ]
     },
     "execution_count": 96,
     "metadata": {},
     "output_type": "execute_result"
    }
   ],
   "source": [
    "Avg_satisfaction = pd.read_sql('''select avg(overall_satisfaction) as avg_satisfaction,\n",
    "    to_char(last_modified, 'MM') as month\n",
    "from ny2016\n",
    "join room on ny2016.room_key = room.room_key\n",
    "where ny2016.overall_satisfaction is not null\n",
    "and ny2016.overall_satisfaction != '0'\n",
    "group by to_char(last_modified, 'MM')\n",
    "order by to_char(last_modified, 'MM');''',conn)\n",
    "Avg_satisfaction"
   ]
  },
  {
   "cell_type": "code",
   "execution_count": 97,
   "metadata": {
    "collapsed": true
   },
   "outputs": [],
   "source": [
    "Avg_satisfaction=Avg_satisfaction['avg_satisfaction'].values"
   ]
  },
  {
   "cell_type": "code",
   "execution_count": 98,
   "metadata": {},
   "outputs": [
    {
     "data": {
      "image/png": "[encoded data removed]",
      "text/plain": [
       "<matplotlib.figure.Figure at 0x7fced99fd240>"
      ]
     },
     "metadata": {},
     "output_type": "display_data"
    }
   ],
   "source": [
    "plt.plot(month,Avg_satisfaction)\n",
    "plt.xticks(np.arange(1, 13, 1.0))\n",
    "plt.xlabel('month')\n",
    "plt.ylabel('Avg_satisfaction')\n",
    "plt.show() "
   ]
  },
  {
   "cell_type": "code",
   "execution_count": 99,
   "metadata": {
    "collapsed": true
   },
   "outputs": [],
   "source": [
    "del Avg_satisfaction"
   ]
  },
  {
   "cell_type": "markdown",
   "metadata": {},
   "source": [
    "### Answer and Discussion\n",
    "We now see a more consistent upward trend in satisfaction ratings.  The apparent spike in December could be due to winter tourists giving generous ratings in the spirit of the holidays.\n"
   ]
  },
  {
   "cell_type": "markdown",
   "metadata": {},
   "source": [
    "### Revisit, Reanalyze Price with new discovery:\n",
    "Since we found that null can be replaced by \"0\" when the data was recorded and we saw a sharp decrease in listing price for December, we need to check if this is also the case."
   ]
  },
  {
   "cell_type": "code",
   "execution_count": 100,
   "metadata": {},
   "outputs": [
    {
     "name": "stdout",
     "output_type": "stream",
     "text": [
      "12 rows affected.\n"
     ]
    },
    {
     "data": {
      "text/html": [
       "<table>\n",
       "    <tr>\n",
       "        <th>avg</th>\n",
       "        <th>month</th>\n",
       "    </tr>\n",
       "    <tr>\n",
       "        <td>182.0146008739209208</td>\n",
       "        <td>01</td>\n",
       "    </tr>\n",
       "    <tr>\n",
       "        <td>179.0566309390497520</td>\n",
       "        <td>02</td>\n",
       "    </tr>\n",
       "    <tr>\n",
       "        <td>181.5902726920260199</td>\n",
       "        <td>03</td>\n",
       "    </tr>\n",
       "    <tr>\n",
       "        <td>181.4297644602581821</td>\n",
       "        <td>04</td>\n",
       "    </tr>\n",
       "    <tr>\n",
       "        <td>181.6826187717265353</td>\n",
       "        <td>05</td>\n",
       "    </tr>\n",
       "    <tr>\n",
       "        <td>178.8792870313460356</td>\n",
       "        <td>06</td>\n",
       "    </tr>\n",
       "    <tr>\n",
       "        <td>176.7736073167834660</td>\n",
       "        <td>07</td>\n",
       "    </tr>\n",
       "    <tr>\n",
       "        <td>180.7274648278930101</td>\n",
       "        <td>08</td>\n",
       "    </tr>\n",
       "    <tr>\n",
       "        <td>186.2068697265274370</td>\n",
       "        <td>09</td>\n",
       "    </tr>\n",
       "    <tr>\n",
       "        <td>184.7431253785584494</td>\n",
       "        <td>10</td>\n",
       "    </tr>\n",
       "    <tr>\n",
       "        <td>182.8597623671883926</td>\n",
       "        <td>11</td>\n",
       "    </tr>\n",
       "    <tr>\n",
       "        <td>172.7909704370179949</td>\n",
       "        <td>12</td>\n",
       "    </tr>\n",
       "</table>"
      ],
      "text/plain": [
       "[(Decimal('182.0146008739209208'), '01'),\n",
       " (Decimal('179.0566309390497520'), '02'),\n",
       " (Decimal('181.5902726920260199'), '03'),\n",
       " (Decimal('181.4297644602581821'), '04'),\n",
       " (Decimal('181.6826187717265353'), '05'),\n",
       " (Decimal('178.8792870313460356'), '06'),\n",
       " (Decimal('176.7736073167834660'), '07'),\n",
       " (Decimal('180.7274648278930101'), '08'),\n",
       " (Decimal('186.2068697265274370'), '09'),\n",
       " (Decimal('184.7431253785584494'), '10'),\n",
       " (Decimal('182.8597623671883926'), '11'),\n",
       " (Decimal('172.7909704370179949'), '12')]"
      ]
     },
     "execution_count": 100,
     "metadata": {},
     "output_type": "execute_result"
    }
   ],
   "source": [
    "%%sql\n",
    "select avg(price), \n",
    "    to_char(last_modified, 'MM') as month\n",
    "from ny2016\n",
    "join locations on ny2016.locations_key = locations.locations_key\n",
    "where locations.borough = 'Manhattan'\n",
    "and ny2016.price is not null\n",
    "and ny2016.price != '0'\n",
    "group by to_char(last_modified, 'MM')\n",
    "order by to_char(last_modified, 'MM')"
   ]
  },
  {
   "cell_type": "markdown",
   "metadata": {},
   "source": [
    "The number still doesn't change. Thus, this number and trend should be reliable."
   ]
  },
  {
   "cell_type": "markdown",
   "metadata": {},
   "source": [
    "# Bonus "
   ]
  },
  {
   "cell_type": "markdown",
   "metadata": {},
   "source": [
    "We chose the dataset of Housing complaints in NYC in 2016 from NYC open data. We are trying to figure out the relationship between average satisfaction of Airbnb and number of complaints for NYC housing."
   ]
  },
  {
   "cell_type": "code",
   "execution_count": 108,
   "metadata": {},
   "outputs": [
    {
     "name": "stdout",
     "output_type": "stream",
     "text": [
      "Row count: 579440\r\n"
     ]
    }
   ],
   "source": [
    "!csvstat --count Complaint2016.csv"
   ]
  },
  {
   "cell_type": "code",
   "execution_count": 109,
   "metadata": {},
   "outputs": [
    {
     "name": "stdout",
     "output_type": "stream",
     "text": [
      "ProblemID,ComplaintID,UnitTypeID,UnitType,SpaceTypeID ,SpaceType,TypeID,Type,MajorCategoryID,MajorCategory,MinorCategoryID,MinorCategory,CodeID,Code,StatusID,Status,StatusDate,StatusDescription\r\n",
      "16079447,7768889,91,APARTMENT,541,BATHROOM,1,EMERGENCY,9,PLUMBING,66,TOILET,631,BOWL LOOSE OR WOBBLY,2,CLOSE,01/01/2016,\"The Department of Housing Preservation and Development contacted an occupant of the apartment and verified that the following conditions were corrected. The complaint has been closed. If the condition still exists, please file a new complaint.\"\r\n",
      "16085204,7771797,91,APARTMENT,543,ENTIRE APARTMENT,1,EMERGENCY,59,HEAT/HOT WATER,348,APARTMENT ONLY,2713,NO HEAT,2,CLOSE,01/01/2016,\"The Department of Housing Preservation and Development contacted an occupant of the apartment and verified that the following conditions were corrected. The complaint has been closed. If the condition still exists, please file a new complaint.\"\r\n",
      "16079529,7768944,91,APARTMENT,547,LIVING ROOM,1,EMERGENCY,9,PLUMBING,287,RADIATOR,2790,BROKEN OR MISSING,2,CLOSE,01/01/2016,\"The Department of Housing Preservation and Development contacted an occupant of the apartment and verified that the following conditions were corrected. The complaint has been closed. If the condition still exists, please file a new complaint.\"\r\n",
      "16078489,7768468,91,APARTMENT,543,ENTIRE APARTMENT,1,EMERGENCY,59,HEAT/HOT WATER,348,APARTMENT ONLY,2713,NO HEAT,2,CLOSE,01/01/2016,\"More than one complaint was received for this building-wide condition.This complaint status is for the initial complaint. The Department of Housing Preservation and Development contacted an occupant of the apartment and verified that the following conditions were corrected. The complaint has been closed. If the condition still exists, please file a new complaint.\"\r\n",
      "16077583,7768023,92,BUILDING-W,550,BUILDING-WIDE,1,EMERGENCY,59,HEAT/HOT WATER,349,ENTIRE BUILDING,2716,NO HEAT AND NO HOT WATER,2,CLOSE,01/02/2016,\"More than one complaint was received for this building-wide condition.This complaint status is for the initial complaint. The Department of Housing Preservation and Development contacted a tenant in the building and verified that the following conditions were corrected. The complaint has been closed. If the condition still exists, please file a new complaint.\"\r\n",
      "16073589,7765800,20,APARTMENT,68,ENTIRE APARTMENT,1,EMERGENCY,59,HEAT/HOT WATER,349,ENTIRE BUILDING,2716,NO HEAT AND NO HOT WATER,2,CLOSE,01/02/2016,\"More than one complaint was received for this building-wide condition.This complaint status is for the initial complaint. The Department of Housing Preservation and Development contacted an occupant of the apartment and verified that the following conditions were corrected. The complaint has been closed. If the condition still exists, please file a new complaint.\"\r\n",
      "16072388,7765140,91,APARTMENT,543,ENTIRE APARTMENT,3,NON EMERGENCY,63,UNSANITARY CONDITION,376,PESTS,2821,MICE,2,CLOSE,01/02/2016,\"The Department of Housing Preservation and Development contacted an occupant of the apartment and verified that the following conditions were corrected. The complaint has been closed. If the condition still exists, please file a new complaint.\"\r\n",
      "16071405,7764563,91,APARTMENT,543,ENTIRE APARTMENT,3,NON EMERGENCY,56,DOOR/WINDOW,337,WINDOW FRAME,2671,LOCK BROKEN OR MISSING,2,CLOSE,01/02/2016,\"The Department of Housing Preservation and Development contacted an occupant of the apartment and verified that the following conditions were corrected. The complaint has been closed. If the condition still exists, please file a new complaint.\"\r\n",
      "16071404,7764563,91,APARTMENT,543,ENTIRE APARTMENT,3,NON EMERGENCY,63,UNSANITARY CONDITION,376,PESTS,2821,MICE,2,CLOSE,01/02/2016,\"The Department of Housing Preservation and Development contacted an occupant of the apartment and verified that the following conditions were corrected. The complaint has been closed. If the condition still exists, please file a new complaint.\"\r\n"
     ]
    }
   ],
   "source": [
    "!head Complaint2016.csv"
   ]
  },
  {
   "cell_type": "code",
   "execution_count": 103,
   "metadata": {},
   "outputs": [
    {
     "name": "stdout",
     "output_type": "stream",
     "text": [
      "  1: ProblemID\r\n",
      "  2: ComplaintID\r\n",
      "  3: UnitTypeID\r\n",
      "  4: UnitType\r\n",
      "  5: SpaceTypeID \r\n",
      "  6: SpaceType\r\n",
      "  7: TypeID\r\n",
      "  8: Type\r\n",
      "  9: MajorCategoryID\r\n",
      " 10: MajorCategory\r\n",
      " 11: MinorCategoryID\r\n",
      " 12: MinorCategory\r\n",
      " 13: CodeID\r\n",
      " 14: Code\r\n",
      " 15: StatusID\r\n",
      " 16: Status\r\n",
      " 17: StatusDate\r\n",
      " 18: StatusDescription\r\n"
     ]
    }
   ],
   "source": [
    "!csvcut -n Complaint2016.csv"
   ]
  },
  {
   "cell_type": "code",
   "execution_count": 104,
   "metadata": {},
   "outputs": [
    {
     "name": "stdout",
     "output_type": "stream",
     "text": [
      "  1. ProblemID\r\n",
      "\t<class 'int'>\r\n",
      "\tNulls: False\r\n",
      "\tMin: 15667333\r\n",
      "\tMax: 16172790\r\n",
      "\tSum: 16086629215\r\n",
      "\tMean: 16102731.946946947\r\n",
      "\tMedian: 16116368\r\n",
      "\tStandard Deviation: 66846.40884776108\r\n",
      "\tUnique values: 999\r\n",
      "  2. ComplaintID\r\n",
      "\t<class 'int'>\r\n",
      "\tNulls: False\r\n",
      "\tMin: 7542800\r\n",
      "\tMax: 7826744\r\n",
      "\tSum: 7776463295\r\n",
      "\tMean: 7784247.542542542\r\n",
      "\tMedian: 7792010\r\n",
      "\tStandard Deviation: 38635.63695238713\r\n",
      "\tUnique values: 695\r\n",
      "\t5 most frequent values:\r\n",
      "\t\t7810672:\t9\r\n",
      "\t\t7790361:\t8\r\n",
      "\t\t7775953:\t8\r\n",
      "\t\t7708107:\t8\r\n",
      "\t\t7804366:\t7\r\n",
      "  3. UnitTypeID\r\n",
      "\t<class 'int'>\r\n",
      "\tNulls: False\r\n",
      "\tValues: 91, 20, 93, 92\r\n",
      "  4. UnitType\r\n",
      "\t<class 'str'>\r\n",
      "\tNulls: False\r\n",
      "\tValues: APARTMENT, BUILDING-W, PUBLIC ARE\r\n",
      "  5. SpaceTypeID \r\n",
      "\t<class 'int'>\r\n",
      "\tNulls: False\r\n",
      "\tMin: 68\r\n",
      "\tMax: 577\r\n",
      "\tSum: 538412\r\n",
      "\tMean: 538.950950950951\r\n",
      "\tMedian: 543\r\n",
      "\tStandard Deviation: 54.34382990225286\r\n",
      "\tUnique values: 23\r\n",
      "\t5 most frequent values:\r\n",
      "\t\t543:\t414\r\n",
      "\t\t541:\t149\r\n",
      "\t\t550:\t126\r\n",
      "\t\t546:\t78\r\n",
      "\t\t542:\t75\r\n",
      "  6. SpaceType\r\n",
      "\t<class 'str'>\r\n",
      "\tNulls: False\r\n",
      "\tUnique values: 20\r\n",
      "\t5 most frequent values:\r\n",
      "\t\tENTIRE APARTMENT:\t427\r\n",
      "\t\tBATHROOM:\t150\r\n",
      "\t\tBUILDING-WIDE:\t126\r\n",
      "\t\tKITCHEN:\t78\r\n",
      "\t\tBEDROOM:\t75\r\n",
      "\tMax length: 18\r\n",
      "  7. TypeID\r\n",
      "\t<class 'int'>\r\n",
      "\tNulls: False\r\n",
      "\tValues: 1, 3, 4\r\n",
      "  8. Type\r\n",
      "\t<class 'str'>\r\n",
      "\tNulls: False\r\n",
      "\tValues: EMERGENCY, IMMEDIATE EMERGENCY, NON EMERGENCY\r\n",
      "  9. MajorCategoryID\r\n",
      "\t<class 'int'>\r\n",
      "\tNulls: False\r\n",
      "\tMin: 8\r\n",
      "\tMax: 65\r\n",
      "\tSum: 45675\r\n",
      "\tMean: 45.72072072072072\r\n",
      "\tMedian: 59\r\n",
      "\tStandard Deviation: 21.054034136823077\r\n",
      "\tUnique values: 13\r\n",
      "\t5 most frequent values:\r\n",
      "\t\t59:\t444\r\n",
      "\t\t28:\t100\r\n",
      "\t\t9:\t98\r\n",
      "\t\t63:\t76\r\n",
      "\t\t56:\t63\r\n",
      " 10. MajorCategory\r\n",
      "\t<class 'str'>\r\n",
      "\tNulls: False\r\n",
      "\tUnique values: 13\r\n",
      "\t5 most frequent values:\r\n",
      "\t\tHEAT/HOT WATER:\t444\r\n",
      "\t\tPAINT/PLASTER:\t100\r\n",
      "\t\tPLUMBING:\t98\r\n",
      "\t\tUNSANITARY CONDITION:\t76\r\n",
      "\t\tDOOR/WINDOW:\t63\r\n",
      "\tMax length: 20\r\n",
      " 11. MinorCategoryID\r\n",
      "\t<class 'int'>\r\n",
      "\tNulls: False\r\n",
      "\tMin: 59\r\n",
      "\tMax: 381\r\n",
      "\tSum: 296043\r\n",
      "\tMean: 296.33933933933935\r\n",
      "\tMedian: 348\r\n",
      "\tStandard Deviation: 102.54169280213317\r\n",
      "\tUnique values: 48\r\n",
      "\t5 most frequent values:\r\n",
      "\t\t348:\t326\r\n",
      "\t\t349:\t118\r\n",
      "\t\t198:\t49\r\n",
      "\t\t197:\t45\r\n",
      "\t\t343:\t42\r\n",
      " 12. MinorCategory\r\n",
      "\t<class 'str'>\r\n",
      "\tNulls: False\r\n",
      "\tUnique values: 46\r\n",
      "\t5 most frequent values:\r\n",
      "\t\tAPARTMENT ONLY:\t326\r\n",
      "\t\tENTIRE BUILDING:\t118\r\n",
      "\t\tWALL:\t49\r\n",
      "\t\tCEILING:\t45\r\n",
      "\t\tFLOOR:\t42\r\n",
      "\tMax length: 27\r\n",
      " 13. CodeID\r\n",
      "\t<class 'int'>\r\n",
      "\tNulls: False\r\n",
      "\tMin: 624\r\n",
      "\tMax: 2846\r\n",
      "\tSum: 2578552\r\n",
      "\tMean: 2581.133133133133\r\n",
      "\tMedian: 2713\r\n",
      "\tStandard Deviation: 481.01407446469227\r\n",
      "\tUnique values: 109\r\n",
      "\t5 most frequent values:\r\n",
      "\t\t2713:\t232\r\n",
      "\t\t2833:\t74\r\n",
      "\t\t2715:\t59\r\n",
      "\t\t2716:\t48\r\n",
      "\t\t2828:\t29\r\n",
      " 14. Code\r\n",
      "\t<class 'str'>\r\n",
      "\tNulls: True\r\n",
      "\tUnique values: 85\r\n",
      "\t5 most frequent values:\r\n",
      "\t\tNO HEAT:\t291\r\n",
      "\t\tNO HEAT AND NO HOT WATER:\t122\r\n",
      "\t\tBROKEN OR MISSING:\t43\r\n",
      "\t\tAT WALL OR CEILING:\t41\r\n",
      "\t\tNO HOT WATER:\t33\r\n",
      "\tMax length: 33\r\n",
      " 15. StatusID\r\n",
      "\t<class 'int'>\r\n",
      "\tNulls: False\r\n",
      "\tValues: 1, 2\r\n",
      " 16. Status\r\n",
      "\t<class 'str'>\r\n",
      "\tNulls: False\r\n",
      "\tValues: OPEN, CLOSE\r\n",
      " 17. StatusDate\r\n",
      "\t<class 'datetime.date'>\r\n",
      "\tNulls: False\r\n",
      "\tMin: 2016-01-01\r\n",
      "\tMax: 2016-01-22\r\n",
      "\tUnique values: 22\r\n",
      "\t5 most frequent values:\r\n",
      "\t\t2016-01-20:\t125\r\n",
      "\t\t2016-01-21:\t103\r\n",
      "\t\t2016-01-13:\t78\r\n",
      "\t\t2016-01-19:\t68\r\n",
      "\t\t2016-01-11:\t68\r\n",
      " 18. StatusDescription\r\n",
      "\t<class 'str'>\r\n",
      "\tNulls: True\r\n",
      "\tUnique values: 13\r\n",
      "\t5 most frequent values:\r\n",
      "\t\tMore than one complaint was received for this building-wide condition.This complaint status is for the initial complaint. The Department of Housing Preservation and Development contacted an occupant of the apartment and verified that the following conditions were corrected. The complaint has been closed. If the condition still exists, please file a new complaint.:\t272\r\n",
      "\t\tThe Department of Housing Preservation and Development contacted an occupant of the apartment and verified that the following conditions were corrected. The complaint has been closed. If the condition still exists, please file a new complaint.:\t253\r\n",
      "\t\tThe Department of Housing Preservation and Development was not able to gain access to inspect the following conditions. The complaint has been closed. If the condition still exists, please file a new complaint.:\t140\r\n",
      "\t\tThe Department of Housing Preservation and Development inspected the following conditions. No violations were issued. The complaint has been closed.:\t118\r\n",
      "\t\tThe Department of Housing Preservation and Development inspected the following conditions. Violations were issued. Information about specific violations is available at www.nyc.gov/hpd.:\t74\r\n",
      "\tMax length: 365\r\n",
      "\r\n",
      "Row count: 999\r\n"
     ]
    }
   ],
   "source": [
    "!head -n 1000 Complaint2016.csv | csvstat"
   ]
  },
  {
   "cell_type": "code",
   "execution_count": 110,
   "metadata": {},
   "outputs": [
    {
     "name": "stdout",
     "output_type": "stream",
     "text": [
      "Done.\n",
      "Done.\n"
     ]
    },
    {
     "data": {
      "text/plain": [
       "[]"
      ]
     },
     "execution_count": 110,
     "metadata": {},
     "output_type": "execute_result"
    }
   ],
   "source": [
    "%%sql\n",
    "DROP TABLE IF EXISTS complaint2016;\n",
    "\n",
    "CREATE TABLE complaint2016 (\n",
    "    ProblemID INTEGER NOT NULL,\n",
    "    ComplaintID INTEGER NOT NULL,\n",
    "    UnitTypeID INTEGER NOT NULL,\n",
    "    UnitType VARCHAR(20),\n",
    "    SpaceTypeID INTEGER,\n",
    "    SpaceType VARCHAR(50),\n",
    "    TypeID INTEGER,\n",
    "    Type VARCHAR(20),\n",
    "    MajorCategoryID INTEGER,\n",
    "    MajorCategory VARCHAR(50),\n",
    "    MinorCategoryID INTEGER,\n",
    "    MinorCategory VARCHAR(50),\n",
    "    CodeID INTEGER,\n",
    "    Code VARCHAR(100),\n",
    "    StatusID INTEGER,\n",
    "    Status VARCHAR(20),\n",
    "    StatusDate date,\n",
    "    StatusDescription VARCHAR(1000)\n",
    ")"
   ]
  },
  {
   "cell_type": "code",
   "execution_count": 111,
   "metadata": {},
   "outputs": [
    {
     "name": "stdout",
     "output_type": "stream",
     "text": [
      "579440 rows affected.\n"
     ]
    },
    {
     "data": {
      "text/plain": [
       "[]"
      ]
     },
     "execution_count": 111,
     "metadata": {},
     "output_type": "execute_result"
    }
   ],
   "source": [
    "%%sql\n",
    "COPY complaint2016 from '/home/ubuntu/Complaint2016.csv'\n",
    "csv\n",
    "header;"
   ]
  },
  {
   "cell_type": "code",
   "execution_count": 112,
   "metadata": {},
   "outputs": [
    {
     "name": "stdout",
     "output_type": "stream",
     "text": [
      "10 rows affected.\n"
     ]
    },
    {
     "data": {
      "text/html": [
       "<table>\n",
       "    <tr>\n",
       "        <th>problemid</th>\n",
       "        <th>complaintid</th>\n",
       "        <th>unittypeid</th>\n",
       "        <th>unittype</th>\n",
       "        <th>spacetypeid</th>\n",
       "        <th>spacetype</th>\n",
       "        <th>typeid</th>\n",
       "        <th>type</th>\n",
       "        <th>majorcategoryid</th>\n",
       "        <th>majorcategory</th>\n",
       "        <th>minorcategoryid</th>\n",
       "        <th>minorcategory</th>\n",
       "        <th>codeid</th>\n",
       "        <th>code</th>\n",
       "        <th>statusid</th>\n",
       "        <th>status</th>\n",
       "        <th>statusdate</th>\n",
       "        <th>statusdescription</th>\n",
       "    </tr>\n",
       "    <tr>\n",
       "        <td>16079447</td>\n",
       "        <td>7768889</td>\n",
       "        <td>91</td>\n",
       "        <td>APARTMENT</td>\n",
       "        <td>541</td>\n",
       "        <td>BATHROOM</td>\n",
       "        <td>1</td>\n",
       "        <td>EMERGENCY</td>\n",
       "        <td>9</td>\n",
       "        <td>PLUMBING</td>\n",
       "        <td>66</td>\n",
       "        <td>TOILET</td>\n",
       "        <td>631</td>\n",
       "        <td>BOWL LOOSE OR WOBBLY</td>\n",
       "        <td>2</td>\n",
       "        <td>CLOSE</td>\n",
       "        <td>2016-01-01</td>\n",
       "        <td>The Department of Housing Preservation and Development contacted an occupant of the apartment and verified that the following conditions were corrected. The complaint has been closed. If the condition still exists, please file a new complaint.</td>\n",
       "    </tr>\n",
       "    <tr>\n",
       "        <td>16085204</td>\n",
       "        <td>7771797</td>\n",
       "        <td>91</td>\n",
       "        <td>APARTMENT</td>\n",
       "        <td>543</td>\n",
       "        <td>ENTIRE APARTMENT</td>\n",
       "        <td>1</td>\n",
       "        <td>EMERGENCY</td>\n",
       "        <td>59</td>\n",
       "        <td>HEAT/HOT WATER</td>\n",
       "        <td>348</td>\n",
       "        <td>APARTMENT ONLY</td>\n",
       "        <td>2713</td>\n",
       "        <td>NO HEAT</td>\n",
       "        <td>2</td>\n",
       "        <td>CLOSE</td>\n",
       "        <td>2016-01-01</td>\n",
       "        <td>The Department of Housing Preservation and Development contacted an occupant of the apartment and verified that the following conditions were corrected. The complaint has been closed. If the condition still exists, please file a new complaint.</td>\n",
       "    </tr>\n",
       "    <tr>\n",
       "        <td>16079529</td>\n",
       "        <td>7768944</td>\n",
       "        <td>91</td>\n",
       "        <td>APARTMENT</td>\n",
       "        <td>547</td>\n",
       "        <td>LIVING ROOM</td>\n",
       "        <td>1</td>\n",
       "        <td>EMERGENCY</td>\n",
       "        <td>9</td>\n",
       "        <td>PLUMBING</td>\n",
       "        <td>287</td>\n",
       "        <td>RADIATOR</td>\n",
       "        <td>2790</td>\n",
       "        <td>BROKEN OR MISSING</td>\n",
       "        <td>2</td>\n",
       "        <td>CLOSE</td>\n",
       "        <td>2016-01-01</td>\n",
       "        <td>The Department of Housing Preservation and Development contacted an occupant of the apartment and verified that the following conditions were corrected. The complaint has been closed. If the condition still exists, please file a new complaint.</td>\n",
       "    </tr>\n",
       "    <tr>\n",
       "        <td>16078489</td>\n",
       "        <td>7768468</td>\n",
       "        <td>91</td>\n",
       "        <td>APARTMENT</td>\n",
       "        <td>543</td>\n",
       "        <td>ENTIRE APARTMENT</td>\n",
       "        <td>1</td>\n",
       "        <td>EMERGENCY</td>\n",
       "        <td>59</td>\n",
       "        <td>HEAT/HOT WATER</td>\n",
       "        <td>348</td>\n",
       "        <td>APARTMENT ONLY</td>\n",
       "        <td>2713</td>\n",
       "        <td>NO HEAT</td>\n",
       "        <td>2</td>\n",
       "        <td>CLOSE</td>\n",
       "        <td>2016-01-01</td>\n",
       "        <td>More than one complaint was received for this building-wide condition.This complaint status is for the initial complaint. The Department of Housing Preservation and Development contacted an occupant of the apartment and verified that the following conditions were corrected. The complaint has been closed. If the condition still exists, please file a new complaint.</td>\n",
       "    </tr>\n",
       "    <tr>\n",
       "        <td>16077583</td>\n",
       "        <td>7768023</td>\n",
       "        <td>92</td>\n",
       "        <td>BUILDING-W</td>\n",
       "        <td>550</td>\n",
       "        <td>BUILDING-WIDE</td>\n",
       "        <td>1</td>\n",
       "        <td>EMERGENCY</td>\n",
       "        <td>59</td>\n",
       "        <td>HEAT/HOT WATER</td>\n",
       "        <td>349</td>\n",
       "        <td>ENTIRE BUILDING</td>\n",
       "        <td>2716</td>\n",
       "        <td>NO HEAT AND NO HOT WATER</td>\n",
       "        <td>2</td>\n",
       "        <td>CLOSE</td>\n",
       "        <td>2016-01-02</td>\n",
       "        <td>More than one complaint was received for this building-wide condition.This complaint status is for the initial complaint. The Department of Housing Preservation and Development contacted a tenant in the building and verified that the following conditions were corrected. The complaint has been closed. If the condition still exists, please file a new complaint.</td>\n",
       "    </tr>\n",
       "    <tr>\n",
       "        <td>16073589</td>\n",
       "        <td>7765800</td>\n",
       "        <td>20</td>\n",
       "        <td>APARTMENT</td>\n",
       "        <td>68</td>\n",
       "        <td>ENTIRE APARTMENT</td>\n",
       "        <td>1</td>\n",
       "        <td>EMERGENCY</td>\n",
       "        <td>59</td>\n",
       "        <td>HEAT/HOT WATER</td>\n",
       "        <td>349</td>\n",
       "        <td>ENTIRE BUILDING</td>\n",
       "        <td>2716</td>\n",
       "        <td>NO HEAT AND NO HOT WATER</td>\n",
       "        <td>2</td>\n",
       "        <td>CLOSE</td>\n",
       "        <td>2016-01-02</td>\n",
       "        <td>More than one complaint was received for this building-wide condition.This complaint status is for the initial complaint. The Department of Housing Preservation and Development contacted an occupant of the apartment and verified that the following conditions were corrected. The complaint has been closed. If the condition still exists, please file a new complaint.</td>\n",
       "    </tr>\n",
       "    <tr>\n",
       "        <td>16072388</td>\n",
       "        <td>7765140</td>\n",
       "        <td>91</td>\n",
       "        <td>APARTMENT</td>\n",
       "        <td>543</td>\n",
       "        <td>ENTIRE APARTMENT</td>\n",
       "        <td>3</td>\n",
       "        <td>NON EMERGENCY</td>\n",
       "        <td>63</td>\n",
       "        <td>UNSANITARY CONDITION</td>\n",
       "        <td>376</td>\n",
       "        <td>PESTS</td>\n",
       "        <td>2821</td>\n",
       "        <td>MICE</td>\n",
       "        <td>2</td>\n",
       "        <td>CLOSE</td>\n",
       "        <td>2016-01-02</td>\n",
       "        <td>The Department of Housing Preservation and Development contacted an occupant of the apartment and verified that the following conditions were corrected. The complaint has been closed. If the condition still exists, please file a new complaint.</td>\n",
       "    </tr>\n",
       "    <tr>\n",
       "        <td>16071405</td>\n",
       "        <td>7764563</td>\n",
       "        <td>91</td>\n",
       "        <td>APARTMENT</td>\n",
       "        <td>543</td>\n",
       "        <td>ENTIRE APARTMENT</td>\n",
       "        <td>3</td>\n",
       "        <td>NON EMERGENCY</td>\n",
       "        <td>56</td>\n",
       "        <td>DOOR/WINDOW</td>\n",
       "        <td>337</td>\n",
       "        <td>WINDOW FRAME</td>\n",
       "        <td>2671</td>\n",
       "        <td>LOCK BROKEN OR MISSING</td>\n",
       "        <td>2</td>\n",
       "        <td>CLOSE</td>\n",
       "        <td>2016-01-02</td>\n",
       "        <td>The Department of Housing Preservation and Development contacted an occupant of the apartment and verified that the following conditions were corrected. The complaint has been closed. If the condition still exists, please file a new complaint.</td>\n",
       "    </tr>\n",
       "    <tr>\n",
       "        <td>16071404</td>\n",
       "        <td>7764563</td>\n",
       "        <td>91</td>\n",
       "        <td>APARTMENT</td>\n",
       "        <td>543</td>\n",
       "        <td>ENTIRE APARTMENT</td>\n",
       "        <td>3</td>\n",
       "        <td>NON EMERGENCY</td>\n",
       "        <td>63</td>\n",
       "        <td>UNSANITARY CONDITION</td>\n",
       "        <td>376</td>\n",
       "        <td>PESTS</td>\n",
       "        <td>2821</td>\n",
       "        <td>MICE</td>\n",
       "        <td>2</td>\n",
       "        <td>CLOSE</td>\n",
       "        <td>2016-01-02</td>\n",
       "        <td>The Department of Housing Preservation and Development contacted an occupant of the apartment and verified that the following conditions were corrected. The complaint has been closed. If the condition still exists, please file a new complaint.</td>\n",
       "    </tr>\n",
       "    <tr>\n",
       "        <td>16074624</td>\n",
       "        <td>7766343</td>\n",
       "        <td>91</td>\n",
       "        <td>APARTMENT</td>\n",
       "        <td>543</td>\n",
       "        <td>ENTIRE APARTMENT</td>\n",
       "        <td>3</td>\n",
       "        <td>NON EMERGENCY</td>\n",
       "        <td>63</td>\n",
       "        <td>UNSANITARY CONDITION</td>\n",
       "        <td>376</td>\n",
       "        <td>PESTS</td>\n",
       "        <td>2823</td>\n",
       "        <td>ROACHES</td>\n",
       "        <td>2</td>\n",
       "        <td>CLOSE</td>\n",
       "        <td>2016-01-02</td>\n",
       "        <td>The Department of Housing Preservation and Development contacted an occupant of the apartment and verified that the following conditions were corrected. The complaint has been closed. If the condition still exists, please file a new complaint.</td>\n",
       "    </tr>\n",
       "</table>"
      ],
      "text/plain": [
       "[(16079447, 7768889, 91, 'APARTMENT', 541, 'BATHROOM', 1, 'EMERGENCY', 9, 'PLUMBING', 66, 'TOILET', 631, 'BOWL LOOSE OR WOBBLY', 2, 'CLOSE', datetime.date(2016, 1, 1), 'The Department of Housing Preservation and Development contacted an occupant of the apartment and verified that the following conditions were corrected. The complaint has been closed. If the condition still exists, please file a new complaint.'),\n",
       " (16085204, 7771797, 91, 'APARTMENT', 543, 'ENTIRE APARTMENT', 1, 'EMERGENCY', 59, 'HEAT/HOT WATER', 348, 'APARTMENT ONLY', 2713, 'NO HEAT', 2, 'CLOSE', datetime.date(2016, 1, 1), 'The Department of Housing Preservation and Development contacted an occupant of the apartment and verified that the following conditions were corrected. The complaint has been closed. If the condition still exists, please file a new complaint.'),\n",
       " (16079529, 7768944, 91, 'APARTMENT', 547, 'LIVING ROOM', 1, 'EMERGENCY', 9, 'PLUMBING', 287, 'RADIATOR', 2790, 'BROKEN OR MISSING', 2, 'CLOSE', datetime.date(2016, 1, 1), 'The Department of Housing Preservation and Development contacted an occupant of the apartment and verified that the following conditions were corrected. The complaint has been closed. If the condition still exists, please file a new complaint.'),\n",
       " (16078489, 7768468, 91, 'APARTMENT', 543, 'ENTIRE APARTMENT', 1, 'EMERGENCY', 59, 'HEAT/HOT WATER', 348, 'APARTMENT ONLY', 2713, 'NO HEAT', 2, 'CLOSE', datetime.date(2016, 1, 1), 'More than one complaint was received for this building-wide condition.This complaint status is for the initial complaint. The Department of Housing P ... (67 characters truncated) ... and verified that the following conditions were corrected. The complaint has been closed. If the condition still exists, please file a new complaint.'),\n",
       " (16077583, 7768023, 92, 'BUILDING-W', 550, 'BUILDING-WIDE', 1, 'EMERGENCY', 59, 'HEAT/HOT WATER', 349, 'ENTIRE BUILDING', 2716, 'NO HEAT AND NO HOT WATER', 2, 'CLOSE', datetime.date(2016, 1, 2), 'More than one complaint was received for this building-wide condition.This complaint status is for the initial complaint. The Department of Housing P ... (63 characters truncated) ... and verified that the following conditions were corrected. The complaint has been closed. If the condition still exists, please file a new complaint.'),\n",
       " (16073589, 7765800, 20, 'APARTMENT', 68, 'ENTIRE APARTMENT', 1, 'EMERGENCY', 59, 'HEAT/HOT WATER', 349, 'ENTIRE BUILDING', 2716, 'NO HEAT AND NO HOT WATER', 2, 'CLOSE', datetime.date(2016, 1, 2), 'More than one complaint was received for this building-wide condition.This complaint status is for the initial complaint. The Department of Housing P ... (67 characters truncated) ... and verified that the following conditions were corrected. The complaint has been closed. If the condition still exists, please file a new complaint.'),\n",
       " (16072388, 7765140, 91, 'APARTMENT', 543, 'ENTIRE APARTMENT', 3, 'NON EMERGENCY', 63, 'UNSANITARY CONDITION', 376, 'PESTS', 2821, 'MICE', 2, 'CLOSE', datetime.date(2016, 1, 2), 'The Department of Housing Preservation and Development contacted an occupant of the apartment and verified that the following conditions were corrected. The complaint has been closed. If the condition still exists, please file a new complaint.'),\n",
       " (16071405, 7764563, 91, 'APARTMENT', 543, 'ENTIRE APARTMENT', 3, 'NON EMERGENCY', 56, 'DOOR/WINDOW', 337, 'WINDOW FRAME', 2671, 'LOCK BROKEN OR MISSING', 2, 'CLOSE', datetime.date(2016, 1, 2), 'The Department of Housing Preservation and Development contacted an occupant of the apartment and verified that the following conditions were corrected. The complaint has been closed. If the condition still exists, please file a new complaint.'),\n",
       " (16071404, 7764563, 91, 'APARTMENT', 543, 'ENTIRE APARTMENT', 3, 'NON EMERGENCY', 63, 'UNSANITARY CONDITION', 376, 'PESTS', 2821, 'MICE', 2, 'CLOSE', datetime.date(2016, 1, 2), 'The Department of Housing Preservation and Development contacted an occupant of the apartment and verified that the following conditions were corrected. The complaint has been closed. If the condition still exists, please file a new complaint.'),\n",
       " (16074624, 7766343, 91, 'APARTMENT', 543, 'ENTIRE APARTMENT', 3, 'NON EMERGENCY', 63, 'UNSANITARY CONDITION', 376, 'PESTS', 2823, 'ROACHES', 2, 'CLOSE', datetime.date(2016, 1, 2), 'The Department of Housing Preservation and Development contacted an occupant of the apartment and verified that the following conditions were corrected. The complaint has been closed. If the condition still exists, please file a new complaint.')]"
      ]
     },
     "execution_count": 112,
     "metadata": {},
     "output_type": "execute_result"
    }
   ],
   "source": [
    "%%sql\n",
    "select *\n",
    "from complaint2016\n",
    "limit 10"
   ]
  },
  {
   "cell_type": "code",
   "execution_count": 113,
   "metadata": {},
   "outputs": [
    {
     "name": "stdout",
     "output_type": "stream",
     "text": [
      "Done.\n"
     ]
    },
    {
     "data": {
      "text/plain": [
       "[]"
      ]
     },
     "execution_count": 113,
     "metadata": {},
     "output_type": "execute_result"
    }
   ],
   "source": [
    "%%sql \n",
    "ALTER TABLE complaint2016\n",
    "DROP COLUMN StatusDescription"
   ]
  },
  {
   "cell_type": "code",
   "execution_count": 114,
   "metadata": {},
   "outputs": [
    {
     "name": "stdout",
     "output_type": "stream",
     "text": [
      "10 rows affected.\n"
     ]
    },
    {
     "data": {
      "text/html": [
       "<table>\n",
       "    <tr>\n",
       "        <th>problemid</th>\n",
       "        <th>complaintid</th>\n",
       "        <th>unittypeid</th>\n",
       "        <th>unittype</th>\n",
       "        <th>spacetypeid</th>\n",
       "        <th>spacetype</th>\n",
       "        <th>typeid</th>\n",
       "        <th>type</th>\n",
       "        <th>majorcategoryid</th>\n",
       "        <th>majorcategory</th>\n",
       "        <th>minorcategoryid</th>\n",
       "        <th>minorcategory</th>\n",
       "        <th>codeid</th>\n",
       "        <th>code</th>\n",
       "        <th>statusid</th>\n",
       "        <th>status</th>\n",
       "        <th>statusdate</th>\n",
       "    </tr>\n",
       "    <tr>\n",
       "        <td>16079447</td>\n",
       "        <td>7768889</td>\n",
       "        <td>91</td>\n",
       "        <td>APARTMENT</td>\n",
       "        <td>541</td>\n",
       "        <td>BATHROOM</td>\n",
       "        <td>1</td>\n",
       "        <td>EMERGENCY</td>\n",
       "        <td>9</td>\n",
       "        <td>PLUMBING</td>\n",
       "        <td>66</td>\n",
       "        <td>TOILET</td>\n",
       "        <td>631</td>\n",
       "        <td>BOWL LOOSE OR WOBBLY</td>\n",
       "        <td>2</td>\n",
       "        <td>CLOSE</td>\n",
       "        <td>2016-01-01</td>\n",
       "    </tr>\n",
       "    <tr>\n",
       "        <td>16085204</td>\n",
       "        <td>7771797</td>\n",
       "        <td>91</td>\n",
       "        <td>APARTMENT</td>\n",
       "        <td>543</td>\n",
       "        <td>ENTIRE APARTMENT</td>\n",
       "        <td>1</td>\n",
       "        <td>EMERGENCY</td>\n",
       "        <td>59</td>\n",
       "        <td>HEAT/HOT WATER</td>\n",
       "        <td>348</td>\n",
       "        <td>APARTMENT ONLY</td>\n",
       "        <td>2713</td>\n",
       "        <td>NO HEAT</td>\n",
       "        <td>2</td>\n",
       "        <td>CLOSE</td>\n",
       "        <td>2016-01-01</td>\n",
       "    </tr>\n",
       "    <tr>\n",
       "        <td>16079529</td>\n",
       "        <td>7768944</td>\n",
       "        <td>91</td>\n",
       "        <td>APARTMENT</td>\n",
       "        <td>547</td>\n",
       "        <td>LIVING ROOM</td>\n",
       "        <td>1</td>\n",
       "        <td>EMERGENCY</td>\n",
       "        <td>9</td>\n",
       "        <td>PLUMBING</td>\n",
       "        <td>287</td>\n",
       "        <td>RADIATOR</td>\n",
       "        <td>2790</td>\n",
       "        <td>BROKEN OR MISSING</td>\n",
       "        <td>2</td>\n",
       "        <td>CLOSE</td>\n",
       "        <td>2016-01-01</td>\n",
       "    </tr>\n",
       "    <tr>\n",
       "        <td>16078489</td>\n",
       "        <td>7768468</td>\n",
       "        <td>91</td>\n",
       "        <td>APARTMENT</td>\n",
       "        <td>543</td>\n",
       "        <td>ENTIRE APARTMENT</td>\n",
       "        <td>1</td>\n",
       "        <td>EMERGENCY</td>\n",
       "        <td>59</td>\n",
       "        <td>HEAT/HOT WATER</td>\n",
       "        <td>348</td>\n",
       "        <td>APARTMENT ONLY</td>\n",
       "        <td>2713</td>\n",
       "        <td>NO HEAT</td>\n",
       "        <td>2</td>\n",
       "        <td>CLOSE</td>\n",
       "        <td>2016-01-01</td>\n",
       "    </tr>\n",
       "    <tr>\n",
       "        <td>16077583</td>\n",
       "        <td>7768023</td>\n",
       "        <td>92</td>\n",
       "        <td>BUILDING-W</td>\n",
       "        <td>550</td>\n",
       "        <td>BUILDING-WIDE</td>\n",
       "        <td>1</td>\n",
       "        <td>EMERGENCY</td>\n",
       "        <td>59</td>\n",
       "        <td>HEAT/HOT WATER</td>\n",
       "        <td>349</td>\n",
       "        <td>ENTIRE BUILDING</td>\n",
       "        <td>2716</td>\n",
       "        <td>NO HEAT AND NO HOT WATER</td>\n",
       "        <td>2</td>\n",
       "        <td>CLOSE</td>\n",
       "        <td>2016-01-02</td>\n",
       "    </tr>\n",
       "    <tr>\n",
       "        <td>16073589</td>\n",
       "        <td>7765800</td>\n",
       "        <td>20</td>\n",
       "        <td>APARTMENT</td>\n",
       "        <td>68</td>\n",
       "        <td>ENTIRE APARTMENT</td>\n",
       "        <td>1</td>\n",
       "        <td>EMERGENCY</td>\n",
       "        <td>59</td>\n",
       "        <td>HEAT/HOT WATER</td>\n",
       "        <td>349</td>\n",
       "        <td>ENTIRE BUILDING</td>\n",
       "        <td>2716</td>\n",
       "        <td>NO HEAT AND NO HOT WATER</td>\n",
       "        <td>2</td>\n",
       "        <td>CLOSE</td>\n",
       "        <td>2016-01-02</td>\n",
       "    </tr>\n",
       "    <tr>\n",
       "        <td>16072388</td>\n",
       "        <td>7765140</td>\n",
       "        <td>91</td>\n",
       "        <td>APARTMENT</td>\n",
       "        <td>543</td>\n",
       "        <td>ENTIRE APARTMENT</td>\n",
       "        <td>3</td>\n",
       "        <td>NON EMERGENCY</td>\n",
       "        <td>63</td>\n",
       "        <td>UNSANITARY CONDITION</td>\n",
       "        <td>376</td>\n",
       "        <td>PESTS</td>\n",
       "        <td>2821</td>\n",
       "        <td>MICE</td>\n",
       "        <td>2</td>\n",
       "        <td>CLOSE</td>\n",
       "        <td>2016-01-02</td>\n",
       "    </tr>\n",
       "    <tr>\n",
       "        <td>16071405</td>\n",
       "        <td>7764563</td>\n",
       "        <td>91</td>\n",
       "        <td>APARTMENT</td>\n",
       "        <td>543</td>\n",
       "        <td>ENTIRE APARTMENT</td>\n",
       "        <td>3</td>\n",
       "        <td>NON EMERGENCY</td>\n",
       "        <td>56</td>\n",
       "        <td>DOOR/WINDOW</td>\n",
       "        <td>337</td>\n",
       "        <td>WINDOW FRAME</td>\n",
       "        <td>2671</td>\n",
       "        <td>LOCK BROKEN OR MISSING</td>\n",
       "        <td>2</td>\n",
       "        <td>CLOSE</td>\n",
       "        <td>2016-01-02</td>\n",
       "    </tr>\n",
       "    <tr>\n",
       "        <td>16071404</td>\n",
       "        <td>7764563</td>\n",
       "        <td>91</td>\n",
       "        <td>APARTMENT</td>\n",
       "        <td>543</td>\n",
       "        <td>ENTIRE APARTMENT</td>\n",
       "        <td>3</td>\n",
       "        <td>NON EMERGENCY</td>\n",
       "        <td>63</td>\n",
       "        <td>UNSANITARY CONDITION</td>\n",
       "        <td>376</td>\n",
       "        <td>PESTS</td>\n",
       "        <td>2821</td>\n",
       "        <td>MICE</td>\n",
       "        <td>2</td>\n",
       "        <td>CLOSE</td>\n",
       "        <td>2016-01-02</td>\n",
       "    </tr>\n",
       "    <tr>\n",
       "        <td>16074624</td>\n",
       "        <td>7766343</td>\n",
       "        <td>91</td>\n",
       "        <td>APARTMENT</td>\n",
       "        <td>543</td>\n",
       "        <td>ENTIRE APARTMENT</td>\n",
       "        <td>3</td>\n",
       "        <td>NON EMERGENCY</td>\n",
       "        <td>63</td>\n",
       "        <td>UNSANITARY CONDITION</td>\n",
       "        <td>376</td>\n",
       "        <td>PESTS</td>\n",
       "        <td>2823</td>\n",
       "        <td>ROACHES</td>\n",
       "        <td>2</td>\n",
       "        <td>CLOSE</td>\n",
       "        <td>2016-01-02</td>\n",
       "    </tr>\n",
       "</table>"
      ],
      "text/plain": [
       "[(16079447, 7768889, 91, 'APARTMENT', 541, 'BATHROOM', 1, 'EMERGENCY', 9, 'PLUMBING', 66, 'TOILET', 631, 'BOWL LOOSE OR WOBBLY', 2, 'CLOSE', datetime.date(2016, 1, 1)),\n",
       " (16085204, 7771797, 91, 'APARTMENT', 543, 'ENTIRE APARTMENT', 1, 'EMERGENCY', 59, 'HEAT/HOT WATER', 348, 'APARTMENT ONLY', 2713, 'NO HEAT', 2, 'CLOSE', datetime.date(2016, 1, 1)),\n",
       " (16079529, 7768944, 91, 'APARTMENT', 547, 'LIVING ROOM', 1, 'EMERGENCY', 9, 'PLUMBING', 287, 'RADIATOR', 2790, 'BROKEN OR MISSING', 2, 'CLOSE', datetime.date(2016, 1, 1)),\n",
       " (16078489, 7768468, 91, 'APARTMENT', 543, 'ENTIRE APARTMENT', 1, 'EMERGENCY', 59, 'HEAT/HOT WATER', 348, 'APARTMENT ONLY', 2713, 'NO HEAT', 2, 'CLOSE', datetime.date(2016, 1, 1)),\n",
       " (16077583, 7768023, 92, 'BUILDING-W', 550, 'BUILDING-WIDE', 1, 'EMERGENCY', 59, 'HEAT/HOT WATER', 349, 'ENTIRE BUILDING', 2716, 'NO HEAT AND NO HOT WATER', 2, 'CLOSE', datetime.date(2016, 1, 2)),\n",
       " (16073589, 7765800, 20, 'APARTMENT', 68, 'ENTIRE APARTMENT', 1, 'EMERGENCY', 59, 'HEAT/HOT WATER', 349, 'ENTIRE BUILDING', 2716, 'NO HEAT AND NO HOT WATER', 2, 'CLOSE', datetime.date(2016, 1, 2)),\n",
       " (16072388, 7765140, 91, 'APARTMENT', 543, 'ENTIRE APARTMENT', 3, 'NON EMERGENCY', 63, 'UNSANITARY CONDITION', 376, 'PESTS', 2821, 'MICE', 2, 'CLOSE', datetime.date(2016, 1, 2)),\n",
       " (16071405, 7764563, 91, 'APARTMENT', 543, 'ENTIRE APARTMENT', 3, 'NON EMERGENCY', 56, 'DOOR/WINDOW', 337, 'WINDOW FRAME', 2671, 'LOCK BROKEN OR MISSING', 2, 'CLOSE', datetime.date(2016, 1, 2)),\n",
       " (16071404, 7764563, 91, 'APARTMENT', 543, 'ENTIRE APARTMENT', 3, 'NON EMERGENCY', 63, 'UNSANITARY CONDITION', 376, 'PESTS', 2821, 'MICE', 2, 'CLOSE', datetime.date(2016, 1, 2)),\n",
       " (16074624, 7766343, 91, 'APARTMENT', 543, 'ENTIRE APARTMENT', 3, 'NON EMERGENCY', 63, 'UNSANITARY CONDITION', 376, 'PESTS', 2823, 'ROACHES', 2, 'CLOSE', datetime.date(2016, 1, 2))]"
      ]
     },
     "execution_count": 114,
     "metadata": {},
     "output_type": "execute_result"
    }
   ],
   "source": [
    "%%sql\n",
    "select *\n",
    "from complaint2016\n",
    "limit 10"
   ]
  },
  {
   "cell_type": "code",
   "execution_count": 115,
   "metadata": {},
   "outputs": [
    {
     "name": "stdout",
     "output_type": "stream",
     "text": [
      "12 rows affected.\n"
     ]
    },
    {
     "data": {
      "text/html": [
       "<table>\n",
       "    <tr>\n",
       "        <th>num_of_complaint</th>\n",
       "        <th>month</th>\n",
       "    </tr>\n",
       "    <tr>\n",
       "        <td>3222</td>\n",
       "        <td>01</td>\n",
       "    </tr>\n",
       "    <tr>\n",
       "        <td>77951</td>\n",
       "        <td>02</td>\n",
       "    </tr>\n",
       "    <tr>\n",
       "        <td>69506</td>\n",
       "        <td>03</td>\n",
       "    </tr>\n",
       "    <tr>\n",
       "        <td>47936</td>\n",
       "        <td>04</td>\n",
       "    </tr>\n",
       "    <tr>\n",
       "        <td>39909</td>\n",
       "        <td>05</td>\n",
       "    </tr>\n",
       "    <tr>\n",
       "        <td>36862</td>\n",
       "        <td>06</td>\n",
       "    </tr>\n",
       "    <tr>\n",
       "        <td>36866</td>\n",
       "        <td>07</td>\n",
       "    </tr>\n",
       "    <tr>\n",
       "        <td>42976</td>\n",
       "        <td>08</td>\n",
       "    </tr>\n",
       "    <tr>\n",
       "        <td>39796</td>\n",
       "        <td>09</td>\n",
       "    </tr>\n",
       "    <tr>\n",
       "        <td>53082</td>\n",
       "        <td>10</td>\n",
       "    </tr>\n",
       "    <tr>\n",
       "        <td>58817</td>\n",
       "        <td>11</td>\n",
       "    </tr>\n",
       "    <tr>\n",
       "        <td>72517</td>\n",
       "        <td>12</td>\n",
       "    </tr>\n",
       "</table>"
      ],
      "text/plain": [
       "[(3222, '01'),\n",
       " (77951, '02'),\n",
       " (69506, '03'),\n",
       " (47936, '04'),\n",
       " (39909, '05'),\n",
       " (36862, '06'),\n",
       " (36866, '07'),\n",
       " (42976, '08'),\n",
       " (39796, '09'),\n",
       " (53082, '10'),\n",
       " (58817, '11'),\n",
       " (72517, '12')]"
      ]
     },
     "execution_count": 115,
     "metadata": {},
     "output_type": "execute_result"
    }
   ],
   "source": [
    "%%sql\n",
    "select count(*) AS num_of_complaint, to_char(StatusDate, 'MM') as month\n",
    "from complaint2016\n",
    "group by to_char(StatusDate, 'MM')\n",
    "order by to_char(StatusDate, 'MM')"
   ]
  },
  {
   "cell_type": "code",
   "execution_count": 116,
   "metadata": {
    "collapsed": true
   },
   "outputs": [],
   "source": [
    "complaint = pd.read_sql('''select count(*) AS num_of_complaint, to_char(StatusDate, 'MM') as month\n",
    "from complaint2016\n",
    "group by to_char(StatusDate, 'MM')\n",
    "order by to_char(StatusDate, 'MM')''',conn)"
   ]
  },
  {
   "cell_type": "code",
   "execution_count": 117,
   "metadata": {
    "collapsed": true
   },
   "outputs": [],
   "source": [
    "num_of_complaint =complaint['num_of_complaint'].values\n",
    "month = complaint['month'].values"
   ]
  },
  {
   "cell_type": "code",
   "execution_count": 118,
   "metadata": {},
   "outputs": [
    {
     "data": {
      "image/png": "[encoded data removed]",
      "text/plain": [
       "<matplotlib.figure.Figure at 0x7fced99743c8>"
      ]
     },
     "metadata": {},
     "output_type": "display_data"
    }
   ],
   "source": [
    "plt.plot(month,num_of_complaint)\n",
    "plt.xlabel('month')\n",
    "plt.ylabel('num_of_complaint')\n",
    "plt.xticks(np.arange(1, 13, 1.0))\n",
    "plt.show()  "
   ]
  },
  {
   "cell_type": "markdown",
   "metadata": {},
   "source": [
    "We can see from the plot that the number of complaints seem to not have an obvious relation with the average satisfaction of Airbnb."
   ]
  },
  {
   "cell_type": "markdown",
   "metadata": {},
   "source": [
    "We also used the data of Dow Jones Industrial Average in 2016. We want to see whether there is a relation between the DJIA and the average price of Airbnb listings"
   ]
  },
  {
   "cell_type": "code",
   "execution_count": 119,
   "metadata": {},
   "outputs": [
    {
     "name": "stdout",
     "output_type": "stream",
     "text": [
      "  1. DATE\r\n",
      "\t<class 'datetime.date'>\r\n",
      "\tNulls: False\r\n",
      "\tMin: 2016-01-04\r\n",
      "\tMax: 2016-12-30\r\n",
      "\tUnique values: 260\r\n",
      "  2. DJIA\r\n",
      "\t<class 'int'>\r\n",
      "\tNulls: True\r\n",
      "\tMin: 17737\r\n",
      "\tMax: 1997462\r\n",
      "\tSum: 404488274\r\n",
      "\tMean: 1605112.1984126985\r\n",
      "\tMedian: 1788972.0\r\n",
      "\tStandard Deviation: 526024.58251294\r\n",
      "\tUnique values: 251\r\n",
      "\t5 most frequent values:\r\n",
      "\t\t1853305:\t2\r\n",
      "\t\t1858969:\t1\r\n",
      "\t\t1847217:\t1\r\n",
      "\t\t1615141:\t1\r\n",
      "\t\t180864:\t1\r\n",
      "\r\n",
      "Row count: 260\r\n"
     ]
    }
   ],
   "source": [
    "!csvstat DJIA2016.csv"
   ]
  },
  {
   "cell_type": "code",
   "execution_count": 120,
   "metadata": {},
   "outputs": [
    {
     "name": "stdout",
     "output_type": "stream",
     "text": [
      "Done.\n",
      "Done.\n"
     ]
    },
    {
     "data": {
      "text/plain": [
       "[]"
      ]
     },
     "execution_count": 120,
     "metadata": {},
     "output_type": "execute_result"
    }
   ],
   "source": [
    "%%sql\n",
    "DROP TABLE IF EXISTS DJIA2016;\n",
    "\n",
    "CREATE TABLE DJIA2016 (\n",
    "    DATE date,\n",
    "    DJIA integer\n",
    ")"
   ]
  },
  {
   "cell_type": "code",
   "execution_count": 121,
   "metadata": {},
   "outputs": [
    {
     "name": "stdout",
     "output_type": "stream",
     "text": [
      "260 rows affected.\n"
     ]
    },
    {
     "data": {
      "text/plain": [
       "[]"
      ]
     },
     "execution_count": 121,
     "metadata": {},
     "output_type": "execute_result"
    }
   ],
   "source": [
    "%%sql\n",
    "COPY DJIA2016 from '/home/ubuntu/DJIA2016.csv'\n",
    "csv\n",
    "header;"
   ]
  },
  {
   "cell_type": "code",
   "execution_count": 122,
   "metadata": {},
   "outputs": [
    {
     "name": "stdout",
     "output_type": "stream",
     "text": [
      "10 rows affected.\n"
     ]
    },
    {
     "data": {
      "text/html": [
       "<table>\n",
       "    <tr>\n",
       "        <th>date</th>\n",
       "        <th>djia</th>\n",
       "    </tr>\n",
       "    <tr>\n",
       "        <td>2016-01-04</td>\n",
       "        <td>1714894</td>\n",
       "    </tr>\n",
       "    <tr>\n",
       "        <td>2016-01-05</td>\n",
       "        <td>1715866</td>\n",
       "    </tr>\n",
       "    <tr>\n",
       "        <td>2016-01-06</td>\n",
       "        <td>1690651</td>\n",
       "    </tr>\n",
       "    <tr>\n",
       "        <td>2016-01-07</td>\n",
       "        <td>165141</td>\n",
       "    </tr>\n",
       "    <tr>\n",
       "        <td>2016-01-08</td>\n",
       "        <td>1634645</td>\n",
       "    </tr>\n",
       "    <tr>\n",
       "        <td>2016-01-11</td>\n",
       "        <td>1639857</td>\n",
       "    </tr>\n",
       "    <tr>\n",
       "        <td>2016-01-12</td>\n",
       "        <td>1651622</td>\n",
       "    </tr>\n",
       "    <tr>\n",
       "        <td>2016-01-13</td>\n",
       "        <td>1615141</td>\n",
       "    </tr>\n",
       "    <tr>\n",
       "        <td>2016-01-14</td>\n",
       "        <td>1637905</td>\n",
       "    </tr>\n",
       "    <tr>\n",
       "        <td>2016-01-15</td>\n",
       "        <td>1598808</td>\n",
       "    </tr>\n",
       "</table>"
      ],
      "text/plain": [
       "[(datetime.date(2016, 1, 4), 1714894),\n",
       " (datetime.date(2016, 1, 5), 1715866),\n",
       " (datetime.date(2016, 1, 6), 1690651),\n",
       " (datetime.date(2016, 1, 7), 165141),\n",
       " (datetime.date(2016, 1, 8), 1634645),\n",
       " (datetime.date(2016, 1, 11), 1639857),\n",
       " (datetime.date(2016, 1, 12), 1651622),\n",
       " (datetime.date(2016, 1, 13), 1615141),\n",
       " (datetime.date(2016, 1, 14), 1637905),\n",
       " (datetime.date(2016, 1, 15), 1598808)]"
      ]
     },
     "execution_count": 122,
     "metadata": {},
     "output_type": "execute_result"
    }
   ],
   "source": [
    "%%sql\n",
    "SELECT * FROM DJIA2016\n",
    "LIMIT 10;"
   ]
  },
  {
   "cell_type": "code",
   "execution_count": 123,
   "metadata": {},
   "outputs": [
    {
     "name": "stdout",
     "output_type": "stream",
     "text": [
      "12 rows affected.\n"
     ]
    },
    {
     "data": {
      "text/html": [
       "<table>\n",
       "    <tr>\n",
       "        <th>avg_djia</th>\n",
       "        <th>month</th>\n",
       "    </tr>\n",
       "    <tr>\n",
       "        <td>1474302.263157894737</td>\n",
       "        <td>01</td>\n",
       "    </tr>\n",
       "    <tr>\n",
       "        <td>1555665.600000000000</td>\n",
       "        <td>02</td>\n",
       "    </tr>\n",
       "    <tr>\n",
       "        <td>1519490.318181818182</td>\n",
       "        <td>03</td>\n",
       "    </tr>\n",
       "    <tr>\n",
       "        <td>1623446.714285714286</td>\n",
       "        <td>04</td>\n",
       "    </tr>\n",
       "    <tr>\n",
       "        <td>1542333.000000000000</td>\n",
       "        <td>05</td>\n",
       "    </tr>\n",
       "    <tr>\n",
       "        <td>1702942.272727272727</td>\n",
       "        <td>06</td>\n",
       "    </tr>\n",
       "    <tr>\n",
       "        <td>1834118.250000000000</td>\n",
       "        <td>07</td>\n",
       "    </tr>\n",
       "    <tr>\n",
       "        <td>1480967.956521739130</td>\n",
       "        <td>08</td>\n",
       "    </tr>\n",
       "    <tr>\n",
       "        <td>1513604.142857142857</td>\n",
       "        <td>09</td>\n",
       "    </tr>\n",
       "    <tr>\n",
       "        <td>1584887.095238095238</td>\n",
       "        <td>10</td>\n",
       "    </tr>\n",
       "    <tr>\n",
       "        <td>1550377.523809523810</td>\n",
       "        <td>11</td>\n",
       "    </tr>\n",
       "    <tr>\n",
       "        <td>1886545.523809523810</td>\n",
       "        <td>12</td>\n",
       "    </tr>\n",
       "</table>"
      ],
      "text/plain": [
       "[(Decimal('1474302.263157894737'), '01'),\n",
       " (Decimal('1555665.600000000000'), '02'),\n",
       " (Decimal('1519490.318181818182'), '03'),\n",
       " (Decimal('1623446.714285714286'), '04'),\n",
       " (Decimal('1542333.000000000000'), '05'),\n",
       " (Decimal('1702942.272727272727'), '06'),\n",
       " (Decimal('1834118.250000000000'), '07'),\n",
       " (Decimal('1480967.956521739130'), '08'),\n",
       " (Decimal('1513604.142857142857'), '09'),\n",
       " (Decimal('1584887.095238095238'), '10'),\n",
       " (Decimal('1550377.523809523810'), '11'),\n",
       " (Decimal('1886545.523809523810'), '12')]"
      ]
     },
     "execution_count": 123,
     "metadata": {},
     "output_type": "execute_result"
    }
   ],
   "source": [
    "%%sql\n",
    "SELECT AVG(DJIA) AS avg_DJIA, to_char(date, 'MM') as month\n",
    "FROM DJIA2016\n",
    "GROUP BY month\n",
    "ORDER BY month"
   ]
  },
  {
   "cell_type": "code",
   "execution_count": 124,
   "metadata": {
    "collapsed": true
   },
   "outputs": [],
   "source": [
    "DJIA = pd.read_sql('''SELECT AVG(DJIA) AS avg_DJIA, to_char(date, 'MM') as month\n",
    "FROM DJIA2016\n",
    "GROUP BY month\n",
    "ORDER BY month''',conn)"
   ]
  },
  {
   "cell_type": "code",
   "execution_count": 125,
   "metadata": {
    "collapsed": true
   },
   "outputs": [],
   "source": [
    "avg_DJIA =DJIA['avg_djia'].values\n",
    "month = DJIA['month'].values"
   ]
  },
  {
   "cell_type": "code",
   "execution_count": 126,
   "metadata": {},
   "outputs": [
    {
     "data": {
      "image/png": "[encoded data removed]",
      "text/plain": [
       "<matplotlib.figure.Figure at 0x7fced9a7e940>"
      ]
     },
     "metadata": {},
     "output_type": "display_data"
    }
   ],
   "source": [
    "plt.plot(month,avg_DJIA)\n",
    "plt.xlabel('month')\n",
    "plt.ylabel('avg_DJIA')\n",
    "plt.xticks(np.arange(1, 13, 1.0))\n",
    "plt.show()  "
   ]
  },
  {
   "cell_type": "markdown",
   "metadata": {},
   "source": [
    "The price has an inverse trend with the stock market.  This is very unexpected and cannot be explained.  Further exploration is required."
   ]
  }
 ],
 "metadata": {
  "kernelspec": {
   "display_name": "Python 3",
   "language": "python",
   "name": "python3"
  },
  "language_info": {
   "codemirror_mode": {
    "name": "ipython",
    "version": 3
   },
   "file_extension": ".py",
   "mimetype": "text/x-python",
   "name": "python",
   "nbconvert_exporter": "python",
   "pygments_lexer": "ipython3",
   "version": "3.6.3"
  }
 },
 "nbformat": 4,
 "nbformat_minor": 2
}
